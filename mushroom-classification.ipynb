{
 "cells": [
  {
   "cell_type": "code",
   "execution_count": 9,
   "metadata": {},
   "outputs": [],
   "source": [
    "import numpy as np \n",
    "import pandas as pd \n",
    "import matplotlib.pyplot as plt\n",
    "import seaborn as sns "
   ]
  },
  {
   "cell_type": "code",
   "execution_count": 10,
   "metadata": {},
   "outputs": [],
   "source": [
    "df = pd.read_csv(\"dataset/secondary_data.csv\",sep=\";\")"
   ]
  },
  {
   "cell_type": "code",
   "execution_count": 11,
   "metadata": {},
   "outputs": [
    {
     "data": {
      "text/html": [
       "<div>\n",
       "<style scoped>\n",
       "    .dataframe tbody tr th:only-of-type {\n",
       "        vertical-align: middle;\n",
       "    }\n",
       "\n",
       "    .dataframe tbody tr th {\n",
       "        vertical-align: top;\n",
       "    }\n",
       "\n",
       "    .dataframe thead th {\n",
       "        text-align: right;\n",
       "    }\n",
       "</style>\n",
       "<table border=\"1\" class=\"dataframe\">\n",
       "  <thead>\n",
       "    <tr style=\"text-align: right;\">\n",
       "      <th></th>\n",
       "      <th>class</th>\n",
       "      <th>cap-diameter</th>\n",
       "      <th>cap-shape</th>\n",
       "      <th>cap-surface</th>\n",
       "      <th>cap-color</th>\n",
       "      <th>does-bruise-or-bleed</th>\n",
       "      <th>gill-attachment</th>\n",
       "      <th>gill-spacing</th>\n",
       "      <th>gill-color</th>\n",
       "      <th>stem-height</th>\n",
       "      <th>...</th>\n",
       "      <th>stem-root</th>\n",
       "      <th>stem-surface</th>\n",
       "      <th>stem-color</th>\n",
       "      <th>veil-type</th>\n",
       "      <th>veil-color</th>\n",
       "      <th>has-ring</th>\n",
       "      <th>ring-type</th>\n",
       "      <th>spore-print-color</th>\n",
       "      <th>habitat</th>\n",
       "      <th>season</th>\n",
       "    </tr>\n",
       "  </thead>\n",
       "  <tbody>\n",
       "    <tr>\n",
       "      <th>0</th>\n",
       "      <td>p</td>\n",
       "      <td>15.26</td>\n",
       "      <td>x</td>\n",
       "      <td>g</td>\n",
       "      <td>o</td>\n",
       "      <td>f</td>\n",
       "      <td>e</td>\n",
       "      <td>NaN</td>\n",
       "      <td>w</td>\n",
       "      <td>16.95</td>\n",
       "      <td>...</td>\n",
       "      <td>s</td>\n",
       "      <td>y</td>\n",
       "      <td>w</td>\n",
       "      <td>u</td>\n",
       "      <td>w</td>\n",
       "      <td>t</td>\n",
       "      <td>g</td>\n",
       "      <td>NaN</td>\n",
       "      <td>d</td>\n",
       "      <td>w</td>\n",
       "    </tr>\n",
       "    <tr>\n",
       "      <th>1</th>\n",
       "      <td>p</td>\n",
       "      <td>16.60</td>\n",
       "      <td>x</td>\n",
       "      <td>g</td>\n",
       "      <td>o</td>\n",
       "      <td>f</td>\n",
       "      <td>e</td>\n",
       "      <td>NaN</td>\n",
       "      <td>w</td>\n",
       "      <td>17.99</td>\n",
       "      <td>...</td>\n",
       "      <td>s</td>\n",
       "      <td>y</td>\n",
       "      <td>w</td>\n",
       "      <td>u</td>\n",
       "      <td>w</td>\n",
       "      <td>t</td>\n",
       "      <td>g</td>\n",
       "      <td>NaN</td>\n",
       "      <td>d</td>\n",
       "      <td>u</td>\n",
       "    </tr>\n",
       "    <tr>\n",
       "      <th>2</th>\n",
       "      <td>p</td>\n",
       "      <td>14.07</td>\n",
       "      <td>x</td>\n",
       "      <td>g</td>\n",
       "      <td>o</td>\n",
       "      <td>f</td>\n",
       "      <td>e</td>\n",
       "      <td>NaN</td>\n",
       "      <td>w</td>\n",
       "      <td>17.80</td>\n",
       "      <td>...</td>\n",
       "      <td>s</td>\n",
       "      <td>y</td>\n",
       "      <td>w</td>\n",
       "      <td>u</td>\n",
       "      <td>w</td>\n",
       "      <td>t</td>\n",
       "      <td>g</td>\n",
       "      <td>NaN</td>\n",
       "      <td>d</td>\n",
       "      <td>w</td>\n",
       "    </tr>\n",
       "    <tr>\n",
       "      <th>3</th>\n",
       "      <td>p</td>\n",
       "      <td>14.17</td>\n",
       "      <td>f</td>\n",
       "      <td>h</td>\n",
       "      <td>e</td>\n",
       "      <td>f</td>\n",
       "      <td>e</td>\n",
       "      <td>NaN</td>\n",
       "      <td>w</td>\n",
       "      <td>15.77</td>\n",
       "      <td>...</td>\n",
       "      <td>s</td>\n",
       "      <td>y</td>\n",
       "      <td>w</td>\n",
       "      <td>u</td>\n",
       "      <td>w</td>\n",
       "      <td>t</td>\n",
       "      <td>p</td>\n",
       "      <td>NaN</td>\n",
       "      <td>d</td>\n",
       "      <td>w</td>\n",
       "    </tr>\n",
       "    <tr>\n",
       "      <th>4</th>\n",
       "      <td>p</td>\n",
       "      <td>14.64</td>\n",
       "      <td>x</td>\n",
       "      <td>h</td>\n",
       "      <td>o</td>\n",
       "      <td>f</td>\n",
       "      <td>e</td>\n",
       "      <td>NaN</td>\n",
       "      <td>w</td>\n",
       "      <td>16.53</td>\n",
       "      <td>...</td>\n",
       "      <td>s</td>\n",
       "      <td>y</td>\n",
       "      <td>w</td>\n",
       "      <td>u</td>\n",
       "      <td>w</td>\n",
       "      <td>t</td>\n",
       "      <td>p</td>\n",
       "      <td>NaN</td>\n",
       "      <td>d</td>\n",
       "      <td>w</td>\n",
       "    </tr>\n",
       "  </tbody>\n",
       "</table>\n",
       "<p>5 rows × 21 columns</p>\n",
       "</div>"
      ],
      "text/plain": [
       "  class  cap-diameter cap-shape cap-surface cap-color does-bruise-or-bleed  \\\n",
       "0     p         15.26         x           g         o                    f   \n",
       "1     p         16.60         x           g         o                    f   \n",
       "2     p         14.07         x           g         o                    f   \n",
       "3     p         14.17         f           h         e                    f   \n",
       "4     p         14.64         x           h         o                    f   \n",
       "\n",
       "  gill-attachment gill-spacing gill-color  stem-height  ...  stem-root  \\\n",
       "0               e          NaN          w        16.95  ...          s   \n",
       "1               e          NaN          w        17.99  ...          s   \n",
       "2               e          NaN          w        17.80  ...          s   \n",
       "3               e          NaN          w        15.77  ...          s   \n",
       "4               e          NaN          w        16.53  ...          s   \n",
       "\n",
       "  stem-surface stem-color veil-type veil-color has-ring ring-type  \\\n",
       "0            y          w         u          w        t         g   \n",
       "1            y          w         u          w        t         g   \n",
       "2            y          w         u          w        t         g   \n",
       "3            y          w         u          w        t         p   \n",
       "4            y          w         u          w        t         p   \n",
       "\n",
       "  spore-print-color habitat season  \n",
       "0               NaN       d      w  \n",
       "1               NaN       d      u  \n",
       "2               NaN       d      w  \n",
       "3               NaN       d      w  \n",
       "4               NaN       d      w  \n",
       "\n",
       "[5 rows x 21 columns]"
      ]
     },
     "execution_count": 11,
     "metadata": {},
     "output_type": "execute_result"
    }
   ],
   "source": [
    "df.head()"
   ]
  },
  {
   "cell_type": "code",
   "execution_count": 12,
   "metadata": {},
   "outputs": [
    {
     "name": "stdout",
     "output_type": "stream",
     "text": [
      "<class 'pandas.core.frame.DataFrame'>\n",
      "RangeIndex: 61069 entries, 0 to 61068\n",
      "Data columns (total 21 columns):\n",
      " #   Column                Non-Null Count  Dtype  \n",
      "---  ------                --------------  -----  \n",
      " 0   class                 61069 non-null  object \n",
      " 1   cap-diameter          61069 non-null  float64\n",
      " 2   cap-shape             61069 non-null  object \n",
      " 3   cap-surface           46949 non-null  object \n",
      " 4   cap-color             61069 non-null  object \n",
      " 5   does-bruise-or-bleed  61069 non-null  object \n",
      " 6   gill-attachment       51185 non-null  object \n",
      " 7   gill-spacing          36006 non-null  object \n",
      " 8   gill-color            61069 non-null  object \n",
      " 9   stem-height           61069 non-null  float64\n",
      " 10  stem-width            61069 non-null  float64\n",
      " 11  stem-root             9531 non-null   object \n",
      " 12  stem-surface          22945 non-null  object \n",
      " 13  stem-color            61069 non-null  object \n",
      " 14  veil-type             3177 non-null   object \n",
      " 15  veil-color            7413 non-null   object \n",
      " 16  has-ring              61069 non-null  object \n",
      " 17  ring-type             58598 non-null  object \n",
      " 18  spore-print-color     6354 non-null   object \n",
      " 19  habitat               61069 non-null  object \n",
      " 20  season                61069 non-null  object \n",
      "dtypes: float64(3), object(18)\n",
      "memory usage: 9.8+ MB\n"
     ]
    }
   ],
   "source": [
    "df.info()"
   ]
  },
  {
   "cell_type": "markdown",
   "metadata": {},
   "source": [
    "# Data Exploration"
   ]
  },
  {
   "cell_type": "markdown",
   "metadata": {},
   "source": [
    "## Visualizzazione del numero delle classi del dataset "
   ]
  },
  {
   "cell_type": "code",
   "execution_count": 40,
   "metadata": {},
   "outputs": [
    {
     "name": "stderr",
     "output_type": "stream",
     "text": [
      "c:\\Users\\danil\\AppData\\Local\\Programs\\Python\\Python310\\lib\\site-packages\\seaborn\\_decorators.py:36: FutureWarning: Pass the following variables as keyword args: x, y. From version 0.12, the only valid positional argument will be `data`, and passing other arguments without an explicit keyword will result in an error or misinterpretation.\n",
      "  warnings.warn(\n"
     ]
    },
    {
     "data": {
      "image/png": "[encoded data removed]",
      "text/plain": [
       "<Figure size 576x504 with 1 Axes>"
      ]
     },
     "metadata": {
      "needs_background": "light"
     },
     "output_type": "display_data"
    }
   ],
   "source": [
    "count = df['class'].value_counts()\n",
    "plt.figure(figsize=(8,7))\n",
    "#barplot(x = count.index p/e , y = count.values valori di p/e)\n",
    "colors = ['#ADFF2F', '#DA70D6']\n",
    "ax = sns.barplot(count.index, count.values, alpha=0.8, palette = colors)\n",
    "ax.bar_label(ax.containers[0])\n",
    "edible_bars = ax.bar(1,10,color='#ADFF2F')\n",
    "poison_bars = ax.bar(1,1,color='#DA70D6')\n",
    "ax.legend((edible_bars,poison_bars),('edible','poisonous'),fontsize=17)\n",
    "plt.ylabel('Count', fontsize=12)\n",
    "plt.xlabel('Class', fontsize=12)\n",
    "plt.title('Number of poisonous/edible mushrooms')\n",
    "#plt.savefig(\"mushrooms1.png\", format='png', dpi=500)\n",
    "plt.show()"
   ]
  },
  {
   "cell_type": "markdown",
   "metadata": {},
   "source": [
    "## Distribuzione Colonne"
   ]
  },
  {
   "cell_type": "code",
   "execution_count": 14,
   "metadata": {},
   "outputs": [],
   "source": [
    "# Distribution graphs (histogram/bar graph) of column data\n",
    "def plotPerColumnDistribution(df, nGraphShown, nGraphPerRow):\n",
    "    nunique = df.nunique()\n",
    "    df = df[[col for col in df if nunique[col] > 1 and nunique[col] < 50]] # For displaying purposes, pick columns that have between 1 and 50 unique values\n",
    "    nRow, nCol = df.shape\n",
    "    columnNames = list(df)\n",
    "    nGraphRow = (nCol + nGraphPerRow - 1) / nGraphPerRow\n",
    "    plt.figure(num = None, figsize = (6 * nGraphPerRow, 8 * nGraphRow), dpi = 80, facecolor = 'w', edgecolor = 'k')\n",
    "    for i in range(min(nCol, nGraphShown)):\n",
    "        plt.subplot(nGraphRow, nGraphPerRow, i + 1)\n",
    "        columnDf = df.iloc[:, i]\n",
    "        if (not np.issubdtype(type(columnDf.iloc[0]), np.number)):\n",
    "            valueCounts = columnDf.value_counts()\n",
    "            valueCounts.plot.bar()\n",
    "        else:\n",
    "            columnDf.hist()\n",
    "        plt.ylabel('counts')\n",
    "        plt.xticks(rotation = 90)\n",
    "        plt.title(f'{columnNames[i]} (column {i})')\n",
    "    plt.tight_layout(pad = 1.0, w_pad = 1.0, h_pad = 1.0)\n",
    "    plt.show()"
   ]
  },
  {
   "cell_type": "code",
   "execution_count": 21,
   "metadata": {},
   "outputs": [],
   "source": [
    "# Correlation matrix\n",
    "def plotCorrelationMatrix(df, graphWidth):\n",
    "    filename = \"Mushrooms\"\n",
    "    df = df.dropna('columns') # drop columns with NaN\n",
    "    df = df[[col for col in df if df[col].nunique() > 1]] # keep columns where there are more than 1 unique values\n",
    "    if df.shape[1] < 2:\n",
    "        print(f'No correlation plots shown: The number of non-NaN or constant columns ({df.shape[1]}) is less than 2')\n",
    "        return\n",
    "    corr = df.corr()\n",
    "    plt.figure(num=None, figsize=(graphWidth, graphWidth), dpi=80, facecolor='w', edgecolor='k')\n",
    "    corrMat = plt.matshow(corr, fignum = 1)\n",
    "    plt.xticks(range(len(corr.columns)), corr.columns, rotation=90)\n",
    "    plt.yticks(range(len(corr.columns)), corr.columns)\n",
    "    plt.gca().xaxis.tick_bottom()\n",
    "    plt.colorbar(corrMat)\n",
    "    plt.title(f'Correlation Matrix for {filename}', fontsize=15)\n",
    "    plt.show()"
   ]
  },
  {
   "cell_type": "code",
   "execution_count": 16,
   "metadata": {},
   "outputs": [],
   "source": [
    "# Scatter and density plots\n",
    "def plotScatterMatrix(df, plotSize, textSize):\n",
    "    df = df.select_dtypes(include =[np.number]) # keep only numerical columns\n",
    "    # Remove rows and columns that would lead to df being singular\n",
    "    df = df.dropna('columns')\n",
    "    df = df[[col for col in df if df[col].nunique() > 1]] # keep columns where there are more than 1 unique values\n",
    "    columnNames = list(df)\n",
    "    if len(columnNames) > 10: # reduce the number of columns for matrix inversion of kernel density plots\n",
    "        columnNames = columnNames[:10]\n",
    "    df = df[columnNames]\n",
    "    ax = pd.plotting.scatter_matrix(df, alpha=0.75, figsize=[plotSize, plotSize], diagonal='kde')\n",
    "    corrs = df.corr().values\n",
    "    for i, j in zip(*plt.np.triu_indices_from(ax, k = 1)):\n",
    "        ax[i, j].annotate('Corr. coef = %.3f' % corrs[i, j], (0.8, 0.2), xycoords='axes fraction', ha='center', va='center', size=textSize)\n",
    "    plt.suptitle('Scatter and Density Plot')\n",
    "    plt.show()"
   ]
  },
  {
   "cell_type": "code",
   "execution_count": 28,
   "metadata": {},
   "outputs": [
    {
     "ename": "ValueError",
     "evalue": "Number of rows must be a positive integer, not 17.0",
     "output_type": "error",
     "traceback": [
      "\u001b[1;31m---------------------------------------------------------------------------\u001b[0m",
      "\u001b[1;31mValueError\u001b[0m                                Traceback (most recent call last)",
      "\u001b[1;32mc:\\Users\\danil\\code\\ml-project\\mushroom-classification.ipynb Cell 12'\u001b[0m in \u001b[0;36m<cell line: 1>\u001b[1;34m()\u001b[0m\n\u001b[1;32m----> <a href='vscode-notebook-cell:/c%3A/Users/danil/code/ml-project/mushroom-classification.ipynb#ch0000014?line=0'>1</a>\u001b[0m plotPerColumnDistribution(df, \u001b[39m19\u001b[39;49m, \u001b[39m1\u001b[39;49m)\n",
      "\u001b[1;32mc:\\Users\\danil\\code\\ml-project\\mushroom-classification.ipynb Cell 9'\u001b[0m in \u001b[0;36mplotPerColumnDistribution\u001b[1;34m(df, nGraphShown, nGraphPerRow)\u001b[0m\n\u001b[0;32m      <a href='vscode-notebook-cell:/c%3A/Users/danil/code/ml-project/mushroom-classification.ipynb#ch0000011?line=7'>8</a>\u001b[0m plt\u001b[39m.\u001b[39mfigure(num \u001b[39m=\u001b[39m \u001b[39mNone\u001b[39;00m, figsize \u001b[39m=\u001b[39m (\u001b[39m6\u001b[39m \u001b[39m*\u001b[39m nGraphPerRow, \u001b[39m8\u001b[39m \u001b[39m*\u001b[39m nGraphRow), dpi \u001b[39m=\u001b[39m \u001b[39m80\u001b[39m, facecolor \u001b[39m=\u001b[39m \u001b[39m'\u001b[39m\u001b[39mw\u001b[39m\u001b[39m'\u001b[39m, edgecolor \u001b[39m=\u001b[39m \u001b[39m'\u001b[39m\u001b[39mk\u001b[39m\u001b[39m'\u001b[39m)\n\u001b[0;32m      <a href='vscode-notebook-cell:/c%3A/Users/danil/code/ml-project/mushroom-classification.ipynb#ch0000011?line=8'>9</a>\u001b[0m \u001b[39mfor\u001b[39;00m i \u001b[39min\u001b[39;00m \u001b[39mrange\u001b[39m(\u001b[39mmin\u001b[39m(nCol, nGraphShown)):\n\u001b[1;32m---> <a href='vscode-notebook-cell:/c%3A/Users/danil/code/ml-project/mushroom-classification.ipynb#ch0000011?line=9'>10</a>\u001b[0m     plt\u001b[39m.\u001b[39;49msubplot(nGraphRow, nGraphPerRow, i \u001b[39m+\u001b[39;49m \u001b[39m1\u001b[39;49m)\n\u001b[0;32m     <a href='vscode-notebook-cell:/c%3A/Users/danil/code/ml-project/mushroom-classification.ipynb#ch0000011?line=10'>11</a>\u001b[0m     columnDf \u001b[39m=\u001b[39m df\u001b[39m.\u001b[39miloc[:, i]\n\u001b[0;32m     <a href='vscode-notebook-cell:/c%3A/Users/danil/code/ml-project/mushroom-classification.ipynb#ch0000011?line=11'>12</a>\u001b[0m     \u001b[39mif\u001b[39;00m (\u001b[39mnot\u001b[39;00m np\u001b[39m.\u001b[39missubdtype(\u001b[39mtype\u001b[39m(columnDf\u001b[39m.\u001b[39miloc[\u001b[39m0\u001b[39m]), np\u001b[39m.\u001b[39mnumber)):\n",
      "File \u001b[1;32mc:\\Users\\danil\\AppData\\Local\\Programs\\Python\\Python310\\lib\\site-packages\\matplotlib\\pyplot.py:1289\u001b[0m, in \u001b[0;36msubplot\u001b[1;34m(*args, **kwargs)\u001b[0m\n\u001b[0;32m   1286\u001b[0m fig \u001b[39m=\u001b[39m gcf()\n\u001b[0;32m   1288\u001b[0m \u001b[39m# First, search for an existing subplot with a matching spec.\u001b[39;00m\n\u001b[1;32m-> 1289\u001b[0m key \u001b[39m=\u001b[39m SubplotSpec\u001b[39m.\u001b[39;49m_from_subplot_args(fig, args)\n\u001b[0;32m   1291\u001b[0m \u001b[39mfor\u001b[39;00m ax \u001b[39min\u001b[39;00m fig\u001b[39m.\u001b[39maxes:\n\u001b[0;32m   1292\u001b[0m     \u001b[39m# if we found an axes at the position sort out if we can re-use it\u001b[39;00m\n\u001b[0;32m   1293\u001b[0m     \u001b[39mif\u001b[39;00m \u001b[39mhasattr\u001b[39m(ax, \u001b[39m'\u001b[39m\u001b[39mget_subplotspec\u001b[39m\u001b[39m'\u001b[39m) \u001b[39mand\u001b[39;00m ax\u001b[39m.\u001b[39mget_subplotspec() \u001b[39m==\u001b[39m key:\n\u001b[0;32m   1294\u001b[0m         \u001b[39m# if the user passed no kwargs, re-use\u001b[39;00m\n",
      "File \u001b[1;32mc:\\Users\\danil\\AppData\\Local\\Programs\\Python\\Python310\\lib\\site-packages\\matplotlib\\gridspec.py:597\u001b[0m, in \u001b[0;36mSubplotSpec._from_subplot_args\u001b[1;34m(figure, args)\u001b[0m\n\u001b[0;32m    593\u001b[0m \u001b[39melse\u001b[39;00m:\n\u001b[0;32m    594\u001b[0m     \u001b[39mraise\u001b[39;00m \u001b[39mTypeError\u001b[39;00m(\u001b[39mf\u001b[39m\u001b[39m\"\u001b[39m\u001b[39msubplot() takes 1 or 3 positional arguments but \u001b[39m\u001b[39m\"\u001b[39m\n\u001b[0;32m    595\u001b[0m                     \u001b[39mf\u001b[39m\u001b[39m\"\u001b[39m\u001b[39m{\u001b[39;00m\u001b[39mlen\u001b[39m(args)\u001b[39m}\u001b[39;00m\u001b[39m were given\u001b[39m\u001b[39m\"\u001b[39m)\n\u001b[1;32m--> 597\u001b[0m gs \u001b[39m=\u001b[39m GridSpec\u001b[39m.\u001b[39;49m_check_gridspec_exists(figure, rows, cols)\n\u001b[0;32m    598\u001b[0m \u001b[39mif\u001b[39;00m gs \u001b[39mis\u001b[39;00m \u001b[39mNone\u001b[39;00m:\n\u001b[0;32m    599\u001b[0m     gs \u001b[39m=\u001b[39m GridSpec(rows, cols, figure\u001b[39m=\u001b[39mfigure)\n",
      "File \u001b[1;32mc:\\Users\\danil\\AppData\\Local\\Programs\\Python\\Python310\\lib\\site-packages\\matplotlib\\gridspec.py:225\u001b[0m, in \u001b[0;36mGridSpecBase._check_gridspec_exists\u001b[1;34m(figure, nrows, ncols)\u001b[0m\n\u001b[0;32m    223\u001b[0m             \u001b[39mreturn\u001b[39;00m gs\n\u001b[0;32m    224\u001b[0m \u001b[39m# else gridspec not found:\u001b[39;00m\n\u001b[1;32m--> 225\u001b[0m \u001b[39mreturn\u001b[39;00m GridSpec(nrows, ncols, figure\u001b[39m=\u001b[39;49mfigure)\n",
      "File \u001b[1;32mc:\\Users\\danil\\AppData\\Local\\Programs\\Python\\Python310\\lib\\site-packages\\matplotlib\\gridspec.py:385\u001b[0m, in \u001b[0;36mGridSpec.__init__\u001b[1;34m(self, nrows, ncols, figure, left, bottom, right, top, wspace, hspace, width_ratios, height_ratios)\u001b[0m\n\u001b[0;32m    382\u001b[0m \u001b[39mself\u001b[39m\u001b[39m.\u001b[39mhspace \u001b[39m=\u001b[39m hspace\n\u001b[0;32m    383\u001b[0m \u001b[39mself\u001b[39m\u001b[39m.\u001b[39mfigure \u001b[39m=\u001b[39m figure\n\u001b[1;32m--> 385\u001b[0m \u001b[39msuper\u001b[39;49m()\u001b[39m.\u001b[39;49m\u001b[39m__init__\u001b[39;49m(nrows, ncols,\n\u001b[0;32m    386\u001b[0m                  width_ratios\u001b[39m=\u001b[39;49mwidth_ratios,\n\u001b[0;32m    387\u001b[0m                  height_ratios\u001b[39m=\u001b[39;49mheight_ratios)\n",
      "File \u001b[1;32mc:\\Users\\danil\\AppData\\Local\\Programs\\Python\\Python310\\lib\\site-packages\\matplotlib\\gridspec.py:49\u001b[0m, in \u001b[0;36mGridSpecBase.__init__\u001b[1;34m(self, nrows, ncols, height_ratios, width_ratios)\u001b[0m\n\u001b[0;32m     34\u001b[0m \u001b[39m\"\"\"\u001b[39;00m\n\u001b[0;32m     35\u001b[0m \u001b[39mParameters\u001b[39;00m\n\u001b[0;32m     36\u001b[0m \u001b[39m----------\u001b[39;00m\n\u001b[1;32m   (...)\u001b[0m\n\u001b[0;32m     46\u001b[0m \u001b[39m    If not given, all rows will have the same height.\u001b[39;00m\n\u001b[0;32m     47\u001b[0m \u001b[39m\"\"\"\u001b[39;00m\n\u001b[0;32m     48\u001b[0m \u001b[39mif\u001b[39;00m \u001b[39mnot\u001b[39;00m \u001b[39misinstance\u001b[39m(nrows, Integral) \u001b[39mor\u001b[39;00m nrows \u001b[39m<\u001b[39m\u001b[39m=\u001b[39m \u001b[39m0\u001b[39m:\n\u001b[1;32m---> 49\u001b[0m     \u001b[39mraise\u001b[39;00m \u001b[39mValueError\u001b[39;00m(\n\u001b[0;32m     50\u001b[0m         \u001b[39mf\u001b[39m\u001b[39m\"\u001b[39m\u001b[39mNumber of rows must be a positive integer, not \u001b[39m\u001b[39m{\u001b[39;00mnrows\u001b[39m!r}\u001b[39;00m\u001b[39m\"\u001b[39m)\n\u001b[0;32m     51\u001b[0m \u001b[39mif\u001b[39;00m \u001b[39mnot\u001b[39;00m \u001b[39misinstance\u001b[39m(ncols, Integral) \u001b[39mor\u001b[39;00m ncols \u001b[39m<\u001b[39m\u001b[39m=\u001b[39m \u001b[39m0\u001b[39m:\n\u001b[0;32m     52\u001b[0m     \u001b[39mraise\u001b[39;00m \u001b[39mValueError\u001b[39;00m(\n\u001b[0;32m     53\u001b[0m         \u001b[39mf\u001b[39m\u001b[39m\"\u001b[39m\u001b[39mNumber of columns must be a positive integer, not \u001b[39m\u001b[39m{\u001b[39;00mncols\u001b[39m!r}\u001b[39;00m\u001b[39m\"\u001b[39m)\n",
      "\u001b[1;31mValueError\u001b[0m: Number of rows must be a positive integer, not 17.0"
     ]
    },
    {
     "data": {
      "text/plain": [
       "<Figure size 480x10880 with 0 Axes>"
      ]
     },
     "metadata": {},
     "output_type": "display_data"
    }
   ],
   "source": [
    "plotPerColumnDistribution(df, 19, 1)\n",
    "#plotScatterMatrix(df,10,5)\n",
    "#plotCorrelationMatrix(df, 10)ty+ù"
   ]
  }
 ],
 "metadata": {
  "kernelspec": {
   "display_name": "Python 3.10.2 64-bit",
   "language": "python",
   "name": "python3"
  },
  "language_info": {
   "codemirror_mode": {
    "name": "ipython",
    "version": 3
   },
   "file_extension": ".py",
   "mimetype": "text/x-python",
   "name": "python",
   "nbconvert_exporter": "python",
   "pygments_lexer": "ipython3",
   "version": "3.10.2"
  },
  "orig_nbformat": 4,
  "vscode": {
   "interpreter": {
    "hash": "cd33f47137b00f9a3c223ad7cd7ea8009173bfffa8c9627ff61bae578e5b56e2"
   }
  }
 },
 "nbformat": 4,
 "nbformat_minor": 2
}
