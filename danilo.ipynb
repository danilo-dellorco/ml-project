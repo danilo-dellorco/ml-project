{
 "cells": [
  {
   "cell_type": "markdown",
   "metadata": {
    "jp-MarkdownHeadingCollapsed": true,
    "tags": []
   },
   "source": [
    "# Introduzione"
   ]
  },
  {
   "cell_type": "markdown",
   "metadata": {},
   "source": [
    "L'obiettivo è quello di utilizzare il dataset [Patient Survival Prediction](https://www.kaggle.com/datasets/mitishaagarwal/patient) per effettuare il training diversi classificatori, al fine di predirre se un paziente sopravvivrà o morirà sulla base dei *parametri vitali* registrati al momento dell'ingresso in ospedale. Per fare ciò si effettua innanzitutto una fase di **Data Exploration**, in modo da ricavare informazioni utili sui dati da utilizzare, e comprendere quali sono le feature probabilmente più rilevanti ai fini della classificazione. Dopo aver splittato il dataset in **Testing e Training Set**, si procede conj l'**Ingegneria delle Features** sul Training Set, rimuovendo le features con *valori nulli*, *poco correlate* con il target, ed applicando la *feature selection*. Successivamente si esegue una fase di **Model Selection** sui vari classificatori considerati, effettuando il *tuning dei loro iperparametri*. Infine, si eseguono tutti i **Classificatori** con le features ed i parametri individuati in precedenza, effettuando un confronto tra le prestazioni ottenute.\n",
    "\n",
    "Il notebook è composto come segue:\n",
    "\n",
    "- Operazioni Preliminari\n",
    "    - Installazione dipendenze\n",
    "    - Import delle Librerie\n",
    "    - Caricamento del sataset\n",
    "    - Funzioni e variabili user-defined\n",
    "\n",
    "- Data Exploration\n",
    "    - Descrizione del Dataset\n",
    "    - Bilanciamento delle classi\n",
    "    - Distribuzione delle Features\n",
    "    - Visualizzazione campi non nulli\n",
    "    - Conversione Features e Mapping\n",
    "    - Correlazione tra le Features\n",
    "    - Analisi delle Features\n",
    "    \n",
    "- Features Engineering\n",
    "    - \n",
    "- Model Selection\n",
    "- Classificazione\n",
    "- Contronto e Conclusioni"
   ]
  },
  {
   "cell_type": "markdown",
   "metadata": {
    "jp-MarkdownHeadingCollapsed": true,
    "tags": []
   },
   "source": [
    "# Operazioni Preliminari"
   ]
  },
  {
   "cell_type": "markdown",
   "metadata": {},
   "source": [
    "Descriviamo le operazioni preliminari, necessarie per l'esecuzione delle varie celle nel notebook."
   ]
  },
  {
   "cell_type": "markdown",
   "metadata": {},
   "source": [
    "### Installazione Dipendenze"
   ]
  },
  {
   "cell_type": "markdown",
   "metadata": {},
   "source": [
    "Prima di eseguire l'import delle librerie, è necessario che tutte queste siano installate sulla macchina locale. Per questo nel file `requirements` sono specificate tutte le dipendenze necessarie, facilmente installabili lanciando dalla directory del progetto il comando:"
   ]
  },
  {
   "cell_type": "markdown",
   "metadata": {},
   "source": [
    "```\n",
    "pip install -r requirements\n",
    "```"
   ]
  },
  {
   "cell_type": "markdown",
   "metadata": {},
   "source": [
    "### Import delle Librerie"
   ]
  },
  {
   "cell_type": "code",
   "execution_count": null,
   "metadata": {},
   "outputs": [],
   "source": [
    "import pandas as pd\n",
    "import numpy as np\n",
    "import matplotlib.pyplot as plt\n",
    "import seaborn as sns\n",
    "from sklearn.preprocessing import LabelEncoder\n",
    "from sklearn.base import BaseEstimator\n",
    "from sklearn.base import TransformerMixin\n",
    "from sklearn.impute import KNNImputer\n",
    "from sklearn.feature_selection import VarianceThreshold\n",
    "from sklearn.model_selection import train_test_split\n",
    "from sklearn.linear_model import LogisticRegression\n",
    "from sklearn.tree import DecisionTreeClassifier\n",
    "from sklearn.ensemble import RandomForestClassifier, AdaBoostClassifier\n",
    "from sklearn.discriminant_analysis import LinearDiscriminantAnalysis \n",
    "from sklearn.naive_bayes import GaussianNB\n",
    "from sklearn.metrics import classification_report, confusion_matrix\n",
    "from sklearn.decomposition import PCA\n",
    "from imblearn.under_sampling import RandomUnderSampler\n",
    "from imblearn.over_sampling import RandomOverSampler\n",
    "from imblearn.over_sampling import SMOTE\n",
    "from sklearn.svm import SVC\n",
    "from sklearn.pipeline import Pipeline\n",
    "from sklearn.preprocessing import StandardScaler\n",
    "from sklearn.model_selection import GridSearchCV\n",
    "\n",
    "from sklearn.neural_network import MLPClassifier\n",
    "from sklearn.neighbors import KNeighborsClassifier\n",
    "\n",
    "import statsmodels.api as sm\n",
    "import warnings\n",
    "from sklearn.naive_bayes import BernoulliNB"
   ]
  },
  {
   "cell_type": "markdown",
   "metadata": {},
   "source": [
    "### Caricamento del Dataset"
   ]
  },
  {
   "cell_type": "markdown",
   "metadata": {},
   "source": [
    "Caricamento del dataset `csv` in `Dataframe` tramite `pandas`"
   ]
  },
  {
   "cell_type": "code",
   "execution_count": null,
   "metadata": {},
   "outputs": [],
   "source": [
    "dataset = pd.read_csv(\"dataset/dataset.csv\", sep=\",\")\n",
    "dataset_bak = dataset\n",
    "print(dataset.shape)\n",
    "dataset.head()"
   ]
  },
  {
   "cell_type": "markdown",
   "metadata": {},
   "source": [
    "### Funzioni e variabili user-defined"
   ]
  },
  {
   "cell_type": "markdown",
   "metadata": {},
   "source": [
    "Effettuiamo la definizione di tutte le funzioni utilizzate nel notebook."
   ]
  },
  {
   "cell_type": "code",
   "execution_count": null,
   "metadata": {},
   "outputs": [],
   "source": [
    "global trainX                   # Righe del training set\n",
    "global testX                    # Righe del testing set\n",
    "global trainY                   # Colonna target del training set\n",
    "global testY                    # Colonna target del testing set\n",
    "global important_features       # Lista delle feature individuate nell'analisi preliminare\n",
    "global correlation_matrix       # Matrice di correlazione tra le features\n",
    "\n",
    "global trainX_og                # Mantiene una copia del training set originale, per il confronto delle prestazioni dopo la feature selection\n",
    "global testX_og                 # Mantiene una copia del testing set originale, per il confronto delle prestazioni dopo la feature selection\n",
    "global scores_dict              # Dizionario che mantiene tutti i risultati delle classificazioni effettuate\n",
    "\n",
    "global scores_original          # Dataframe che mantiene i risultati della classificazioni sul dataset originale\n",
    "global scores                   # Dataframe che mantiene i risultati delle classificazioni dopo la feature selection\n",
    "\n",
    "\n",
    "important_features = []\n",
    "scores_dict = {}"
   ]
  },
  {
   "cell_type": "code",
   "execution_count": 143,
   "metadata": {},
   "outputs": [],
   "source": [
    "# ---------------------------------------------------------------------------------------------------------------------------------------------------\n",
    "# Rimuove le features columns_list specificate dal training set\n",
    "# ---------------------------------------------------------------------------------------------------------------------------------------------------\n",
    "def drop_features_from_trainset(columns_list):\n",
    "    global trainX,testX\n",
    "    trainX_tmp = trainX.copy()\n",
    "    trainX = trainX.drop(columns=columns_list)\n",
    "    testX = testX.drop(columns=columns_list)\n",
    "\n",
    "    if (len(trainX_tmp.columns) - len(trainX.columns)) != 0:\n",
    "        print (\"Training Set Updated:\",trainX_tmp.shape,\"->\",trainX.shape)\n",
    "    else:\n",
    "        print (\"No features dropped!\")\n",
    "# ---------------------------------------------------------------------------------------------------------------------------------------------------\n",
    "\n",
    "# ---------------------------------------------------------------------------------------------------------------------------------------------------\n",
    "# Ottiene la lista di features con correlazione rispetto al target inferiore alla threshold specificata\n",
    "# ---------------------------------------------------------------------------------------------------------------------------------------------------\n",
    "def get_low_correlated_features(threshold):\n",
    "    td = []\n",
    "    for feature in trainX.columns:\n",
    "        ind = trainX.columns.get_loc(feature)\n",
    "        target_corr = correlation_matrix.values[-1][ind]\n",
    "        if (target_corr>=-threshold and target_corr<0) or (target_corr<=threshold and target_corr>0):\n",
    "            td.append(feature)\n",
    "    return td\n",
    "# ---------------------------------------------------------------------------------------------------------------------------------------------------\n",
    "\n",
    "# ---------------------------------------------------------------------------------------------------------------------------------------------------\n",
    "# Ottiene la percentuale di valori nulli per ogni feature del dataset, ritornando quelle colonne cui %NaN supera una certa threshold\n",
    "# ---------------------------------------------------------------------------------------------------------------------------------------------------\n",
    "def plot_nas(datasetX, use_threshold, threshold=None):\n",
    "    to_delete = []\n",
    "    if datasetX.isnull().sum().sum() != 0:\n",
    "        na_datasetX = (datasetX.isnull().sum() / len(datasetX)) * 100\n",
    "        na_datasetX = na_datasetX.drop(na_datasetX[na_datasetX == 0].index).sort_values(ascending=False)\n",
    "        to_delete = na_datasetX[na_datasetX > threshold]\n",
    "\n",
    "        missing_data = pd.DataFrame({'Null Ratio %' :na_datasetX})\n",
    "        missing_data.plot(kind = \"barh\")\n",
    "        plt.rcParams['figure.figsize'] = (20,20)\n",
    "\n",
    "        if use_threshold:\n",
    "            plt.axvline(x=threshold, color='red')\n",
    "        plt.show()\n",
    "        \n",
    "    else:\n",
    "        print('No NaNs found')\n",
    "        return None\n",
    "    \n",
    "    if use_threshold:\n",
    "        print(to_delete.index.tolist())\n",
    "    return to_delete.index.tolist()\n",
    "# ---------------------------------------------------------------------------------------------------------------------------------------------------\n",
    "\n",
    "# ---------------------------------------------------------------------------------------------------------------------------------------------------\n",
    "# Mostra la matrice di confusione a seguito della classificazione\n",
    "# ---------------------------------------------------------------------------------------------------------------------------------------------------\n",
    "def show_confusion_matrix(cm,model_name):\n",
    "    x_axis_labels = [\"Dead\", \"Survived\"]\n",
    "    y_axis_labels = [\"Dead\", \"Survived\"]\n",
    "    f, ax = plt.subplots(figsize =(7,7))\n",
    "    sns.heatmap(cm, annot = True, linewidths=0.2, linecolor=\"black\", fmt = \".0f\", ax=ax, cmap=\"Reds\", xticklabels=x_axis_labels, yticklabels=y_axis_labels)\n",
    "    plt.xlabel(\"PREDICTED LABEL\")\n",
    "    plt.ylabel(\"TRUE LABEL\")\n",
    "    plt.title('Confusion Matrix for {}'.format(model_name))\n",
    "    plt.show()\n",
    "# ---------------------------------------------------------------------------------------------------------------------------------------------------\n",
    "\n",
    "# ---------------------------------------------------------------------------------------------------------------------------------------------------\n",
    "# Aggiunge i risultati di un classificatore al dizionario globale dei risultati.\n",
    "# ---------------------------------------------------------------------------------------------------------------------------------------------------\n",
    "def add_score(model_name,experiment,conf_matrix, report):\n",
    "    TP,FN,FP,TN = conf_matrix.ravel()\n",
    "    \n",
    "    scores_dict[model_name] = {\n",
    "        'Precision' : report['1']['precision'],\n",
    "        'Accuracy' : report['accuracy'],\n",
    "\n",
    "        'TPR (recall)': TP/(TP+FN),\n",
    "        'FNR': FN/(TP+FN),   \n",
    "        'TNR': TN/(TN+FP),\n",
    "        'FPR': FP/(TN+FP),\n",
    "\n",
    "        'experiment' : experiment\n",
    "    }\n",
    "# ---------------------------------------------------------------------------------------------------------------------------------------------------\n",
    "\n",
    "# ---------------------------------------------------------------------------------------------------------------------------------------------------\n",
    "# Esegue i tre classificatori usati per il benchmark, oppure un modello specifico se indicato esplicitamente tra i parametri.\n",
    "# ---------------------------------------------------------------------------------------------------------------------------------------------------\n",
    "def run_classifications(tr_x,train_Y,te_x,test_Y,fill=None,model=None,model_name=None,experiment=None,show_report=False):\n",
    "    train_X = tr_x.copy()\n",
    "    test_X = te_x.copy()\n",
    "\n",
    "    if fill:\n",
    "        train_X = train_X.fillna(-1)\n",
    "    \n",
    "    test_X = test_X.fillna(-1)\n",
    "    \n",
    "    if model == None:\n",
    "        lrc = LogisticRegression(solver=\"liblinear\")\n",
    "        rdt = DecisionTreeClassifier()\n",
    "        gnb = GaussianNB()\n",
    "\n",
    "        models = [(lrc, \"Logistic Regression Classifier\"),\n",
    "                  (rdt, \"Decision Tree Classifier\"),\n",
    "                  (gnb, \"Gaussian Naive Bayes Classifier\")]\n",
    "    else:\n",
    "        models = [(model,model_name)]\n",
    "\n",
    "    for model in models:\n",
    "        model[0].fit(train_X, train_Y)\n",
    "        predicted = model[0].predict(test_X)\n",
    "        report = classification_report(test_Y,predicted,output_dict=True)\n",
    "        cm = confusion_matrix(test_Y, predicted, labels =[1, 0])\n",
    "        add_score(model[1],experiment,cm,report)\n",
    "        if show_report:\n",
    "            report_print = classification_report(test_Y,predicted)\n",
    "            print(model[1], \"report: \\n\\n\", report_print)\n",
    "            show_confusion_matrix(cm,model[1])\n",
    "# ---------------------------------------------------------------------------------------------------------------------------------------------------\n",
    "\n",
    "# ---------------------------------------------------------------------------------------------------------------------------------------------------\n",
    "# Esegue la feature selection tramite Backward Regression, ritornando le colonne rimosse dalle features\n",
    "# ---------------------------------------------------------------------------------------------------------------------------------------------------\n",
    "def backward_regression(X, y, threshold_out=0.05):\n",
    "    included = list(X.columns)\n",
    "    recover = []\n",
    "    removed = []\n",
    "    \n",
    "    while True:\n",
    "        changed = False\n",
    "        model = sm.Logit(y, sm.add_constant(pd.DataFrame(X[included]))).fit(disp=False)\n",
    "        pvalues = model.pvalues.iloc[1:]\n",
    "        print (pvalues)\n",
    "        worst_pval = pvalues.max()  # null if pvalues is empty\n",
    "        if worst_pval > threshold_out:\n",
    "            changed = True\n",
    "            worst_feature = pvalues.idxmax()\n",
    "            included.remove(worst_feature)\n",
    "            if worst_feature not in important_features:\n",
    "                print(f\"worst_feature : {worst_feature}, {worst_pval} \")\n",
    "                removed.append(worst_feature)\n",
    "            else:\n",
    "                recover.append(worst_feature)\n",
    "        if not changed:\n",
    "            break\n",
    "\n",
    "    included.extend(recover)\n",
    "    print(f\"\\nSelected Features:\\n{included}\")\n",
    "    print(f\"Removed Features:\\n{removed}\")\n",
    "    return removed"
   ]
  },
  {
   "cell_type": "markdown",
   "metadata": {
    "tags": []
   },
   "source": [
    "# Data Exploration"
   ]
  },
  {
   "cell_type": "markdown",
   "metadata": {},
   "source": [
    "Nella fase di data exploration andiamo ad analizzare il dataset a disposizione, cercando di ricavare informazioni utili e migliorare la conoscenza sul dominio di interesse."
   ]
  },
  {
   "cell_type": "markdown",
   "metadata": {},
   "source": [
    "## Descrizione del Dataset"
   ]
  },
  {
   "cell_type": "markdown",
   "metadata": {},
   "source": [
    "Il dataset riporta parametri vitali di $91713$ pazienti al momento dell'ingresso in ospedale, come ad esempio peso, età, presenza di malattie gravi, o vari indici di [Apache Scoring](https://pubmed.ncbi.nlm.nih.gov/11579607/). Per ogni paziente, viene inoltre riportato se al termine del trattamento questo è sopravvissuto o deceduto. L'obiettivo dei classificatori allenati su questo dataset, è quindi quello di predirre in base ai parametri di un paziente se questo è in pericolo di vita oppure no.\n",
    "\n",
    "La classe target è dunque ```hospital_death```, che è rappresentata con un valore binario:\n",
    "- `0` se il paziente è sopravvissuto.\n",
    "- `1` se il paziente è deceduto.\n",
    "\n",
    "Si considera come **positivo** la classe `1`, in quanto si è più interessati a predirre se un paziente morirà . Considerando il dominio di interesse, si assume quindi che un *falso negativo sia un errore più grave rispetto ad un falso positivo*. Questo perché in uno scenario reale risulta molto più pericoloso sottostimare il problema (paziente grave, ma si predice che sopravvivrà), rispetto all'essere più pessimisti (paziente che sopravvive, ma si predice che non sopravvirà)."
   ]
  },
  {
   "cell_type": "markdown",
   "metadata": {
    "tags": []
   },
   "source": [
    "## Bilanciamento delle Classi"
   ]
  },
  {
   "cell_type": "markdown",
   "metadata": {},
   "source": [
    "Vogliamo visualizzare il livello di bilanciamento del dataset rispetto alla classe target `hospital_death`. Utilizziamo quindi un `pieplot` per graficare il totale di istanze positive e negative"
   ]
  },
  {
   "cell_type": "code",
   "execution_count": null,
   "metadata": {},
   "outputs": [],
   "source": [
    "classes = [{\"Survived\": (dataset[\"hospital_death\"] == 0).sum(), \"Dead\": (dataset[\"hospital_death\"] == 1).sum()}]\n",
    "total  = pd.DataFrame(classes)\n",
    "total_e = float(total[\"Survived\"])\n",
    "total_p = float(total[\"Dead\"])\n",
    "patients = [total_e, total_p]\n",
    "patients_labels = 'Survived','Dead'\n",
    "fig, ax = plt.subplots(figsize = (8,6))\n",
    "plt.pie(patients,labels=patients_labels,autopct='%1.1f%%',colors = ['#88d14f', '#f23d3a'], explode=[0.05,0.05])\n",
    "plt.title('Dataset Balancing', loc = \"center\", fontsize=\"20\")\n",
    "plt.axis('equal')\n",
    "plt.legend(patients_labels,bbox_to_anchor=(0.6, -0.05, 0, 0))\n",
    "fig.set_facecolor('white')\n",
    "plt.show()"
   ]
  },
  {
   "cell_type": "markdown",
   "metadata": {},
   "source": [
    "Come possiamo vedere il dataset è **altamente sbilanciato**. Infatti abbiamo il $91.4%$ di righe che riportano dati per un paziente sopravvissuto, mentre solo l'$8.6%$ di dati per un paziente deceduto. Ciò implica dire che qualsiasi modello allenato su tale dataset tenderà maggiormente a classificare un'istanza come `survived`, aspettandoci quindi un maggior numero di falsi negativi (`death` classificati erroneamente come `survived`).\n",
    "\n",
    "Occorre osservare come tale sbilanciamento non è dovuto ad una scarsa qualità del dataset o mancanza di dati raccolti, ma intrinseco nella natura del problema analizzato; infatti considerando un insieme di ospedale è atteso che il numero di pazienti che sopravvivono sia di molto superiore al numero di decessi."
   ]
  },
  {
   "cell_type": "markdown",
   "metadata": {
    "jp-MarkdownHeadingCollapsed": true,
    "tags": []
   },
   "source": [
    "## Distribuzione delle Features"
   ]
  },
  {
   "cell_type": "markdown",
   "metadata": {},
   "source": [
    "Andiamo a visualizzare la distribuzione delle features all'interno del dataset, riportando in un barplot le variabili categoriche e in un histplot le variabili numeriche."
   ]
  },
  {
   "cell_type": "code",
   "execution_count": null,
   "metadata": {},
   "outputs": [],
   "source": [
    "dataset.info()"
   ]
  },
  {
   "cell_type": "code",
   "execution_count": null,
   "metadata": {},
   "outputs": [],
   "source": [
    "colors = ['xkcd:pale orange', 'xkcd:sea blue', 'xkcd:pale red', 'xkcd:sage green', 'xkcd:terra cotta', 'xkcd:dull purple', 'xkcd:teal', 'xkcd:goldenrod', 'xkcd:cadet blue', \n",
    "          'xkcd:scarlet']\n",
    "ignore = ['encounter_id','patient_id','Unnamed: 83','hospital_id','icu_id','hospital_death']\n",
    "categ = []\n",
    "numer = []\n",
    "\n",
    "for col in dataset.drop(columns=ignore): \n",
    "    dt = dataset[col].dtype\n",
    "    if dt == \"object\":\n",
    "        categ.append(col)\n",
    "    elif dt == \"float64\":\n",
    "        if dataset[col].dropna().nunique()<10:\n",
    "            dataset[col] = dataset[col].astype('object')\n",
    "            categ.append(col)\n",
    "        else:\n",
    "            numer.append(col)\n",
    "    elif dt == \"int64\":\n",
    "        dataset[col] = dataset[col].astype('object')\n",
    "        categ.append(col)\n",
    "\n",
    "fig = plt.figure(figsize=(120,120))\n",
    "j=1\n",
    "a=0\n",
    "b=0\n",
    "for i in range(0, len(dataset.columns)-len(ignore)):\n",
    "    col = dataset.columns[i]\n",
    "\n",
    "    if col in categ:\n",
    "        fig.add_subplot(10,10,j)\n",
    "        ax = sns.countplot(x=categ[a], data=dataset, alpha=.7, order=sorted(dataset[col].dropna().unique().tolist(),key=str))\n",
    "        ax.bar_label(ax.containers[0])\n",
    "        ax.set_xticklabels(ax.get_xticklabels(),rotation = 45)\n",
    "        j += 1\n",
    "        a += 1\n",
    "\n",
    "    elif col in numer:\n",
    "        fig.add_subplot(10,10,j)\n",
    "        sns.histplot(dataset[numer[b]].dropna(), kde_kws={\"lw\": 2, \"color\":colors[8]})\n",
    "        j += 1\n",
    "        b += 1"
   ]
  },
  {
   "cell_type": "markdown",
   "metadata": {},
   "source": [
    "Possiamo osservare come la maggior parte delle variabili numeriche abbiano una distribuzione che tende ad una normale."
   ]
  },
  {
   "cell_type": "markdown",
   "metadata": {
    "jp-MarkdownHeadingCollapsed": true,
    "tags": []
   },
   "source": [
    "## Visualizzazione campi non nulli"
   ]
  },
  {
   "cell_type": "markdown",
   "metadata": {},
   "source": [
    "Andiamo a visualizzare la percentuale di campi nulli presenti per ogni colonna *(feature)* del dataset. Questo risulta utile visualizzare eventuali colonne con pochi dati utili,e che possono quindi essere escluse ai fini del training"
   ]
  },
  {
   "cell_type": "code",
   "execution_count": null,
   "metadata": {},
   "outputs": [],
   "source": [
    "p = plot_nas(dataset,use_threshold=False)"
   ]
  },
  {
   "cell_type": "markdown",
   "metadata": {},
   "source": [
    "Analizzando la distribuzione delle varie features possiamo vedere come il dataset sia di buona qualità, avendo pochi campi non nulli nelle varie colonne. L'unica eccezione riguarda la feature ```Unnamed: 83```, che presenta esclusivamente campi nulli, e quindi verrà eliminata in una successiva fase di pulizia del dataset.\n",
    "\n",
    "Le restanti features presentano valori `NaN` per una percentuale sempre inferiore al 20%, motivo per cui possiamo procedere con il *filling* o l'*imputazione* di tali dati, senza introdurre un rumore eccessivo nel dataset. "
   ]
  },
  {
   "cell_type": "markdown",
   "metadata": {
    "tags": []
   },
   "source": [
    "## Conversione Features e Mapping"
   ]
  },
  {
   "cell_type": "markdown",
   "metadata": {},
   "source": [
    "Si effettua la conversione delle features categoriche in ordinali, mappando ogni ```object``` identificato da una *stringa*, in un altro ```object``` identificato da un *numero*. Il dizionario ```mapping``` mantiene la corrispondenza tra label originale e numero assegnato, per un eventuale utilizzo futuro."
   ]
  },
  {
   "cell_type": "code",
   "execution_count": null,
   "metadata": {},
   "outputs": [],
   "source": [
    "mapped_dataset = dataset.copy()\n",
    "encoder = LabelEncoder()\n",
    "mapping = []\n",
    "\n",
    "for i in range(len(mapped_dataset.columns)):\n",
    "    \n",
    "    if (mapped_dataset[mapped_dataset.columns[i]].dtype == \"object\"):\n",
    "            mapped_dataset[mapped_dataset.columns[i]] = encoder.fit_transform(mapped_dataset[mapped_dataset.columns[i]])\n",
    "            mapping_dict = {index : label for index , label in enumerate(encoder.classes_)}\n",
    "            mapping.append(mapping_dict)\n",
    "\n",
    "mapped_dataset = mapped_dataset.where(~dataset.isna(), dataset)\n"
   ]
  },
  {
   "cell_type": "markdown",
   "metadata": {},
   "source": [
    "Visualizziamo il mapping effettuato delle variabili categoriche.\n",
    "\n",
    "- *NOTA*: I valori `NaN` risultano mappati nel dizionario, ma tramite la clausola `where(~dataset.isna(), dataset)` vengono ristabiliti i valori `NaN` presenti nel dataset originale, per la successiva fase di imputazione dei dati."
   ]
  },
  {
   "cell_type": "code",
   "execution_count": null,
   "metadata": {},
   "outputs": [],
   "source": [
    "print(mapping)"
   ]
  },
  {
   "cell_type": "markdown",
   "metadata": {},
   "source": [
    "Completiamo il mapping del dataset trasformando il tipo di dato associato alle features categoriche dall' `object` numerico al valore `float64` ad esso associato, in quanto i vari classificatori operano comunque con valori numerici."
   ]
  },
  {
   "cell_type": "code",
   "execution_count": null,
   "metadata": {},
   "outputs": [],
   "source": [
    "for el in mapped_dataset.columns:\n",
    "    if (mapped_dataset[el].dtype == \"object\"):\n",
    "        mapped_dataset[el] = np.floor(pd.to_numeric(mapped_dataset[el], errors='coerce')).astype('float64')"
   ]
  },
  {
   "cell_type": "markdown",
   "metadata": {},
   "source": [
    "Vediamo che abbiamo mappato le nostre variabili categoriche in variabili numeriche. I valori nulli sono stati mantenuti <NaN> per una successiva fase di imputazione. "
   ]
  },
  {
   "cell_type": "code",
   "execution_count": null,
   "metadata": {},
   "outputs": [],
   "source": [
    "mapped_dataset.info()"
   ]
  },
  {
   "cell_type": "markdown",
   "metadata": {
    "tags": []
   },
   "source": [
    "## Correlazione tra le Features"
   ]
  },
  {
   "cell_type": "markdown",
   "metadata": {},
   "source": [
    "Analizziamo il grado di correlazione reciproco tra le varie feature, compresa la correlazione di ogni feature con il target. In generale vogliamo che una feature sia **altamente correlata** con il target (quindi che il suo valore sia importante per discriminare se il paziente sopravvive o muore). Si utilizza a tale scopo l'indice di Pearson, in cui si ha un valore compreso tra $(-1,+1)$:\n",
    "- $-1$ corrisponde alla perfetta correlazione lineare positiva.\n",
    "- $0$ corrisponde a un'assenza di correlazione lineare.\n",
    "- $-1$ corrisponde alla perfetta correlazione lineare negativa."
   ]
  },
  {
   "cell_type": "code",
   "execution_count": null,
   "metadata": {},
   "outputs": [],
   "source": [
    "correlation_matrix = mapped_dataset.drop(columns=\"Unnamed: 83\").corr()"
   ]
  },
  {
   "cell_type": "markdown",
   "metadata": {},
   "source": [
    "Mostriamo la matrice di correlazione"
   ]
  },
  {
   "cell_type": "code",
   "execution_count": null,
   "metadata": {},
   "outputs": [],
   "source": [
    "plt.figure(figsize=(32,24), dpi = 250)\n",
    "sns.heatmap(correlation_matrix, linewidths=0.05, cmap=\"PiYG\", annot=True, annot_kws={\"fontsize\":4})\n",
    "plt.yticks(rotation=0)\n",
    "plt.show()"
   ]
  },
  {
   "cell_type": "markdown",
   "metadata": {},
   "source": [
    "## Analisi delle Features"
   ]
  },
  {
   "cell_type": "markdown",
   "metadata": {},
   "source": [
    "Analizziamo l'impatto di alcune features rispetto al valore del target. In questo modo dall'analisi del dominio si possono individuare le features che risultano rilevanti ai fini della classificazione, e che vogliamo necessariamente mantenere anche a seguito della riduzione della dimensionalità."
   ]
  },
  {
   "cell_type": "markdown",
   "metadata": {},
   "source": [
    "### Probabilità di morte in relazione all'età"
   ]
  },
  {
   "cell_type": "markdown",
   "metadata": {},
   "source": [
    "Visualizziamo la probabilità di decesso in relazione all'età dei pazienti, distinguendo due casi in base al genere `maschio` o `femmina`"
   ]
  },
  {
   "cell_type": "code",
   "execution_count": null,
   "metadata": {},
   "outputs": [],
   "source": [
    "warnings.filterwarnings('ignore')\n",
    "\n",
    "age_death_F=dataset[dataset['gender']=='F'][['age','hospital_death']].groupby('age').mean().reset_index()\n",
    "age_death_M=dataset[dataset['gender']=='M'][['age','hospital_death']].groupby('age').mean().reset_index()\n",
    "fig,ax = plt.subplots(figsize = (12,8))\n",
    "sns.lineplot(x=age_death_F['age'], y=age_death_F['hospital_death'])\n",
    "sns.lineplot(x=age_death_M['age'], y=age_death_M['hospital_death'])\n",
    "plt.title(\"Average hospital death probability of patients\", fontsize = 20)\n",
    "\n",
    "plt.legend(['Female',\"Male\"])\n",
    "plt.xlabel(\"Patient Age\")\n",
    "plt.ylabel(\"Average Hospital Death\")\n",
    "fig.show()\n",
    "\n",
    "warnings.filterwarnings('always')"
   ]
  },
  {
   "cell_type": "markdown",
   "metadata": {},
   "source": [
    "Come atteso, l'età risulta essere un fattore determinante nella mortalità dei pazienti ricoverati, ed infatti si può notare un incremento della mortalità con l'avanzare dell'età. Inoltre si può anche osservare come il genere non risulta rilevante nella probabilità di morte, in quanti maschi e femmine hanno circa lo stesso andamento in relazione all'età."
   ]
  },
  {
   "cell_type": "code",
   "execution_count": null,
   "metadata": {},
   "outputs": [],
   "source": [
    "important_features.append('age')"
   ]
  },
  {
   "cell_type": "markdown",
   "metadata": {},
   "source": [
    "### Probabilità di morte in relazione all'etnia"
   ]
  },
  {
   "cell_type": "markdown",
   "metadata": {},
   "source": [
    "Vogliamo verificare se l'etnia di un paziente ha un impatto sulla probabilità di morte."
   ]
  },
  {
   "cell_type": "code",
   "execution_count": null,
   "metadata": {},
   "outputs": [],
   "source": [
    "warnings.filterwarnings('ignore')\n",
    "\n",
    "df=dataset[['hospital_death','ethnicity']]\n",
    "\n",
    "ethnicity_death=df[['ethnicity','hospital_death']].groupby('ethnicity').mean().reset_index()\n",
    "fig,ax = plt.subplots(figsize = (12,8))\n",
    "sns.barplot(x=ethnicity_death['ethnicity'], y=ethnicity_death['hospital_death'])\n",
    "plt.title(\"Impacts of Ethnicity over patients\", fontsize = 20)\n",
    "\n",
    "plt.xlabel(\"ethnicity\")\n",
    "plt.ylabel(\"Average Hospital Death\")\n",
    "fig.show()\n",
    "\n",
    "warnings.filterwarnings('always')"
   ]
  },
  {
   "cell_type": "markdown",
   "metadata": {},
   "source": [
    "Come possiamo vedere la probabilità di morte risulta simile tra tutte le etnie. La feature `ethnicity` non è quindi da considerarsi importante ai fini della classificazione, e verrà ulteriormente analizzata nella fase di *feature Engineering*."
   ]
  },
  {
   "cell_type": "markdown",
   "metadata": {},
   "source": [
    "### Probabilità di morte in relazione al BMI"
   ]
  },
  {
   "cell_type": "markdown",
   "metadata": {},
   "source": [
    "Vogliamo visualizzare l'impatto dell'*Indice di Massa Corporea* sulla probabilità dei pazienti. "
   ]
  },
  {
   "cell_type": "code",
   "execution_count": null,
   "metadata": {},
   "outputs": [],
   "source": [
    "warnings.filterwarnings('ignore')\n",
    "\n",
    "df=dataset[['hospital_death','bmi']]\n",
    "\n",
    "df['bmi'] = df['bmi'].round(0)\n",
    "bmi_death=df[['bmi','hospital_death']].groupby('bmi').mean().reset_index()\n",
    "fig,ax = plt.subplots(figsize = (12,8))\n",
    "sns.lineplot(x=bmi_death['bmi'], y=bmi_death['hospital_death'])\n",
    "plt.title(\"Impacts of BMI over patients\", fontsize = 20)\n",
    "\n",
    "plt.xlabel(\"BMI\")\n",
    "plt.ylabel(\"Average Hospital Death\")\n",
    "fig.show()\n",
    "\n",
    "warnings.filterwarnings('always')"
   ]
  },
  {
   "cell_type": "markdown",
   "metadata": {},
   "source": [
    "Il BMI impatta notevolmente nella mortalità, infatti un valore troppo basso ($<20$, gravemente sottopeso) o troppo alto ($>50$, obesità di terzo grado) aumenta la probabilità di decesso.  "
   ]
  },
  {
   "cell_type": "code",
   "execution_count": null,
   "metadata": {},
   "outputs": [],
   "source": [
    "important_features.append('bmi')"
   ]
  },
  {
   "cell_type": "markdown",
   "metadata": {},
   "source": [
    "### Probabilità di morte in relazione a score apache"
   ]
  },
  {
   "cell_type": "markdown",
   "metadata": {},
   "source": [
    "Gli score apache misurano parametri vitali critici, quindi che discriminano fortemente la probabilità di sopravvivenza di un paziente. Andiamo a graficare quindi l'impatto di tali indici sulla probabilità di decesso."
   ]
  },
  {
   "cell_type": "code",
   "execution_count": null,
   "metadata": {},
   "outputs": [],
   "source": [
    "warnings.filterwarnings('ignore')\n",
    "\n",
    "\n",
    "critical = ['hospital_death','gcs_eyes_apache','gcs_motor_apache','gcs_unable_apache','gcs_verbal_apache','apache_3j_bodysystem','apache_2_bodysystem']\n",
    "df=dataset[critical]\n",
    "\n",
    "gcs_eyes_apache_death=df[['gcs_eyes_apache','hospital_death']].groupby('gcs_eyes_apache').mean().reset_index()\n",
    "gcs_motor_apache_death=df[['gcs_motor_apache','hospital_death']].groupby('gcs_motor_apache').mean().reset_index()\n",
    "gcs_unable_apache_death=df[['gcs_unable_apache','hospital_death']].groupby('gcs_unable_apache').mean().reset_index()\n",
    "gcs_verbal_apache_death=df[['gcs_verbal_apache','hospital_death']].groupby('gcs_verbal_apache').mean().reset_index()\n",
    "apache_3j_bodysystem_death=df[['apache_3j_bodysystem','hospital_death']].groupby('apache_3j_bodysystem').mean().reset_index()\n",
    "apache_2_bodysystem_death=df[['apache_2_bodysystem','hospital_death']].groupby('apache_2_bodysystem').mean().reset_index()\n",
    "\n",
    "\n",
    "fig = plt.figure(figsize=(30,15))\n",
    "\n",
    "fig.add_subplot(2,3,1)\n",
    "sns.barplot(x=gcs_eyes_apache_death['gcs_eyes_apache'], y=gcs_eyes_apache_death['hospital_death'])\n",
    "plt.title(\"Impacts of GCS Eyes over Patients\", fontsize = 20)\n",
    "plt.xlabel(\"GCS Eyes\")\n",
    "plt.ylabel(\"Average Hospital Death\")\n",
    "\n",
    "fig.add_subplot(2,3,2)\n",
    "sns.barplot(x=gcs_motor_apache_death['gcs_motor_apache'], y=gcs_motor_apache_death['hospital_death'])\n",
    "plt.title(\"Impacts of GCS Motor over Patients\", fontsize = 20)\n",
    "plt.xlabel(\"GCS Motor\")\n",
    "plt.ylabel(\"Average Hospital Death\")\n",
    "\n",
    "fig.add_subplot(2,3,3)\n",
    "sns.barplot(x=gcs_unable_apache_death['gcs_unable_apache'], y=gcs_unable_apache_death['hospital_death'])\n",
    "plt.title(\"Impacts of GCS Unable over Patients\", fontsize = 20)\n",
    "plt.xlabel(\"GCS Unable\")\n",
    "plt.ylabel(\"Average Hospital Death\")\n",
    "\n",
    "fig.add_subplot(2,3,4)\n",
    "sns.barplot(x=gcs_verbal_apache_death['gcs_verbal_apache'], y=gcs_verbal_apache_death['hospital_death'])\n",
    "plt.title(\"Impacts of GCS Verbal over Patients\", fontsize = 20)\n",
    "plt.xlabel(\"Hepatitic Failure\")\n",
    "plt.ylabel(\"Average Hospital Death\")\n",
    "\n",
    "fig.add_subplot(2,3,5)\n",
    "ax = sns.barplot(x=apache_3j_bodysystem_death['apache_3j_bodysystem'], y=apache_3j_bodysystem_death['hospital_death'])\n",
    "plt.title(\"Impacts of Apache III over Patients\", fontsize = 20)\n",
    "plt.xlabel(\"3J Bodysystem\")\n",
    "plt.ylabel(\"Average Hospital Death\")\n",
    "ax.set_xticklabels(ax.get_xticklabels(),rotation = 45)\n",
    "\n",
    "fig.add_subplot(2,3,6)\n",
    "ax = sns.barplot(x=apache_2_bodysystem_death['apache_2_bodysystem'], y=apache_2_bodysystem_death['hospital_death'])\n",
    "plt.title(\"Impacts of Apache II over Patients\", fontsize = 20)\n",
    "plt.xlabel(\"2 Bodysystem\")\n",
    "plt.ylabel(\"Average Hospital Death\")\n",
    "ax.set_xticklabels(ax.get_xticklabels(),rotation = 45)\n",
    "\n",
    "fig.show()\n",
    "\n",
    "warnings.filterwarnings('always')"
   ]
  },
  {
   "cell_type": "markdown",
   "metadata": {},
   "source": [
    "Vediamo come nel caso degli score GCS, per gli score critici (valori più bassi) si hanno sempre probabilità più alte di decesso. Invece per gli indici di Bodysystem possiamo vedere come diagnosi differenti abbiano probabilità di decesso differenti. Ad esempio la setticemia o complicanze respiratorie sono più critiche rispetto a casi ginecologici o metabolici.\n",
    "\n",
    "Questo ci indica dunque come gli score Apache risultano critici ai fini della classificazione."
   ]
  },
  {
   "cell_type": "code",
   "execution_count": null,
   "metadata": {},
   "outputs": [],
   "source": [
    "important_features.extend(['gcs_eyes_apache','gcs_motor_apache','gcs_unable_apache','gcs_verbal_apache','apache_3j_bodysystem','apache_2_bodysystem'])"
   ]
  },
  {
   "cell_type": "markdown",
   "metadata": {},
   "source": [
    "### Probabilità di morte in relazione a malattie critiche"
   ]
  },
  {
   "cell_type": "markdown",
   "metadata": {},
   "source": [
    "Visualizziamo l'impatto di differenti malattie critiche rispetto alla probabilità di decesso di un paziente."
   ]
  },
  {
   "cell_type": "code",
   "execution_count": null,
   "metadata": {},
   "outputs": [],
   "source": [
    "warnings.filterwarnings('ignore')\n",
    "\n",
    "\n",
    "critical = ['hospital_death','aids','cirrhosis','diabetes_mellitus','hepatic_failure','immunosuppression','leukemia','lymphoma','solid_tumor_with_metastasis']\n",
    "df=dataset[critical]\n",
    "\n",
    "aids_death=df[['aids','hospital_death']].groupby('aids').mean().reset_index()\n",
    "cirrhosis_death=df[['cirrhosis','hospital_death']].groupby('cirrhosis').mean().reset_index()\n",
    "diabetes_mellitus_death=df[['diabetes_mellitus','hospital_death']].groupby('diabetes_mellitus').mean().reset_index()\n",
    "hepatic_failure_death=df[['hepatic_failure','hospital_death']].groupby('hepatic_failure').mean().reset_index()\n",
    "immunosuppression_death=df[['immunosuppression','hospital_death']].groupby('immunosuppression').mean().reset_index()\n",
    "leukemia_death=df[['leukemia','hospital_death']].groupby('leukemia').mean().reset_index()\n",
    "lymphoma_death=df[['lymphoma','hospital_death']].groupby('lymphoma').mean().reset_index()\n",
    "solid_tumor_death=df[['solid_tumor_with_metastasis','hospital_death']].groupby('solid_tumor_with_metastasis').mean().reset_index()\n",
    "\n",
    "fig = plt.figure(figsize=(30,20))\n",
    "\n",
    "fig.add_subplot(3,3,1)\n",
    "sns.barplot(x=aids_death['aids'], y=aids_death['hospital_death'])\n",
    "plt.title(\"Impacts of AIDS over Patients\", fontsize = 20)\n",
    "plt.xlabel(\"AIDS\")\n",
    "plt.ylabel(\"Average Hospital Death\")\n",
    "\n",
    "fig.add_subplot(3,3,2)\n",
    "sns.barplot(x=cirrhosis_death['cirrhosis'], y=cirrhosis_death['hospital_death'])\n",
    "plt.title(\"Impacts of Cirrhosis over Patients\", fontsize = 20)\n",
    "plt.xlabel(\"Cirrhosis\")\n",
    "plt.ylabel(\"Average Hospital Death\")\n",
    "\n",
    "fig.add_subplot(3,3,3)\n",
    "sns.barplot(x=diabetes_mellitus_death['diabetes_mellitus'], y=diabetes_mellitus_death['hospital_death'])\n",
    "plt.title(\"Impacts of Diabetes Mellitus over Patients\", fontsize = 20)\n",
    "plt.xlabel(\"Diabetes Mellitus\")\n",
    "plt.ylabel(\"Average Hospital Death\")\n",
    "\n",
    "fig.add_subplot(3,3,4)\n",
    "sns.barplot(x=hepatic_failure_death['hepatic_failure'], y=hepatic_failure_death['hospital_death'])\n",
    "plt.title(\"Impacts of Hepatitic Failure over Patients\", fontsize = 20)\n",
    "plt.xlabel(\"Hepatitic Failure\")\n",
    "plt.ylabel(\"Average Hospital Death\")\n",
    "\n",
    "fig.add_subplot(3,3,5)\n",
    "sns.barplot(x=immunosuppression_death['immunosuppression'], y=immunosuppression_death['hospital_death'])\n",
    "plt.title(\"Impacts of Immunosuppression over Patients\", fontsize = 20)\n",
    "plt.xlabel(\"Immunosuppression\")\n",
    "plt.ylabel(\"Average Hospital Death\")\n",
    "\n",
    "fig.add_subplot(3,3,6)\n",
    "sns.barplot(x=leukemia_death['leukemia'], y=leukemia_death['hospital_death'])\n",
    "plt.title(\"Impacts of Leukemia over Patients\", fontsize = 20)\n",
    "plt.xlabel(\"Lekuemia\")\n",
    "plt.ylabel(\"Average Hospital Death\")\n",
    "\n",
    "fig.add_subplot(3,3,7)\n",
    "sns.barplot(x=lymphoma_death['lymphoma'], y=lymphoma_death['hospital_death'])\n",
    "plt.title(\"Impacts of Lymphoma over Patients\", fontsize = 20)\n",
    "plt.xlabel(\"Lypmhoma\")\n",
    "plt.ylabel(\"Average Hospital Death\")\n",
    "\n",
    "fig.add_subplot(3,3,8)\n",
    "sns.barplot(x=solid_tumor_death['solid_tumor_with_metastasis'], y=solid_tumor_death['hospital_death'])\n",
    "plt.title(\"Impacts of Solid Tumor with Metastasis over Patients\", fontsize = 20)\n",
    "plt.xlabel(\"Solid Tumor with Metastasis\")\n",
    "plt.ylabel(\"Average Hospital Death\")\n",
    "\n",
    "fig.show()\n",
    "\n",
    "warnings.filterwarnings('always')"
   ]
  },
  {
   "cell_type": "markdown",
   "metadata": {},
   "source": [
    "Vediamo come tutte queste variabili risultano importanti, in quanto incrementano la probabilità di decesso. L'unica eccezione è il diabete, che risulta non impattare nella probabilità di decesso (bassa in entrambi i casi)"
   ]
  },
  {
   "cell_type": "code",
   "execution_count": null,
   "metadata": {},
   "outputs": [],
   "source": [
    "important_features.extend(['aids','cirrhosis','hepatic_failure','immunosuppression','leukemia','lymphoma','solid_tumor_with_metastasis'])"
   ]
  },
  {
   "cell_type": "markdown",
   "metadata": {},
   "source": [
    "### Altre condizioni di ricovero"
   ]
  },
  {
   "cell_type": "markdown",
   "metadata": {},
   "source": [
    "Verifichiamo altre condizioni sul paziente, in particolare se questo è intubato, presenta iperventilazione, oppure si è operato da poco"
   ]
  },
  {
   "cell_type": "code",
   "execution_count": 156,
   "metadata": {},
   "outputs": [
    {
     "data": {
      "image/png": "[encoded data removed]",
      "text/plain": [
       "<Figure size 2160x1080 with 3 Axes>"
      ]
     },
     "metadata": {
      "needs_background": "light"
     },
     "output_type": "display_data"
    }
   ],
   "source": [
    "warnings.filterwarnings('ignore')\n",
    "\n",
    "critical = ['hospital_death','intubated_apache', 'ventilated_apache', 'apache_post_operative']\n",
    "df=dataset[critical]\n",
    "\n",
    "intubated_apache_death=df[['intubated_apache','hospital_death']].groupby('intubated_apache').mean().reset_index()\n",
    "ventilated_apache_death=df[['ventilated_apache','hospital_death']].groupby('ventilated_apache').mean().reset_index()\n",
    "apache_post_operative_death=df[['apache_post_operative','hospital_death']].groupby('apache_post_operative').mean().reset_index()\n",
    "\n",
    "\n",
    "\n",
    "fig = plt.figure(figsize=(30,15))\n",
    "\n",
    "fig.add_subplot(2,3,1)\n",
    "sns.barplot(x=intubated_apache_death['intubated_apache'], y=intubated_apache_death['hospital_death'])\n",
    "plt.title(\"Impacts of Intubation over Patients\", fontsize = 20)\n",
    "plt.xlabel(\"GCS Eyes\")\n",
    "plt.ylabel(\"Average Hospital Death\")\n",
    "\n",
    "fig.add_subplot(2,3,2)\n",
    "sns.barplot(x=ventilated_apache_death['ventilated_apache'], y=ventilated_apache_death['hospital_death'])\n",
    "plt.title(\"Impacts of Ventilation over Patients\", fontsize = 20)\n",
    "plt.xlabel(\"GCS Motor\")\n",
    "plt.ylabel(\"Average Hospital Death\")\n",
    "\n",
    "fig.add_subplot(2,3,3)\n",
    "sns.barplot(x=apache_post_operative_death['apache_post_operative'], y=apache_post_operative_death['hospital_death'])\n",
    "plt.title(\"Impacts of post-operative over Patients\", fontsize = 20)\n",
    "plt.xlabel(\"GCS Unable\")\n",
    "plt.ylabel(\"Average Hospital Death\")\n",
    "\n",
    "fig.show()\n",
    "\n",
    "warnings.filterwarnings('always')"
   ]
  },
  {
   "cell_type": "markdown",
   "metadata": {},
   "source": [
    "Si osserva come `intubated_apache` e `ventilated_apache` aumentano significativamente la probabilità di decesso, e sono dunque da considerarsi features importanti. Al contrario riguardo `apache_post_operative` un paziente operato sembra avere una probabilità di decesso leggermente inferiore, per cui non viene considerata tra le feature importanti.  "
   ]
  },
  {
   "cell_type": "code",
   "execution_count": 160,
   "metadata": {},
   "outputs": [],
   "source": [
    "important_features.extend(['intubated_apache','ventilated_apache'])"
   ]
  },
  {
   "cell_type": "markdown",
   "metadata": {},
   "source": [
    "### Hospital Quality"
   ]
  },
  {
   "cell_type": "markdown",
   "metadata": {},
   "source": [
    "Vediamo se diverse strutture ospedaliere hanno maggiore o minore impatto sulla mortalità dei pazienti"
   ]
  },
  {
   "cell_type": "code",
   "execution_count": null,
   "metadata": {},
   "outputs": [],
   "source": [
    "fig2 = plt.figure(figsize=(35,35))\n",
    "hospital_death=dataset[['hospital_id','hospital_death']].groupby('hospital_id').mean().reset_index()\n",
    "sns.barplot(x=hospital_death['hospital_id'], y=hospital_death['hospital_death'])\n",
    "plt.title(\"Impacts of Hospital over Patients\", fontsize = 20)\n",
    "plt.xlabel(\"Hospital\")\n",
    "plt.ylabel(\"Average Hospital Death\")\n",
    "plt.tick_params(labelsize = 8)\n",
    "\n",
    "plt.show()"
   ]
  },
  {
   "cell_type": "markdown",
   "metadata": {},
   "source": [
    "Osserviamo che alcuni ospedali sembrano avere probabilità di decesso elevate. Ad esempio l'ospedale ```131``` ha il 50% di decessi. Analizzando però il dataset possiamo vedere come in realtà ci siano soltanto due istanze relative all'ospedale 130, che è quindi un outlier."
   ]
  },
  {
   "cell_type": "code",
   "execution_count": null,
   "metadata": {},
   "outputs": [],
   "source": [
    "dataset['hospital_id'].value_counts()[130]"
   ]
  },
  {
   "cell_type": "markdown",
   "metadata": {},
   "source": [
    "Anche l'ospedale ```51``` ha una probabilità più alta di decesso. Ma anche in questo caso possiamo vedere come siano pochi i dati (110) rispetto agli altri ospedali"
   ]
  },
  {
   "cell_type": "code",
   "execution_count": null,
   "metadata": {},
   "outputs": [],
   "source": [
    "dataset['hospital_id'].value_counts()[51]"
   ]
  },
  {
   "cell_type": "markdown",
   "metadata": {},
   "source": [
    "Anche la feature `hospital` non è quindi da considerarsi importante ai fini della classificazione, e verrà ulteriormente analizzata nella fase di *feature Engineering*."
   ]
  },
  {
   "cell_type": "markdown",
   "metadata": {},
   "source": [
    "### Features Individuate"
   ]
  },
  {
   "cell_type": "markdown",
   "metadata": {},
   "source": [
    "In definitiva sono ritenute di particolare interesse nella classificazione le seguenti features"
   ]
  },
  {
   "cell_type": "code",
   "execution_count": null,
   "metadata": {},
   "outputs": [],
   "source": [
    "important_features"
   ]
  },
  {
   "cell_type": "markdown",
   "metadata": {
    "jp-MarkdownHeadingCollapsed": true,
    "tags": []
   },
   "source": [
    "# Criterio di Performance Evaluation"
   ]
  },
  {
   "cell_type": "markdown",
   "metadata": {},
   "source": [
    "Prima di procedere con l'ingegneria delle features è necessario definire un criterio per valutare la \"bontà\" di una modifica effettuata. A tale scopo, si misurano le prestazioni di tre classificatori differenti sul training set originale, e si confrontano con gli score a seguito della *Feature Engineering*. In questo modo alcuni tra i possibili approcci di *dimensionality reduction* non sono stati poi applicati, in quanto non portavano effettive migliorie sul modello (*par. \"Altri tentativi di miglioramento\"*."
   ]
  },
  {
   "cell_type": "markdown",
   "metadata": {},
   "source": [
    "## Training & Test Set Splitting"
   ]
  },
  {
   "cell_type": "markdown",
   "metadata": {},
   "source": [
    "Andiamo a splittare il dataset in training e stesting set. Utilizziamo come percentuali $80/20$ sul dataset originale"
   ]
  },
  {
   "cell_type": "code",
   "execution_count": null,
   "metadata": {},
   "outputs": [],
   "source": [
    "targets = mapped_dataset['hospital_death']\n",
    "trainX, testX, trainY, testY = train_test_split(mapped_dataset.drop(columns = 'hospital_death'), targets, test_size = 0.2, random_state=0)\n",
    "print(\"TrainingSet:\",trainX.shape)\n",
    "print(\"TestingSet:\",testX.shape)\n",
    "\n",
    "trainX_og = trainX.copy()\n",
    "testX_og = testX.copy()"
   ]
  },
  {
   "cell_type": "markdown",
   "metadata": {
    "jp-MarkdownHeadingCollapsed": true,
    "tags": []
   },
   "source": [
    "## Scelta della Metrica"
   ]
  },
  {
   "cell_type": "markdown",
   "metadata": {},
   "source": [
    "Come spiegato nella Descrizione del Dataset, si è maggiormente interessati ad **evitare i falsi negativi**, ovvero istanze predete come `survived` ma che sono in realtà `death`. Di conseguenza, la principale metrica considerata per valutare le prestazioni dei vari modelli è la <b>recall</b>: $$Recall = \\frac{TP}{TP + FN}$$\n",
    "\n",
    "Tuttavia, si deve tener conto anche dei **FP**, valutando un tradeoff tra i due indici per evitare un aumento eccessivo degli errori di classificazione sui pazienti `survived`."
   ]
  },
  {
   "cell_type": "markdown",
   "metadata": {
    "tags": []
   },
   "source": [
    "## Risultati sul Dataset Originale"
   ]
  },
  {
   "cell_type": "markdown",
   "metadata": {},
   "source": [
    "Andiamo a misurare le prestazioni di vari classificatori sul dataset originale, quindi senza ingegneria delle features e imputazione dei valori mancanti. \n",
    "- I classificatori considerati non gestiscono in modo automatico i valori ```NaN```\n",
    "- Per eseguire la classificazione è comunque necessario mappare i valori ```NaN``` su un qualche valore numerico\n",
    "- Si utilizza per questa fase di benchmark l'operatore ```fillna(-1)``` sostituendo quindi ```NaN``` con ```-1```"
   ]
  },
  {
   "cell_type": "code",
   "execution_count": null,
   "metadata": {},
   "outputs": [],
   "source": [
    "run_classifications(trainX,trainY,testX,testY, fill = True, experiment=\"Original Dataset\")\n",
    "scores = pd.DataFrame(scores_dict).T\n",
    "original_scores = scores.copy()\n",
    "original_scores"
   ]
  },
  {
   "cell_type": "markdown",
   "metadata": {
    "tags": []
   },
   "source": [
    "# Feature Engineering"
   ]
  },
  {
   "cell_type": "markdown",
   "metadata": {},
   "source": [
    "Andiamo ad eseguire diverse operazioni per ridurre la dimensionalità del dataset, rimuovendo quelle features non rilevanti ai fini della classificazione.\n",
    "- Rimozione feature con valori nulli\n",
    "- Rimozione feature con bassa varianza dei dati\n",
    "- Rimozione feature con bassa correlazione con il target \n",
    "- Feature Selection\n",
    "- Altri tentativi di miglioramento"
   ]
  },
  {
   "cell_type": "markdown",
   "metadata": {
    "jp-MarkdownHeadingCollapsed": true,
    "tags": []
   },
   "source": [
    "## Rimozione feature con valori nulli"
   ]
  },
  {
   "cell_type": "markdown",
   "metadata": {},
   "source": [
    "Rimuoviamo quelle colonne il cui valore percentuale di colonne nulle supera l'80%, e su cui risulterebbe inutile l'imputazione dei dati mancanti."
   ]
  },
  {
   "cell_type": "code",
   "execution_count": null,
   "metadata": {},
   "outputs": [],
   "source": [
    "features_to_remove = plot_nas(trainX,use_threshold=True,threshold=80)"
   ]
  },
  {
   "cell_type": "markdown",
   "metadata": {},
   "source": [
    "Soltanto la feature `Unnamed: 83` supera la soglia prefissata, per cui la rimuoviamo dal dataset"
   ]
  },
  {
   "cell_type": "code",
   "execution_count": null,
   "metadata": {},
   "outputs": [],
   "source": [
    "drop_features_from_trainset(features_to_remove)"
   ]
  },
  {
   "cell_type": "markdown",
   "metadata": {
    "jp-MarkdownHeadingCollapsed": true,
    "tags": []
   },
   "source": [
    "## Rimozione features con bassa varianza"
   ]
  },
  {
   "cell_type": "markdown",
   "metadata": {},
   "source": [
    "Otteniamo la lista delle feature che presentano una varianza minore ad 0.01"
   ]
  },
  {
   "cell_type": "code",
   "execution_count": null,
   "metadata": {},
   "outputs": [],
   "source": [
    "warnings.filterwarnings('ignore')\n",
    "\n",
    "original_cols = trainX_og.columns\n",
    "threshold = 0.01\n",
    "\n",
    "selector = VarianceThreshold(threshold)\n",
    "selector.fit(trainX)\n",
    "features_to_remove = [x for x in trainX.columns if x not in selector.get_feature_names_out()]\n",
    "print(\"Features to remove:\",features_to_remove)\n",
    "\n",
    "warnings.filterwarnings('always')"
   ]
  },
  {
   "cell_type": "markdown",
   "metadata": {},
   "source": [
    "Anche se poco variabili, 'gcs_unable_apache', 'aids', 'apache_2_bodysystem', 'lymphoma' sono importanti come visto nell'analisi delle feature quindi non andiamo a rimuoverle"
   ]
  },
  {
   "cell_type": "markdown",
   "metadata": {},
   "source": [
    "Non viene rimossa nessuna feature dal training set"
   ]
  },
  {
   "cell_type": "code",
   "execution_count": null,
   "metadata": {},
   "outputs": [],
   "source": [
    "features_to_remove = list(set(features_to_remove) - set(important_features))\n",
    "drop_features_from_trainset(features_to_remove)"
   ]
  },
  {
   "cell_type": "markdown",
   "metadata": {
    "jp-MarkdownHeadingCollapsed": true,
    "tags": []
   },
   "source": [
    "## Rimozione features con bassa correlazione col target"
   ]
  },
  {
   "cell_type": "markdown",
   "metadata": {},
   "source": [
    "Ricaviamo le features che hanno una bassa correlazione con il target, inferiore ad una threshold di 0.03"
   ]
  },
  {
   "cell_type": "code",
   "execution_count": null,
   "metadata": {},
   "outputs": [],
   "source": [
    "features_to_remove = get_low_correlated_features(0.03)\n",
    "print(features_to_remove)"
   ]
  },
  {
   "cell_type": "markdown",
   "metadata": {},
   "source": [
    "Di queste variabili aids, leukemia e lymphoma sono comunque importanti nel dominio quindi non le andiamo a rimuovere"
   ]
  },
  {
   "cell_type": "code",
   "execution_count": null,
   "metadata": {},
   "outputs": [],
   "source": [
    "to_delete = list(set(features_to_remove) - set(important_features))\n",
    "print(to_delete)"
   ]
  },
  {
   "cell_type": "markdown",
   "metadata": {},
   "source": [
    "Rimuoviamo le feature individuate dal dataset"
   ]
  },
  {
   "cell_type": "code",
   "execution_count": null,
   "metadata": {},
   "outputs": [],
   "source": [
    "drop_features_from_trainset(to_delete)"
   ]
  },
  {
   "cell_type": "markdown",
   "metadata": {
    "jp-MarkdownHeadingCollapsed": true,
    "tags": []
   },
   "source": [
    "## Feature Selection"
   ]
  },
  {
   "cell_type": "markdown",
   "metadata": {},
   "source": [
    "Si utilizza la **Backward Stepwise Feature Selection** come ulteriore tecnica per la riduzione della dimensionalità. Questa viene eseguita a partire dal sottoinsieme di feature individuate dopo aver applicato le tecniche precedentemente descritte."
   ]
  },
  {
   "cell_type": "code",
   "execution_count": 144,
   "metadata": {},
   "outputs": [
    {
     "name": "stdout",
     "output_type": "stream",
     "text": [
      "<class 'statsmodels.discrete.discrete_model.BinaryResultsWrapper'>\n",
      "age                              5.418901e-25\n",
      "bmi                              5.790811e-05\n",
      "elective_surgery                 1.309128e-19\n",
      "pre_icu_los_days                 1.974177e-21\n",
      "weight                           7.094229e-01\n",
      "apache_2_diagnosis               1.836414e-03\n",
      "apache_3j_diagnosis              6.851546e-13\n",
      "apache_post_operative            2.290984e-06\n",
      "gcs_eyes_apache                  4.473565e-03\n",
      "gcs_motor_apache                 1.310607e-29\n",
      "gcs_unable_apache                3.805088e-11\n",
      "gcs_verbal_apache                7.442661e-03\n",
      "heart_rate_apache                3.697269e-04\n",
      "intubated_apache                 3.591679e-02\n",
      "map_apache                       2.022376e-01\n",
      "resprate_apache                  3.161625e-13\n",
      "temp_apache                      1.235886e-08\n",
      "ventilated_apache                7.683532e-81\n",
      "d1_diasbp_min                    2.095454e-01\n",
      "d1_diasbp_noninvasive_min        6.479827e-01\n",
      "d1_heartrate_max                 8.274144e-43\n",
      "d1_mbp_min                       2.444064e-01\n",
      "d1_mbp_noninvasive_min           4.012981e-01\n",
      "d1_resprate_max                  5.291213e-01\n",
      "d1_spo2_min                      4.197377e-70\n",
      "d1_sysbp_min                     5.040116e-01\n",
      "d1_sysbp_noninvasive_min         5.828768e-01\n",
      "d1_temp_min                      4.872298e-01\n",
      "h1_diasbp_max                    2.521192e-01\n",
      "h1_diasbp_min                    7.018844e-01\n",
      "h1_diasbp_noninvasive_max        5.137979e-01\n",
      "h1_diasbp_noninvasive_min        5.081988e-01\n",
      "h1_heartrate_max                 1.701881e-10\n",
      "h1_heartrate_min                 1.398052e-05\n",
      "h1_mbp_max                       5.621683e-01\n",
      "h1_mbp_min                       4.912000e-01\n",
      "h1_mbp_noninvasive_max           8.976693e-01\n",
      "h1_mbp_noninvasive_min           4.227219e-01\n",
      "h1_resprate_max                  2.925820e-01\n",
      "h1_resprate_min                  7.210052e-21\n",
      "h1_spo2_max                      7.471395e-01\n",
      "h1_spo2_min                      2.000432e-01\n",
      "h1_sysbp_max                     4.959056e-01\n",
      "h1_sysbp_min                     2.277359e-01\n",
      "h1_sysbp_noninvasive_max         3.671456e-01\n",
      "h1_sysbp_noninvasive_min         3.163216e-01\n",
      "d1_glucose_max                   3.554699e-06\n",
      "d1_potassium_max                 3.441054e-04\n",
      "apache_4a_hospital_death_prob    1.722344e-25\n",
      "apache_4a_icu_death_prob         2.398874e-03\n",
      "aids                             8.857122e-16\n",
      "cirrhosis                        3.280131e-04\n",
      "hepatic_failure                  2.067214e-04\n",
      "immunosuppression                2.172912e-03\n",
      "leukemia                         1.911873e-01\n",
      "lymphoma                         5.337217e-02\n",
      "solid_tumor_with_metastasis      2.044018e-15\n",
      "apache_3j_bodysystem             4.150683e-13\n",
      "apache_2_bodysystem              4.552310e-21\n",
      "dtype: float64\n",
      "worst_feature : h1_mbp_noninvasive_max, 0.8976693445452009 \n",
      "<class 'statsmodels.discrete.discrete_model.BinaryResultsWrapper'>\n",
      "age                              5.458509e-25\n",
      "bmi                              5.797419e-05\n",
      "elective_surgery                 1.250966e-19\n",
      "pre_icu_los_days                 1.958376e-21\n",
      "weight                           7.094864e-01\n",
      "apache_2_diagnosis               1.838588e-03\n",
      "apache_3j_diagnosis              6.807877e-13\n",
      "apache_post_operative            2.270299e-06\n",
      "gcs_eyes_apache                  4.480394e-03\n",
      "gcs_motor_apache                 1.317556e-29\n",
      "gcs_unable_apache                3.814582e-11\n",
      "gcs_verbal_apache                7.395423e-03\n",
      "heart_rate_apache                3.688094e-04\n",
      "intubated_apache                 3.606800e-02\n",
      "map_apache                       2.021867e-01\n",
      "resprate_apache                  3.113733e-13\n",
      "temp_apache                      1.232515e-08\n",
      "ventilated_apache                7.656287e-81\n",
      "d1_diasbp_min                    2.092998e-01\n",
      "d1_diasbp_noninvasive_min        6.473766e-01\n",
      "d1_heartrate_max                 8.068852e-43\n",
      "d1_mbp_min                       2.434742e-01\n",
      "d1_mbp_noninvasive_min           4.018633e-01\n",
      "d1_resprate_max                  5.282376e-01\n",
      "d1_spo2_min                      4.153538e-70\n",
      "d1_sysbp_min                     5.048744e-01\n",
      "d1_sysbp_noninvasive_min         5.821190e-01\n",
      "d1_temp_min                      4.872683e-01\n",
      "h1_diasbp_max                    2.532325e-01\n",
      "h1_diasbp_min                    7.085225e-01\n",
      "h1_diasbp_noninvasive_max        5.198290e-01\n",
      "h1_diasbp_noninvasive_min        4.926200e-01\n",
      "h1_heartrate_max                 1.669477e-10\n",
      "h1_heartrate_min                 1.384733e-05\n",
      "h1_mbp_max                       3.113145e-01\n",
      "h1_mbp_min                       3.819718e-01\n",
      "h1_mbp_noninvasive_min           2.038549e-01\n",
      "h1_resprate_max                  2.934061e-01\n",
      "h1_resprate_min                  7.262991e-21\n",
      "h1_spo2_max                      7.476327e-01\n",
      "h1_spo2_min                      1.995932e-01\n",
      "h1_sysbp_max                     4.354307e-01\n",
      "h1_sysbp_min                     2.222192e-01\n",
      "h1_sysbp_noninvasive_max         3.016107e-01\n",
      "h1_sysbp_noninvasive_min         3.108015e-01\n",
      "d1_glucose_max                   3.543080e-06\n",
      "d1_potassium_max                 3.440766e-04\n",
      "apache_4a_hospital_death_prob    1.722033e-25\n",
      "apache_4a_icu_death_prob         2.400729e-03\n",
      "aids                             8.895008e-16\n",
      "cirrhosis                        3.278238e-04\n",
      "hepatic_failure                  2.070483e-04\n",
      "immunosuppression                2.171513e-03\n",
      "leukemia                         1.912386e-01\n",
      "lymphoma                         5.337325e-02\n",
      "solid_tumor_with_metastasis      2.048683e-15\n",
      "apache_3j_bodysystem             4.124939e-13\n",
      "apache_2_bodysystem              4.537990e-21\n",
      "dtype: float64\n",
      "worst_feature : h1_spo2_max, 0.7476327161636186 \n",
      "<class 'statsmodels.discrete.discrete_model.BinaryResultsWrapper'>\n",
      "age                              4.942262e-25\n",
      "bmi                              5.796118e-05\n",
      "elective_surgery                 1.280370e-19\n",
      "pre_icu_los_days                 2.046223e-21\n",
      "weight                           7.082159e-01\n",
      "apache_2_diagnosis               1.819559e-03\n",
      "apache_3j_diagnosis              6.758493e-13\n",
      "apache_post_operative            2.277706e-06\n",
      "gcs_eyes_apache                  4.469792e-03\n",
      "gcs_motor_apache                 1.377318e-29\n",
      "gcs_unable_apache                4.015135e-11\n",
      "gcs_verbal_apache                7.505351e-03\n",
      "heart_rate_apache                3.522368e-04\n",
      "intubated_apache                 3.568407e-02\n",
      "map_apache                       2.049261e-01\n",
      "resprate_apache                  3.206539e-13\n",
      "temp_apache                      1.234007e-08\n",
      "ventilated_apache                5.613968e-81\n",
      "d1_diasbp_min                    2.090564e-01\n",
      "d1_diasbp_noninvasive_min        6.473504e-01\n",
      "d1_heartrate_max                 8.447221e-43\n",
      "d1_mbp_min                       2.450421e-01\n",
      "d1_mbp_noninvasive_min           4.001631e-01\n",
      "d1_resprate_max                  5.264614e-01\n",
      "d1_spo2_min                      7.987709e-76\n",
      "d1_sysbp_min                     5.040423e-01\n",
      "d1_sysbp_noninvasive_min         5.830443e-01\n",
      "d1_temp_min                      4.817504e-01\n",
      "h1_diasbp_max                    2.523116e-01\n",
      "h1_diasbp_min                    7.088817e-01\n",
      "h1_diasbp_noninvasive_max        5.199194e-01\n",
      "h1_diasbp_noninvasive_min        4.922397e-01\n",
      "h1_heartrate_max                 1.504332e-10\n",
      "h1_heartrate_min                 1.454792e-05\n",
      "h1_mbp_max                       3.137186e-01\n",
      "h1_mbp_min                       3.822824e-01\n",
      "h1_mbp_noninvasive_min           2.030049e-01\n",
      "h1_resprate_max                  3.079477e-01\n",
      "h1_resprate_min                  7.166685e-21\n",
      "h1_spo2_min                      1.712534e-04\n",
      "h1_sysbp_max                     4.364031e-01\n",
      "h1_sysbp_min                     2.221522e-01\n",
      "h1_sysbp_noninvasive_max         2.986642e-01\n",
      "h1_sysbp_noninvasive_min         3.129191e-01\n",
      "d1_glucose_max                   3.583513e-06\n",
      "d1_potassium_max                 3.579191e-04\n",
      "apache_4a_hospital_death_prob    1.660677e-25\n",
      "apache_4a_icu_death_prob         2.408839e-03\n",
      "aids                             8.680418e-16\n",
      "cirrhosis                        3.284236e-04\n",
      "hepatic_failure                  2.071954e-04\n",
      "immunosuppression                2.204308e-03\n",
      "leukemia                         1.919323e-01\n",
      "lymphoma                         5.322664e-02\n",
      "solid_tumor_with_metastasis      2.023679e-15\n",
      "apache_3j_bodysystem             4.053231e-13\n",
      "apache_2_bodysystem              4.264114e-21\n",
      "dtype: float64\n",
      "worst_feature : h1_diasbp_min, 0.7088816513891121 \n",
      "<class 'statsmodels.discrete.discrete_model.BinaryResultsWrapper'>\n",
      "age                              4.827248e-25\n",
      "bmi                              5.796259e-05\n",
      "elective_surgery                 1.339142e-19\n",
      "pre_icu_los_days                 2.171396e-21\n",
      "weight                           7.074068e-01\n",
      "apache_2_diagnosis               1.813840e-03\n",
      "apache_3j_diagnosis              6.757461e-13\n",
      "apache_post_operative            2.285855e-06\n",
      "gcs_eyes_apache                  4.489149e-03\n",
      "gcs_motor_apache                 1.412858e-29\n",
      "gcs_unable_apache                4.064573e-11\n",
      "gcs_verbal_apache                7.419542e-03\n",
      "heart_rate_apache                3.498230e-04\n",
      "intubated_apache                 3.607184e-02\n",
      "map_apache                       2.062664e-01\n",
      "resprate_apache                  3.153359e-13\n",
      "temp_apache                      1.249104e-08\n",
      "ventilated_apache                5.712039e-81\n",
      "d1_diasbp_min                    1.866977e-01\n",
      "d1_diasbp_noninvasive_min        6.125207e-01\n",
      "d1_heartrate_max                 8.252598e-43\n",
      "d1_mbp_min                       2.530614e-01\n",
      "d1_mbp_noninvasive_min           3.899252e-01\n",
      "d1_resprate_max                  5.290056e-01\n",
      "d1_spo2_min                      7.644451e-76\n",
      "d1_sysbp_min                     5.238589e-01\n",
      "d1_sysbp_noninvasive_min         5.607979e-01\n",
      "d1_temp_min                      4.827695e-01\n",
      "h1_diasbp_max                    2.800568e-01\n",
      "h1_diasbp_noninvasive_max        5.709566e-01\n",
      "h1_diasbp_noninvasive_min        2.828859e-02\n",
      "h1_heartrate_max                 1.536414e-10\n",
      "h1_heartrate_min                 1.496724e-05\n",
      "h1_mbp_max                       3.329581e-01\n",
      "h1_mbp_min                       4.205546e-01\n",
      "h1_mbp_noninvasive_min           2.205989e-01\n",
      "h1_resprate_max                  3.103168e-01\n",
      "h1_resprate_min                  7.536058e-21\n",
      "h1_spo2_min                      1.721055e-04\n",
      "h1_sysbp_max                     4.176399e-01\n",
      "h1_sysbp_min                     1.710575e-01\n",
      "h1_sysbp_noninvasive_max         2.817032e-01\n",
      "h1_sysbp_noninvasive_min         2.584551e-01\n",
      "d1_glucose_max                   3.560721e-06\n",
      "d1_potassium_max                 3.550464e-04\n",
      "apache_4a_hospital_death_prob    1.667525e-25\n",
      "apache_4a_icu_death_prob         2.415982e-03\n",
      "aids                             8.601461e-16\n",
      "cirrhosis                        3.261211e-04\n",
      "hepatic_failure                  2.064414e-04\n",
      "immunosuppression                2.181495e-03\n",
      "leukemia                         1.918437e-01\n",
      "lymphoma                         5.319030e-02\n",
      "solid_tumor_with_metastasis      2.062753e-15\n",
      "apache_3j_bodysystem             4.091937e-13\n",
      "apache_2_bodysystem              4.302572e-21\n",
      "dtype: float64\n",
      "worst_feature : weight, 0.7074067624584472 \n",
      "<class 'statsmodels.discrete.discrete_model.BinaryResultsWrapper'>\n",
      "age                              4.379993e-25\n",
      "bmi                              2.036560e-18\n",
      "elective_surgery                 1.349310e-19\n",
      "pre_icu_los_days                 2.092322e-21\n",
      "apache_2_diagnosis               1.774293e-03\n",
      "apache_3j_diagnosis              6.308140e-13\n",
      "apache_post_operative            2.198574e-06\n",
      "gcs_eyes_apache                  4.578887e-03\n",
      "gcs_motor_apache                 1.467462e-29\n",
      "gcs_unable_apache                4.194356e-11\n",
      "gcs_verbal_apache                7.200839e-03\n",
      "heart_rate_apache                3.549942e-04\n",
      "intubated_apache                 3.622736e-02\n",
      "map_apache                       2.076542e-01\n",
      "resprate_apache                  2.846671e-13\n",
      "temp_apache                      1.290373e-08\n",
      "ventilated_apache                6.221552e-81\n",
      "d1_diasbp_min                    1.855799e-01\n",
      "d1_diasbp_noninvasive_min        6.117151e-01\n",
      "d1_heartrate_max                 7.995429e-43\n",
      "d1_mbp_min                       2.524769e-01\n",
      "d1_mbp_noninvasive_min           3.900039e-01\n",
      "d1_resprate_max                  5.272275e-01\n",
      "d1_spo2_min                      8.240114e-76\n",
      "d1_sysbp_min                     5.234863e-01\n",
      "d1_sysbp_noninvasive_min         5.611513e-01\n",
      "d1_temp_min                      4.874779e-01\n",
      "h1_diasbp_max                    2.820040e-01\n",
      "h1_diasbp_noninvasive_max        5.733940e-01\n",
      "h1_diasbp_noninvasive_min        2.773296e-02\n",
      "h1_heartrate_max                 1.510016e-10\n",
      "h1_heartrate_min                 1.477567e-05\n",
      "h1_mbp_max                       3.317483e-01\n",
      "h1_mbp_min                       4.193196e-01\n",
      "h1_mbp_noninvasive_min           2.200202e-01\n",
      "h1_resprate_max                  3.097058e-01\n",
      "h1_resprate_min                  7.180338e-21\n",
      "h1_spo2_min                      1.695382e-04\n",
      "h1_sysbp_max                     4.191965e-01\n",
      "h1_sysbp_min                     1.708575e-01\n",
      "h1_sysbp_noninvasive_max         2.826326e-01\n",
      "h1_sysbp_noninvasive_min         2.569071e-01\n",
      "d1_glucose_max                   3.584230e-06\n",
      "d1_potassium_max                 3.434380e-04\n",
      "apache_4a_hospital_death_prob    1.477323e-25\n",
      "apache_4a_icu_death_prob         2.335711e-03\n",
      "aids                             8.471439e-16\n",
      "cirrhosis                        3.295870e-04\n",
      "hepatic_failure                  2.084018e-04\n",
      "immunosuppression                2.164923e-03\n",
      "leukemia                         1.929894e-01\n",
      "lymphoma                         5.358304e-02\n",
      "solid_tumor_with_metastasis      2.074352e-15\n",
      "apache_3j_bodysystem             3.589647e-13\n",
      "apache_2_bodysystem              3.948781e-21\n",
      "dtype: float64\n",
      "worst_feature : d1_diasbp_noninvasive_min, 0.6117150585331734 \n",
      "<class 'statsmodels.discrete.discrete_model.BinaryResultsWrapper'>\n",
      "age                              4.092956e-25\n",
      "bmi                              1.862942e-18\n",
      "elective_surgery                 1.372144e-19\n",
      "pre_icu_los_days                 2.229938e-21\n",
      "apache_2_diagnosis               1.796339e-03\n",
      "apache_3j_diagnosis              6.354886e-13\n",
      "apache_post_operative            2.198100e-06\n",
      "gcs_eyes_apache                  4.514623e-03\n",
      "gcs_motor_apache                 1.504409e-29\n",
      "gcs_unable_apache                4.073290e-11\n",
      "gcs_verbal_apache                7.272079e-03\n",
      "heart_rate_apache                3.556302e-04\n",
      "intubated_apache                 3.546609e-02\n",
      "map_apache                       2.106106e-01\n",
      "resprate_apache                  2.762273e-13\n",
      "temp_apache                      1.218934e-08\n",
      "ventilated_apache                6.359033e-81\n",
      "d1_diasbp_min                    3.198212e-05\n",
      "d1_heartrate_max                 8.477119e-43\n",
      "d1_mbp_min                       2.198701e-01\n",
      "d1_mbp_noninvasive_min           4.335022e-01\n",
      "d1_resprate_max                  5.281534e-01\n",
      "d1_spo2_min                      8.547871e-76\n",
      "d1_sysbp_min                     5.220086e-02\n",
      "d1_sysbp_noninvasive_min         7.800112e-01\n",
      "d1_temp_min                      4.841183e-01\n",
      "h1_diasbp_max                    3.118273e-01\n",
      "h1_diasbp_noninvasive_max        6.191592e-01\n",
      "h1_diasbp_noninvasive_min        3.006564e-02\n",
      "h1_heartrate_max                 1.521258e-10\n",
      "h1_heartrate_min                 1.468858e-05\n",
      "h1_mbp_max                       3.351510e-01\n",
      "h1_mbp_min                       4.206768e-01\n",
      "h1_mbp_noninvasive_min           2.160854e-01\n",
      "h1_resprate_max                  3.110566e-01\n",
      "h1_resprate_min                  7.494448e-21\n",
      "h1_spo2_min                      1.720128e-04\n",
      "h1_sysbp_max                     4.437154e-01\n",
      "h1_sysbp_min                     1.706144e-01\n",
      "h1_sysbp_noninvasive_max         3.001696e-01\n",
      "h1_sysbp_noninvasive_min         2.597913e-01\n",
      "d1_glucose_max                   3.493408e-06\n",
      "d1_potassium_max                 3.389977e-04\n",
      "apache_4a_hospital_death_prob    1.465432e-25\n",
      "apache_4a_icu_death_prob         2.332411e-03\n",
      "aids                             8.512666e-16\n",
      "cirrhosis                        3.308788e-04\n",
      "hepatic_failure                  2.069114e-04\n",
      "immunosuppression                2.147131e-03\n",
      "leukemia                         1.928580e-01\n",
      "lymphoma                         5.346549e-02\n",
      "solid_tumor_with_metastasis      2.077371e-15\n",
      "apache_3j_bodysystem             3.634857e-13\n",
      "apache_2_bodysystem              4.147203e-21\n",
      "dtype: float64\n",
      "worst_feature : d1_sysbp_noninvasive_min, 0.780011187581581 \n",
      "<class 'statsmodels.discrete.discrete_model.BinaryResultsWrapper'>\n",
      "age                              4.154384e-25\n",
      "bmi                              1.869958e-18\n",
      "elective_surgery                 1.417655e-19\n",
      "pre_icu_los_days                 2.189341e-21\n",
      "apache_2_diagnosis               1.789666e-03\n",
      "apache_3j_diagnosis              6.294683e-13\n",
      "apache_post_operative            2.218323e-06\n",
      "gcs_eyes_apache                  4.518732e-03\n",
      "gcs_motor_apache                 1.507195e-29\n",
      "gcs_unable_apache                4.087363e-11\n",
      "gcs_verbal_apache                7.195003e-03\n",
      "heart_rate_apache                3.547874e-04\n",
      "intubated_apache                 3.578788e-02\n",
      "map_apache                       2.097158e-01\n",
      "resprate_apache                  2.756445e-13\n",
      "temp_apache                      1.199840e-08\n",
      "ventilated_apache                6.347394e-81\n",
      "d1_diasbp_min                    3.048360e-05\n",
      "d1_heartrate_max                 8.157684e-43\n",
      "d1_mbp_min                       1.507173e-01\n",
      "d1_mbp_noninvasive_min           1.068375e-01\n",
      "d1_resprate_max                  5.265275e-01\n",
      "d1_spo2_min                      8.903470e-76\n",
      "d1_sysbp_min                     1.653449e-08\n",
      "d1_temp_min                      4.833142e-01\n",
      "h1_diasbp_max                    3.067684e-01\n",
      "h1_diasbp_noninvasive_max        6.122478e-01\n",
      "h1_diasbp_noninvasive_min        2.988201e-02\n",
      "h1_heartrate_max                 1.481108e-10\n",
      "h1_heartrate_min                 1.464889e-05\n",
      "h1_mbp_max                       3.360497e-01\n",
      "h1_mbp_min                       4.464179e-01\n",
      "h1_mbp_noninvasive_min           2.280167e-01\n",
      "h1_resprate_max                  3.106741e-01\n",
      "h1_resprate_min                  7.185268e-21\n",
      "h1_spo2_min                      1.737621e-04\n",
      "h1_sysbp_max                     4.534262e-01\n",
      "h1_sysbp_min                     1.768417e-01\n",
      "h1_sysbp_noninvasive_max         3.076831e-01\n",
      "h1_sysbp_noninvasive_min         2.687046e-01\n",
      "d1_glucose_max                   3.452331e-06\n",
      "d1_potassium_max                 3.382004e-04\n",
      "apache_4a_hospital_death_prob    1.478106e-25\n",
      "apache_4a_icu_death_prob         2.333296e-03\n",
      "aids                             8.620240e-16\n",
      "cirrhosis                        3.327790e-04\n",
      "hepatic_failure                  2.055629e-04\n",
      "immunosuppression                2.154955e-03\n",
      "leukemia                         1.924260e-01\n",
      "lymphoma                         5.345736e-02\n",
      "solid_tumor_with_metastasis      2.074531e-15\n",
      "apache_3j_bodysystem             3.606566e-13\n",
      "apache_2_bodysystem              4.102189e-21\n",
      "dtype: float64\n",
      "worst_feature : h1_diasbp_noninvasive_max, 0.6122478304054599 \n",
      "<class 'statsmodels.discrete.discrete_model.BinaryResultsWrapper'>\n",
      "age                              4.270388e-25\n",
      "bmi                              1.933464e-18\n",
      "elective_surgery                 1.434822e-19\n",
      "pre_icu_los_days                 2.092985e-21\n",
      "apache_2_diagnosis               1.783268e-03\n",
      "apache_3j_diagnosis              6.287340e-13\n",
      "apache_post_operative            2.252090e-06\n",
      "gcs_eyes_apache                  4.520126e-03\n",
      "gcs_motor_apache                 1.515168e-29\n",
      "gcs_unable_apache                4.189912e-11\n",
      "gcs_verbal_apache                7.139911e-03\n",
      "heart_rate_apache                3.491516e-04\n",
      "intubated_apache                 3.606261e-02\n",
      "map_apache                       2.101541e-01\n",
      "resprate_apache                  2.702718e-13\n",
      "temp_apache                      1.229505e-08\n",
      "ventilated_apache                5.733700e-81\n",
      "d1_diasbp_min                    3.302017e-05\n",
      "d1_heartrate_max                 8.029902e-43\n",
      "d1_mbp_min                       1.528982e-01\n",
      "d1_mbp_noninvasive_min           1.040400e-01\n",
      "d1_resprate_max                  5.274371e-01\n",
      "d1_spo2_min                      9.268558e-76\n",
      "d1_sysbp_min                     1.556423e-08\n",
      "d1_temp_min                      4.862450e-01\n",
      "h1_diasbp_max                    2.065471e-01\n",
      "h1_diasbp_noninvasive_min        1.917223e-02\n",
      "h1_heartrate_max                 1.385090e-10\n",
      "h1_heartrate_min                 1.385822e-05\n",
      "h1_mbp_max                       2.925252e-01\n",
      "h1_mbp_min                       3.854244e-01\n",
      "h1_mbp_noninvasive_min           2.017607e-01\n",
      "h1_resprate_max                  3.079596e-01\n",
      "h1_resprate_min                  7.060389e-21\n",
      "h1_spo2_min                      1.695981e-04\n",
      "h1_sysbp_max                     5.629309e-01\n",
      "h1_sysbp_min                     1.737956e-01\n",
      "h1_sysbp_noninvasive_max         3.751622e-01\n",
      "h1_sysbp_noninvasive_min         2.585059e-01\n",
      "d1_glucose_max                   3.364249e-06\n",
      "d1_potassium_max                 3.338788e-04\n",
      "apache_4a_hospital_death_prob    1.453232e-25\n",
      "apache_4a_icu_death_prob         2.320066e-03\n",
      "aids                             8.427639e-16\n",
      "cirrhosis                        3.349279e-04\n",
      "hepatic_failure                  2.070963e-04\n",
      "immunosuppression                2.164266e-03\n",
      "leukemia                         1.919139e-01\n",
      "lymphoma                         5.280479e-02\n",
      "solid_tumor_with_metastasis      2.071426e-15\n",
      "apache_3j_bodysystem             3.697713e-13\n",
      "apache_2_bodysystem              4.119989e-21\n",
      "dtype: float64\n",
      "worst_feature : h1_sysbp_max, 0.5629308853159574 \n",
      "<class 'statsmodels.discrete.discrete_model.BinaryResultsWrapper'>\n",
      "age                              4.663720e-25\n",
      "bmi                              2.052968e-18\n",
      "elective_surgery                 1.344716e-19\n",
      "pre_icu_los_days                 2.015665e-21\n",
      "apache_2_diagnosis               1.806541e-03\n",
      "apache_3j_diagnosis              6.380602e-13\n",
      "apache_post_operative            2.391255e-06\n",
      "gcs_eyes_apache                  4.590779e-03\n",
      "gcs_motor_apache                 1.644237e-29\n",
      "gcs_unable_apache                4.311089e-11\n",
      "gcs_verbal_apache                7.137651e-03\n",
      "heart_rate_apache                3.572012e-04\n",
      "intubated_apache                 3.531634e-02\n",
      "map_apache                       2.107061e-01\n",
      "resprate_apache                  2.536144e-13\n",
      "temp_apache                      1.223171e-08\n",
      "ventilated_apache                6.744382e-81\n",
      "d1_diasbp_min                    3.431011e-05\n",
      "d1_heartrate_max                 7.942430e-43\n",
      "d1_mbp_min                       1.493497e-01\n",
      "d1_mbp_noninvasive_min           1.062526e-01\n",
      "d1_resprate_max                  5.253594e-01\n",
      "d1_spo2_min                      1.065251e-75\n",
      "d1_sysbp_min                     1.302584e-08\n",
      "d1_temp_min                      4.879332e-01\n",
      "h1_diasbp_max                    2.288241e-01\n",
      "h1_diasbp_noninvasive_min        2.196383e-02\n",
      "h1_heartrate_max                 1.243027e-10\n",
      "h1_heartrate_min                 1.317865e-05\n",
      "h1_mbp_max                       2.646053e-01\n",
      "h1_mbp_min                       4.240966e-01\n",
      "h1_mbp_noninvasive_min           2.346033e-01\n",
      "h1_resprate_max                  3.065906e-01\n",
      "h1_resprate_min                  7.111707e-21\n",
      "h1_spo2_min                      1.857188e-04\n",
      "h1_sysbp_min                     1.858028e-03\n",
      "h1_sysbp_noninvasive_max         3.750062e-01\n",
      "h1_sysbp_noninvasive_min         1.972374e-02\n",
      "d1_glucose_max                   3.461271e-06\n",
      "d1_potassium_max                 3.285283e-04\n",
      "apache_4a_hospital_death_prob    1.453367e-25\n",
      "apache_4a_icu_death_prob         2.317213e-03\n",
      "aids                             8.175124e-16\n",
      "cirrhosis                        3.314522e-04\n",
      "hepatic_failure                  2.097073e-04\n",
      "immunosuppression                2.171585e-03\n",
      "leukemia                         1.918551e-01\n",
      "lymphoma                         5.278376e-02\n",
      "solid_tumor_with_metastasis      2.087563e-15\n",
      "apache_3j_bodysystem             3.531141e-13\n",
      "apache_2_bodysystem              3.708911e-21\n",
      "dtype: float64\n",
      "worst_feature : d1_resprate_max, 0.525359439467125 \n",
      "<class 'statsmodels.discrete.discrete_model.BinaryResultsWrapper'>\n",
      "age                              4.438004e-25\n",
      "bmi                              1.965995e-18\n",
      "elective_surgery                 1.119719e-19\n",
      "pre_icu_los_days                 1.994470e-21\n",
      "apache_2_diagnosis               1.798509e-03\n",
      "apache_3j_diagnosis              5.852256e-13\n",
      "apache_post_operative            2.311617e-06\n",
      "gcs_eyes_apache                  4.627591e-03\n",
      "gcs_motor_apache                 1.490587e-29\n",
      "gcs_unable_apache                4.028329e-11\n",
      "gcs_verbal_apache                7.000670e-03\n",
      "heart_rate_apache                4.123227e-04\n",
      "intubated_apache                 3.491769e-02\n",
      "map_apache                       2.155135e-01\n",
      "resprate_apache                  3.038117e-15\n",
      "temp_apache                      1.372743e-08\n",
      "ventilated_apache                7.897254e-81\n",
      "d1_diasbp_min                    3.657335e-05\n",
      "d1_heartrate_max                 1.207453e-43\n",
      "d1_mbp_min                       1.457325e-01\n",
      "d1_mbp_noninvasive_min           1.072076e-01\n",
      "d1_spo2_min                      1.300959e-75\n",
      "d1_sysbp_min                     1.375620e-08\n",
      "d1_temp_min                      4.784199e-01\n",
      "h1_diasbp_max                    2.255319e-01\n",
      "h1_diasbp_noninvasive_min        2.174495e-02\n",
      "h1_heartrate_max                 1.522841e-10\n",
      "h1_heartrate_min                 1.251861e-05\n",
      "h1_mbp_max                       2.628593e-01\n",
      "h1_mbp_min                       4.241051e-01\n",
      "h1_mbp_noninvasive_min           2.345459e-01\n",
      "h1_resprate_max                  1.850764e-01\n",
      "h1_resprate_min                  3.750947e-21\n",
      "h1_spo2_min                      1.828588e-04\n",
      "h1_sysbp_min                     1.852050e-03\n",
      "h1_sysbp_noninvasive_max         3.751772e-01\n",
      "h1_sysbp_noninvasive_min         1.951169e-02\n",
      "d1_glucose_max                   3.432470e-06\n",
      "d1_potassium_max                 2.931515e-04\n",
      "apache_4a_hospital_death_prob    1.410533e-25\n",
      "apache_4a_icu_death_prob         2.264469e-03\n",
      "aids                             9.185151e-16\n",
      "cirrhosis                        3.321093e-04\n",
      "hepatic_failure                  2.071709e-04\n",
      "immunosuppression                2.180416e-03\n",
      "leukemia                         1.942827e-01\n",
      "lymphoma                         5.200106e-02\n",
      "solid_tumor_with_metastasis      2.057819e-15\n",
      "apache_3j_bodysystem             3.196191e-13\n",
      "apache_2_bodysystem              3.440487e-21\n",
      "dtype: float64\n",
      "worst_feature : d1_temp_min, 0.47841986730643926 \n",
      "<class 'statsmodels.discrete.discrete_model.BinaryResultsWrapper'>\n",
      "age                              4.199937e-25\n",
      "bmi                              1.948376e-18\n",
      "elective_surgery                 1.150834e-19\n",
      "pre_icu_los_days                 2.111419e-21\n",
      "apache_2_diagnosis               1.778277e-03\n",
      "apache_3j_diagnosis              5.381534e-13\n",
      "apache_post_operative            2.202699e-06\n",
      "gcs_eyes_apache                  4.718923e-03\n",
      "gcs_motor_apache                 1.554272e-29\n",
      "gcs_unable_apache                4.199996e-11\n",
      "gcs_verbal_apache                6.957535e-03\n",
      "heart_rate_apache                3.775960e-04\n",
      "intubated_apache                 3.508322e-02\n",
      "map_apache                       2.182439e-01\n",
      "resprate_apache                  3.323984e-15\n",
      "temp_apache                      6.586522e-17\n",
      "ventilated_apache                6.016380e-81\n",
      "d1_diasbp_min                    3.721474e-05\n",
      "d1_heartrate_max                 6.576422e-44\n",
      "d1_mbp_min                       1.458165e-01\n",
      "d1_mbp_noninvasive_min           1.071909e-01\n",
      "d1_spo2_min                      1.618006e-75\n",
      "d1_sysbp_min                     1.537756e-08\n",
      "h1_diasbp_max                    2.247966e-01\n",
      "h1_diasbp_noninvasive_min        2.196291e-02\n",
      "h1_heartrate_max                 1.414551e-10\n",
      "h1_heartrate_min                 1.155411e-05\n",
      "h1_mbp_max                       2.643944e-01\n",
      "h1_mbp_min                       4.264955e-01\n",
      "h1_mbp_noninvasive_min           2.351146e-01\n",
      "h1_resprate_max                  1.810252e-01\n",
      "h1_resprate_min                  3.227561e-21\n",
      "h1_spo2_min                      1.764551e-04\n",
      "h1_sysbp_min                     1.878304e-03\n",
      "h1_sysbp_noninvasive_max         3.711583e-01\n",
      "h1_sysbp_noninvasive_min         1.983724e-02\n",
      "d1_glucose_max                   3.351237e-06\n",
      "d1_potassium_max                 2.893703e-04\n",
      "apache_4a_hospital_death_prob    1.342137e-25\n",
      "apache_4a_icu_death_prob         2.241705e-03\n",
      "aids                             6.484029e-17\n",
      "cirrhosis                        3.314279e-04\n",
      "hepatic_failure                  2.164053e-04\n",
      "immunosuppression                2.167738e-03\n",
      "leukemia                         1.976253e-01\n",
      "lymphoma                         5.415654e-02\n",
      "solid_tumor_with_metastasis      2.191196e-15\n",
      "apache_3j_bodysystem             2.883465e-13\n",
      "apache_2_bodysystem              3.059453e-21\n",
      "dtype: float64\n",
      "worst_feature : h1_mbp_min, 0.4264955363358204 \n",
      "<class 'statsmodels.discrete.discrete_model.BinaryResultsWrapper'>\n",
      "age                              4.322900e-25\n",
      "bmi                              1.685638e-18\n",
      "elective_surgery                 1.308289e-19\n",
      "pre_icu_los_days                 2.095988e-21\n",
      "apache_2_diagnosis               1.792518e-03\n",
      "apache_3j_diagnosis              5.165852e-13\n",
      "apache_post_operative            2.019490e-06\n",
      "gcs_eyes_apache                  4.726186e-03\n",
      "gcs_motor_apache                 1.490715e-29\n",
      "gcs_unable_apache                4.543051e-11\n",
      "gcs_verbal_apache                7.230270e-03\n",
      "heart_rate_apache                3.630350e-04\n",
      "intubated_apache                 3.350944e-02\n",
      "map_apache                       2.245418e-01\n",
      "resprate_apache                  3.202169e-15\n",
      "temp_apache                      7.445483e-17\n",
      "ventilated_apache                5.811121e-81\n",
      "d1_diasbp_min                    3.557191e-05\n",
      "d1_heartrate_max                 7.233792e-44\n",
      "d1_mbp_min                       1.927443e-01\n",
      "d1_mbp_noninvasive_min           6.604471e-02\n",
      "d1_spo2_min                      1.440576e-75\n",
      "d1_sysbp_min                     1.198310e-08\n",
      "h1_diasbp_max                    2.861626e-01\n",
      "h1_diasbp_noninvasive_min        3.041070e-02\n",
      "h1_heartrate_max                 1.551688e-10\n",
      "h1_heartrate_min                 1.172644e-05\n",
      "h1_mbp_max                       4.019670e-01\n",
      "h1_mbp_noninvasive_min           3.774362e-01\n",
      "h1_resprate_max                  1.774253e-01\n",
      "h1_resprate_min                  2.968747e-21\n",
      "h1_spo2_min                      1.654689e-04\n",
      "h1_sysbp_min                     5.018662e-04\n",
      "h1_sysbp_noninvasive_max         4.630232e-01\n",
      "h1_sysbp_noninvasive_min         2.849540e-02\n",
      "d1_glucose_max                   3.245343e-06\n",
      "d1_potassium_max                 2.910640e-04\n",
      "apache_4a_hospital_death_prob    1.514221e-25\n",
      "apache_4a_icu_death_prob         2.343566e-03\n",
      "aids                             6.042355e-17\n",
      "cirrhosis                        3.294427e-04\n",
      "hepatic_failure                  2.204396e-04\n",
      "immunosuppression                2.127959e-03\n",
      "leukemia                         1.973571e-01\n",
      "lymphoma                         5.360375e-02\n",
      "solid_tumor_with_metastasis      2.112377e-15\n",
      "apache_3j_bodysystem             3.213552e-13\n",
      "apache_2_bodysystem              3.053575e-21\n",
      "dtype: float64\n",
      "worst_feature : h1_sysbp_noninvasive_max, 0.46302321524600154 \n",
      "<class 'statsmodels.discrete.discrete_model.BinaryResultsWrapper'>\n",
      "age                              2.828022e-25\n",
      "bmi                              1.503698e-18\n",
      "elective_surgery                 1.189950e-19\n",
      "pre_icu_los_days                 2.053899e-21\n",
      "apache_2_diagnosis               1.717109e-03\n",
      "apache_3j_diagnosis              5.184974e-13\n",
      "apache_post_operative            2.049717e-06\n",
      "gcs_eyes_apache                  4.593313e-03\n",
      "gcs_motor_apache                 1.548798e-29\n",
      "gcs_unable_apache                4.524813e-11\n",
      "gcs_verbal_apache                7.144378e-03\n",
      "heart_rate_apache                3.037250e-04\n",
      "intubated_apache                 3.208072e-02\n",
      "map_apache                       2.171087e-01\n",
      "resprate_apache                  3.354700e-15\n",
      "temp_apache                      8.594374e-17\n",
      "ventilated_apache                3.449138e-81\n",
      "d1_diasbp_min                    3.145045e-05\n",
      "d1_heartrate_max                 6.345169e-44\n",
      "d1_mbp_min                       1.819654e-01\n",
      "d1_mbp_noninvasive_min           7.323196e-02\n",
      "d1_spo2_min                      1.114734e-75\n",
      "d1_sysbp_min                     1.154384e-08\n",
      "h1_diasbp_max                    1.482636e-01\n",
      "h1_diasbp_noninvasive_min        1.813579e-02\n",
      "h1_heartrate_max                 1.879915e-10\n",
      "h1_heartrate_min                 1.529628e-05\n",
      "h1_mbp_max                       4.973307e-01\n",
      "h1_mbp_noninvasive_min           3.155513e-01\n",
      "h1_resprate_max                  1.991648e-01\n",
      "h1_resprate_min                  3.752350e-21\n",
      "h1_spo2_min                      1.411191e-04\n",
      "h1_sysbp_min                     1.442351e-05\n",
      "h1_sysbp_noninvasive_min         5.711634e-05\n",
      "d1_glucose_max                   2.819671e-06\n",
      "d1_potassium_max                 2.799474e-04\n",
      "apache_4a_hospital_death_prob    1.379613e-25\n",
      "apache_4a_icu_death_prob         2.298958e-03\n",
      "aids                             5.586910e-17\n",
      "cirrhosis                        3.305155e-04\n",
      "hepatic_failure                  2.190251e-04\n",
      "immunosuppression                2.120639e-03\n",
      "leukemia                         1.970150e-01\n",
      "lymphoma                         5.304173e-02\n",
      "solid_tumor_with_metastasis      2.014438e-15\n",
      "apache_3j_bodysystem             2.985642e-13\n",
      "apache_2_bodysystem              3.292927e-21\n",
      "dtype: float64\n",
      "worst_feature : h1_mbp_max, 0.49733073509482173 \n",
      "<class 'statsmodels.discrete.discrete_model.BinaryResultsWrapper'>\n",
      "age                              3.269018e-25\n",
      "bmi                              1.614773e-18\n",
      "elective_surgery                 1.106689e-19\n",
      "pre_icu_los_days                 1.942187e-21\n",
      "apache_2_diagnosis               1.748305e-03\n",
      "apache_3j_diagnosis              5.524020e-13\n",
      "apache_post_operative            2.241239e-06\n",
      "gcs_eyes_apache                  4.617287e-03\n",
      "gcs_motor_apache                 1.570218e-29\n",
      "gcs_unable_apache                4.873964e-11\n",
      "gcs_verbal_apache                7.069854e-03\n",
      "heart_rate_apache                3.249128e-04\n",
      "intubated_apache                 3.259005e-02\n",
      "map_apache                       2.414195e-01\n",
      "resprate_apache                  3.953830e-15\n",
      "temp_apache                      9.114356e-17\n",
      "ventilated_apache                4.379091e-81\n",
      "d1_diasbp_min                    2.861456e-05\n",
      "d1_heartrate_max                 5.182365e-44\n",
      "d1_mbp_min                       1.658849e-01\n",
      "d1_mbp_noninvasive_min           8.438841e-02\n",
      "d1_spo2_min                      1.217181e-75\n",
      "d1_sysbp_min                     1.167789e-08\n",
      "h1_diasbp_max                    1.669684e-01\n",
      "h1_diasbp_noninvasive_min        2.299712e-02\n",
      "h1_heartrate_max                 1.180598e-10\n",
      "h1_heartrate_min                 1.253256e-05\n",
      "h1_mbp_noninvasive_min           6.765196e-02\n",
      "h1_resprate_max                  1.830189e-01\n",
      "h1_resprate_min                  2.005551e-21\n",
      "h1_spo2_min                      1.583473e-04\n",
      "h1_sysbp_min                     4.538448e-06\n",
      "h1_sysbp_noninvasive_min         2.647741e-05\n",
      "d1_glucose_max                   2.948660e-06\n",
      "d1_potassium_max                 2.778206e-04\n",
      "apache_4a_hospital_death_prob    1.413028e-25\n",
      "apache_4a_icu_death_prob         2.282509e-03\n",
      "aids                             5.588055e-17\n",
      "cirrhosis                        3.277988e-04\n",
      "hepatic_failure                  2.157138e-04\n",
      "immunosuppression                2.035968e-03\n",
      "leukemia                         1.967218e-01\n",
      "lymphoma                         5.269906e-02\n",
      "solid_tumor_with_metastasis      1.991758e-15\n",
      "apache_3j_bodysystem             2.939690e-13\n",
      "apache_2_bodysystem              3.323419e-21\n",
      "dtype: float64\n",
      "worst_feature : map_apache, 0.24141949019364206 \n",
      "<class 'statsmodels.discrete.discrete_model.BinaryResultsWrapper'>\n",
      "age                              2.730719e-25\n",
      "bmi                              2.217246e-18\n",
      "elective_surgery                 9.891994e-20\n",
      "pre_icu_los_days                 2.346030e-21\n",
      "apache_2_diagnosis               1.631197e-03\n",
      "apache_3j_diagnosis              5.255314e-13\n",
      "apache_post_operative            2.068980e-06\n",
      "gcs_eyes_apache                  4.778544e-03\n",
      "gcs_motor_apache                 1.332377e-29\n",
      "gcs_unable_apache                5.068298e-11\n",
      "gcs_verbal_apache                6.611570e-03\n",
      "heart_rate_apache                3.984474e-04\n",
      "intubated_apache                 3.101509e-02\n",
      "resprate_apache                  1.857676e-15\n",
      "temp_apache                      8.072342e-17\n",
      "ventilated_apache                3.935878e-81\n",
      "d1_diasbp_min                    2.739195e-05\n",
      "d1_heartrate_max                 2.641952e-44\n",
      "d1_mbp_min                       1.878756e-01\n",
      "d1_mbp_noninvasive_min           8.646827e-02\n",
      "d1_spo2_min                      5.577274e-76\n",
      "d1_sysbp_min                     1.574251e-08\n",
      "h1_diasbp_max                    1.023708e-01\n",
      "h1_diasbp_noninvasive_min        2.076632e-02\n",
      "h1_heartrate_max                 8.854618e-11\n",
      "h1_heartrate_min                 1.473716e-05\n",
      "h1_mbp_noninvasive_min           7.625363e-02\n",
      "h1_resprate_max                  1.827067e-01\n",
      "h1_resprate_min                  2.325989e-21\n",
      "h1_spo2_min                      1.867661e-04\n",
      "h1_sysbp_min                     4.951964e-06\n",
      "h1_sysbp_noninvasive_min         2.649465e-05\n",
      "d1_glucose_max                   2.480231e-06\n",
      "d1_potassium_max                 3.016949e-04\n",
      "apache_4a_hospital_death_prob    1.329345e-25\n",
      "apache_4a_icu_death_prob         2.310959e-03\n",
      "aids                             8.942738e-17\n",
      "cirrhosis                        3.314031e-04\n",
      "hepatic_failure                  2.325497e-04\n",
      "immunosuppression                2.014294e-03\n",
      "leukemia                         1.984605e-01\n",
      "lymphoma                         5.412295e-02\n",
      "solid_tumor_with_metastasis      2.039372e-15\n",
      "apache_3j_bodysystem             3.096202e-13\n",
      "apache_2_bodysystem              2.935358e-21\n",
      "dtype: float64\n",
      "<class 'statsmodels.discrete.discrete_model.BinaryResultsWrapper'>\n",
      "age                              2.147309e-25\n",
      "bmi                              2.109241e-18\n",
      "elective_surgery                 8.562575e-20\n",
      "pre_icu_los_days                 1.261088e-21\n",
      "apache_2_diagnosis               1.615245e-03\n",
      "apache_3j_diagnosis              5.959554e-13\n",
      "apache_post_operative            2.117492e-06\n",
      "gcs_eyes_apache                  4.478914e-03\n",
      "gcs_motor_apache                 1.562965e-29\n",
      "gcs_unable_apache                5.099802e-11\n",
      "gcs_verbal_apache                7.224845e-03\n",
      "heart_rate_apache                4.079353e-04\n",
      "intubated_apache                 3.040690e-02\n",
      "resprate_apache                  1.844621e-15\n",
      "temp_apache                      8.586397e-17\n",
      "ventilated_apache                4.122810e-81\n",
      "d1_diasbp_min                    2.736431e-05\n",
      "d1_heartrate_max                 2.516491e-44\n",
      "d1_mbp_min                       1.865724e-01\n",
      "d1_mbp_noninvasive_min           8.651720e-02\n",
      "d1_spo2_min                      4.283916e-76\n",
      "d1_sysbp_min                     1.587115e-08\n",
      "h1_diasbp_max                    1.038796e-01\n",
      "h1_diasbp_noninvasive_min        2.040888e-02\n",
      "h1_heartrate_max                 9.616906e-11\n",
      "h1_heartrate_min                 1.546760e-05\n",
      "h1_mbp_noninvasive_min           7.687035e-02\n",
      "h1_resprate_max                  1.807630e-01\n",
      "h1_resprate_min                  2.027510e-21\n",
      "h1_spo2_min                      1.819739e-04\n",
      "h1_sysbp_min                     4.795962e-06\n",
      "h1_sysbp_noninvasive_min         2.590976e-05\n",
      "d1_glucose_max                   2.540498e-06\n",
      "d1_potassium_max                 2.990155e-04\n",
      "apache_4a_hospital_death_prob    8.767848e-26\n",
      "apache_4a_icu_death_prob         2.130056e-03\n",
      "aids                             2.649284e-17\n",
      "cirrhosis                        3.461999e-04\n",
      "hepatic_failure                  2.268335e-04\n",
      "immunosuppression                8.377512e-04\n",
      "lymphoma                         4.804882e-02\n",
      "solid_tumor_with_metastasis      3.054982e-15\n",
      "apache_3j_bodysystem             2.914176e-13\n",
      "apache_2_bodysystem              2.568462e-21\n",
      "dtype: float64\n",
      "worst_feature : d1_mbp_min, 0.1865724238761688 \n",
      "<class 'statsmodels.discrete.discrete_model.BinaryResultsWrapper'>\n",
      "age                              1.971133e-25\n",
      "bmi                              2.154619e-18\n",
      "elective_surgery                 7.939370e-20\n",
      "pre_icu_los_days                 1.161108e-21\n",
      "apache_2_diagnosis               1.615325e-03\n",
      "apache_3j_diagnosis              6.466301e-13\n",
      "apache_post_operative            2.318308e-06\n",
      "gcs_eyes_apache                  4.532885e-03\n",
      "gcs_motor_apache                 1.757742e-29\n",
      "gcs_unable_apache                5.204325e-11\n",
      "gcs_verbal_apache                6.685031e-03\n",
      "heart_rate_apache                4.063368e-04\n",
      "intubated_apache                 3.130354e-02\n",
      "resprate_apache                  3.319267e-15\n",
      "temp_apache                      9.771903e-17\n",
      "ventilated_apache                4.680922e-81\n",
      "d1_diasbp_min                    1.223372e-07\n",
      "d1_heartrate_max                 1.928074e-44\n",
      "d1_mbp_noninvasive_min           5.348533e-05\n",
      "d1_spo2_min                      2.451982e-76\n",
      "d1_sysbp_min                     9.670390e-11\n",
      "h1_diasbp_max                    1.025122e-01\n",
      "h1_diasbp_noninvasive_min        2.256278e-02\n",
      "h1_heartrate_max                 8.420569e-11\n",
      "h1_heartrate_min                 1.392529e-05\n",
      "h1_mbp_noninvasive_min           6.613324e-02\n",
      "h1_resprate_max                  1.833319e-01\n",
      "h1_resprate_min                  1.652319e-21\n",
      "h1_spo2_min                      1.736393e-04\n",
      "h1_sysbp_min                     4.067602e-07\n",
      "h1_sysbp_noninvasive_min         3.285592e-06\n",
      "d1_glucose_max                   2.605919e-06\n",
      "d1_potassium_max                 3.010753e-04\n",
      "apache_4a_hospital_death_prob    8.202093e-26\n",
      "apache_4a_icu_death_prob         2.083897e-03\n",
      "aids                             2.533991e-17\n",
      "cirrhosis                        3.333380e-04\n",
      "hepatic_failure                  2.162081e-04\n",
      "immunosuppression                8.337543e-04\n",
      "lymphoma                         4.771113e-02\n",
      "solid_tumor_with_metastasis      2.856636e-15\n",
      "apache_3j_bodysystem             2.542882e-13\n",
      "apache_2_bodysystem              2.717834e-21\n",
      "dtype: float64\n",
      "worst_feature : h1_resprate_max, 0.183331872909975 \n",
      "<class 'statsmodels.discrete.discrete_model.BinaryResultsWrapper'>\n",
      "age                              1.997239e-25\n",
      "bmi                              2.012716e-18\n",
      "elective_surgery                 7.181021e-20\n",
      "pre_icu_los_days                 1.289342e-21\n",
      "apache_2_diagnosis               1.687712e-03\n",
      "apache_3j_diagnosis              6.889256e-13\n",
      "apache_post_operative            2.232078e-06\n",
      "gcs_eyes_apache                  4.510445e-03\n",
      "gcs_motor_apache                 1.370990e-29\n",
      "gcs_unable_apache                5.093214e-11\n",
      "gcs_verbal_apache                6.271387e-03\n",
      "heart_rate_apache                5.676387e-04\n",
      "intubated_apache                 3.145068e-02\n",
      "resprate_apache                  3.517163e-15\n",
      "temp_apache                      1.601027e-16\n",
      "ventilated_apache                6.621933e-81\n",
      "d1_diasbp_min                    1.344403e-07\n",
      "d1_heartrate_max                 1.901195e-44\n",
      "d1_mbp_noninvasive_min           5.036864e-05\n",
      "d1_spo2_min                      5.845137e-76\n",
      "d1_sysbp_min                     1.169494e-10\n",
      "h1_diasbp_max                    1.556416e-01\n",
      "h1_diasbp_noninvasive_min        3.049491e-02\n",
      "h1_heartrate_max                 2.281226e-12\n",
      "h1_heartrate_min                 4.777436e-06\n",
      "h1_mbp_noninvasive_min           6.161948e-02\n",
      "h1_resprate_min                  5.085233e-27\n",
      "h1_spo2_min                      2.195472e-04\n",
      "h1_sysbp_min                     5.979508e-07\n",
      "h1_sysbp_noninvasive_min         4.609251e-06\n",
      "d1_glucose_max                   2.698935e-06\n",
      "d1_potassium_max                 2.666350e-04\n",
      "apache_4a_hospital_death_prob    9.337262e-26\n",
      "apache_4a_icu_death_prob         2.092403e-03\n",
      "aids                             3.320861e-17\n",
      "cirrhosis                        3.359142e-04\n",
      "hepatic_failure                  2.284339e-04\n",
      "immunosuppression                8.442357e-04\n",
      "lymphoma                         4.889361e-02\n",
      "solid_tumor_with_metastasis      3.113908e-15\n",
      "apache_3j_bodysystem             3.256389e-13\n",
      "apache_2_bodysystem              3.136510e-21\n",
      "dtype: float64\n",
      "worst_feature : h1_diasbp_max, 0.15564155947459085 \n",
      "<class 'statsmodels.discrete.discrete_model.BinaryResultsWrapper'>\n",
      "age                              2.150277e-25\n",
      "bmi                              2.665348e-18\n",
      "elective_surgery                 6.362912e-20\n",
      "pre_icu_los_days                 1.877724e-21\n",
      "apache_2_diagnosis               1.580513e-03\n",
      "apache_3j_diagnosis              6.343517e-13\n",
      "apache_post_operative            2.433693e-06\n",
      "gcs_eyes_apache                  4.418234e-03\n",
      "gcs_motor_apache                 1.672173e-29\n",
      "gcs_unable_apache                5.597755e-11\n",
      "gcs_verbal_apache                5.608055e-03\n",
      "heart_rate_apache                4.269177e-04\n",
      "intubated_apache                 2.959952e-02\n",
      "resprate_apache                  3.879808e-15\n",
      "temp_apache                      2.350101e-16\n",
      "ventilated_apache                2.287540e-81\n",
      "d1_diasbp_min                    1.396175e-07\n",
      "d1_heartrate_max                 1.250098e-44\n",
      "d1_mbp_noninvasive_min           4.470406e-05\n",
      "d1_spo2_min                      1.545203e-76\n",
      "d1_sysbp_min                     6.104808e-11\n",
      "h1_diasbp_noninvasive_min        7.157953e-02\n",
      "h1_heartrate_max                 3.747996e-12\n",
      "h1_heartrate_min                 1.238397e-05\n",
      "h1_mbp_noninvasive_min           7.335456e-02\n",
      "h1_resprate_min                  9.923357e-27\n",
      "h1_spo2_min                      1.459863e-04\n",
      "h1_sysbp_min                     1.646637e-06\n",
      "h1_sysbp_noninvasive_min         1.211858e-05\n",
      "d1_glucose_max                   2.588306e-06\n",
      "d1_potassium_max                 2.735061e-04\n",
      "apache_4a_hospital_death_prob    8.437254e-26\n",
      "apache_4a_icu_death_prob         2.125177e-03\n",
      "aids                             3.500987e-17\n",
      "cirrhosis                        3.121019e-04\n",
      "hepatic_failure                  2.445369e-04\n",
      "immunosuppression                8.810298e-04\n",
      "lymphoma                         5.000643e-02\n",
      "solid_tumor_with_metastasis      3.172090e-15\n",
      "apache_3j_bodysystem             3.307392e-13\n",
      "apache_2_bodysystem              3.972242e-21\n",
      "dtype: float64\n",
      "worst_feature : h1_mbp_noninvasive_min, 0.07335456420034447 \n",
      "<class 'statsmodels.discrete.discrete_model.BinaryResultsWrapper'>\n",
      "age                              2.358301e-25\n",
      "bmi                              1.832467e-18\n",
      "elective_surgery                 7.428083e-20\n",
      "pre_icu_los_days                 1.658084e-21\n",
      "apache_2_diagnosis               1.551659e-03\n",
      "apache_3j_diagnosis              5.463440e-13\n",
      "apache_post_operative            1.965196e-06\n",
      "gcs_eyes_apache                  4.447211e-03\n",
      "gcs_motor_apache                 1.202903e-29\n",
      "gcs_unable_apache                4.902013e-11\n",
      "gcs_verbal_apache                6.065051e-03\n",
      "heart_rate_apache                4.502757e-04\n",
      "intubated_apache                 2.828646e-02\n",
      "resprate_apache                  9.042728e-15\n",
      "temp_apache                      2.532876e-16\n",
      "ventilated_apache                1.959490e-81\n",
      "d1_diasbp_min                    3.090917e-07\n",
      "d1_heartrate_max                 6.565239e-45\n",
      "d1_mbp_noninvasive_min           3.741339e-06\n",
      "d1_spo2_min                      1.855469e-76\n",
      "d1_sysbp_min                     1.591164e-10\n",
      "h1_diasbp_noninvasive_min        3.804026e-03\n",
      "h1_heartrate_max                 2.236916e-12\n",
      "h1_heartrate_min                 1.165759e-05\n",
      "h1_resprate_min                  7.077945e-27\n",
      "h1_spo2_min                      1.529622e-04\n",
      "h1_sysbp_min                     1.246670e-06\n",
      "h1_sysbp_noninvasive_min         4.350755e-05\n",
      "d1_glucose_max                   2.567070e-06\n",
      "d1_potassium_max                 2.934197e-04\n",
      "apache_4a_hospital_death_prob    9.912398e-26\n",
      "apache_4a_icu_death_prob         2.077951e-03\n",
      "aids                             4.051301e-17\n",
      "cirrhosis                        2.998556e-04\n",
      "hepatic_failure                  2.449132e-04\n",
      "immunosuppression                9.066833e-04\n",
      "lymphoma                         5.082559e-02\n",
      "solid_tumor_with_metastasis      3.235097e-15\n",
      "apache_3j_bodysystem             2.564140e-13\n",
      "apache_2_bodysystem              3.543006e-21\n",
      "dtype: float64\n",
      "<class 'statsmodels.discrete.discrete_model.BinaryResultsWrapper'>\n",
      "age                              1.302851e-25\n",
      "bmi                              1.799441e-18\n",
      "elective_surgery                 7.240017e-20\n",
      "pre_icu_los_days                 1.498051e-21\n",
      "apache_2_diagnosis               1.564048e-03\n",
      "apache_3j_diagnosis              5.913337e-13\n",
      "apache_post_operative            2.013121e-06\n",
      "gcs_eyes_apache                  4.671408e-03\n",
      "gcs_motor_apache                 1.139752e-29\n",
      "gcs_unable_apache                5.356992e-11\n",
      "gcs_verbal_apache                6.496525e-03\n",
      "heart_rate_apache                5.026580e-04\n",
      "intubated_apache                 2.738153e-02\n",
      "resprate_apache                  8.772482e-15\n",
      "temp_apache                      1.987339e-16\n",
      "ventilated_apache                1.337108e-81\n",
      "d1_diasbp_min                    3.123974e-07\n",
      "d1_heartrate_max                 6.507199e-45\n",
      "d1_mbp_noninvasive_min           3.745396e-06\n",
      "d1_spo2_min                      1.755724e-76\n",
      "d1_sysbp_min                     1.502322e-10\n",
      "h1_diasbp_noninvasive_min        3.810342e-03\n",
      "h1_heartrate_max                 2.254422e-12\n",
      "h1_heartrate_min                 1.190723e-05\n",
      "h1_resprate_min                  6.894161e-27\n",
      "h1_spo2_min                      1.555462e-04\n",
      "h1_sysbp_min                     1.259463e-06\n",
      "h1_sysbp_noninvasive_min         4.367466e-05\n",
      "d1_glucose_max                   2.847319e-06\n",
      "d1_potassium_max                 2.977832e-04\n",
      "apache_4a_hospital_death_prob    7.696842e-26\n",
      "apache_4a_icu_death_prob         1.910734e-03\n",
      "aids                             1.417836e-18\n",
      "cirrhosis                        2.920874e-04\n",
      "hepatic_failure                  2.149977e-04\n",
      "immunosuppression                3.823804e-04\n",
      "solid_tumor_with_metastasis      4.194466e-15\n",
      "apache_3j_bodysystem             2.168649e-13\n",
      "apache_2_bodysystem              3.103329e-21\n",
      "dtype: float64\n",
      "\n",
      "Selected Features:\n",
      "['age', 'bmi', 'elective_surgery', 'pre_icu_los_days', 'apache_2_diagnosis', 'apache_3j_diagnosis', 'apache_post_operative', 'gcs_eyes_apache', 'gcs_motor_apache', 'gcs_unable_apache', 'gcs_verbal_apache', 'heart_rate_apache', 'intubated_apache', 'resprate_apache', 'temp_apache', 'ventilated_apache', 'd1_diasbp_min', 'd1_heartrate_max', 'd1_mbp_noninvasive_min', 'd1_spo2_min', 'd1_sysbp_min', 'h1_diasbp_noninvasive_min', 'h1_heartrate_max', 'h1_heartrate_min', 'h1_resprate_min', 'h1_spo2_min', 'h1_sysbp_min', 'h1_sysbp_noninvasive_min', 'd1_glucose_max', 'd1_potassium_max', 'apache_4a_hospital_death_prob', 'apache_4a_icu_death_prob', 'aids', 'cirrhosis', 'hepatic_failure', 'immunosuppression', 'solid_tumor_with_metastasis', 'apache_3j_bodysystem', 'apache_2_bodysystem', 'leukemia', 'lymphoma']\n",
      "Removed Features:\n",
      "['h1_mbp_noninvasive_max', 'h1_spo2_max', 'h1_diasbp_min', 'weight', 'd1_diasbp_noninvasive_min', 'd1_sysbp_noninvasive_min', 'h1_diasbp_noninvasive_max', 'h1_sysbp_max', 'd1_resprate_max', 'd1_temp_min', 'h1_mbp_min', 'h1_sysbp_noninvasive_max', 'h1_mbp_max', 'map_apache', 'd1_mbp_min', 'h1_resprate_max', 'h1_diasbp_max', 'h1_mbp_noninvasive_min']\n"
     ]
    }
   ],
   "source": [
    "features_to_remove = backward_regression(trainX.fillna(-1),trainY)"
   ]
  },
  {
   "cell_type": "markdown",
   "metadata": {},
   "source": [
    "Rimuoviamo dal training set le feature non selezionate"
   ]
  },
  {
   "cell_type": "code",
   "execution_count": null,
   "metadata": {},
   "outputs": [],
   "source": [
    "drop_features_from_trainset(features_to_remove)"
   ]
  },
  {
   "cell_type": "code",
   "execution_count": 146,
   "metadata": {},
   "outputs": [
    {
     "data": {
      "text/plain": [
       "['age',\n",
       " 'bmi',\n",
       " 'pre_icu_los_days',\n",
       " 'weight',\n",
       " 'apache_2_diagnosis',\n",
       " 'apache_3j_diagnosis',\n",
       " 'heart_rate_apache',\n",
       " 'map_apache',\n",
       " 'resprate_apache',\n",
       " 'temp_apache',\n",
       " 'd1_diasbp_min',\n",
       " 'd1_heartrate_max',\n",
       " 'd1_mbp_min',\n",
       " 'd1_resprate_max',\n",
       " 'd1_spo2_min',\n",
       " 'd1_sysbp_min',\n",
       " 'd1_sysbp_noninvasive_min',\n",
       " 'd1_temp_min',\n",
       " 'h1_diasbp_max',\n",
       " 'h1_heartrate_max',\n",
       " 'h1_heartrate_min',\n",
       " 'h1_resprate_max',\n",
       " 'h1_resprate_min',\n",
       " 'h1_sysbp_max',\n",
       " 'h1_sysbp_noninvasive_min',\n",
       " 'd1_glucose_max',\n",
       " 'd1_potassium_max',\n",
       " 'apache_4a_hospital_death_prob',\n",
       " 'apache_4a_icu_death_prob']"
      ]
     },
     "execution_count": 146,
     "metadata": {},
     "output_type": "execute_result"
    }
   ],
   "source": [
    "from sklearn.feature_selection import RFE\n",
    "selector = RFE(estimator = DecisionTreeClassifier() ,step=1)\n",
    "selector = selector.fit(trainX.fillna(-1), trainY.fillna(-1))\n",
    "rfe_mask = selector.get_support() #list of booleans for selected features\n",
    "new_features = [] \n",
    "for bool, feature in zip(rfe_mask, trainX.columns):\n",
    "    if bool:\n",
    "        new_features.append(feature)\n",
    "\n",
    "new_features # The list of your 5 best features"
   ]
  },
  {
   "cell_type": "code",
   "execution_count": 163,
   "metadata": {},
   "outputs": [],
   "source": [
    "not_selected = list(set(trainX.columns) - set(new_features))\n",
    "features_to_remove = list(set(not_selected) - set(important_features))"
   ]
  },
  {
   "cell_type": "code",
   "execution_count": 164,
   "metadata": {},
   "outputs": [
    {
     "name": "stdout",
     "output_type": "stream",
     "text": [
      "Training Set Updated: (73370, 59) -> (73370, 44)\n"
     ]
    }
   ],
   "source": [
    "drop_features_from_trainset(features_to_remove)"
   ]
  },
  {
   "cell_type": "markdown",
   "metadata": {},
   "source": [
    "Vediamo che al termine della fase di pulizia abbiamo ridotto notevolmente la dimensionalità del dataset, passando da 84 a 44 features"
   ]
  },
  {
   "cell_type": "markdown",
   "metadata": {},
   "source": [
    "## Confronto Prestazioni"
   ]
  },
  {
   "cell_type": "markdown",
   "metadata": {},
   "source": [
    "Confrontiamo le prestazioni ottenute nel training set originale con quelle a seguito della *dimensionality reduction*."
   ]
  },
  {
   "cell_type": "code",
   "execution_count": null,
   "metadata": {},
   "outputs": [],
   "source": [
    "original_scores"
   ]
  },
  {
   "cell_type": "code",
   "execution_count": null,
   "metadata": {},
   "outputs": [],
   "source": [
    "run_classifications(trainX,trainY,testX,testY, fill = True, experiment=\"Feature Engineering\")\n",
    "scores = pd.DataFrame(scores_dict).T\n",
    "scores"
   ]
  },
  {
   "cell_type": "markdown",
   "metadata": {},
   "source": [
    "Vediamo inoltre che mantenendo le **feature importanti** individuate nella fase di analisi, si hanno prestazioni sensibilmente migliori nel classificare le classi `death` rispetto al rimuoverle nel filtraggio automatico con varianza, correlazione e feature selection. In particolare si hanno delle classificazioni migliori in relazione alle classi `death`"
   ]
  },
  {
   "cell_type": "markdown",
   "metadata": {
    "jp-MarkdownHeadingCollapsed": true,
    "tags": []
   },
   "source": [
    "## Altri tentativi di Miglioramento"
   ]
  },
  {
   "cell_type": "markdown",
   "metadata": {},
   "source": [
    "Analizziamo ulteriori tecniche applicate per migliorare la qualità del dataset."
   ]
  },
  {
   "cell_type": "markdown",
   "metadata": {
    "jp-MarkdownHeadingCollapsed": true,
    "tags": []
   },
   "source": [
    "### Data Imputation"
   ]
  },
  {
   "cell_type": "markdown",
   "metadata": {},
   "source": [
    "Si utilizza un meccanismo di imputazione per sopperire alla presenza di dati mancanti delle diverse features del dataset. L'obiettivo è quello di ripristinare le diverse variabili per l'uso nella classificazione rimpiazzando tutti i dati nulli con valori derivati da entry simili nel dataset."
   ]
  },
  {
   "cell_type": "code",
   "execution_count": null,
   "metadata": {},
   "outputs": [],
   "source": [
    "imp = KNNImputer(n_neighbors=1, weights='uniform')\n",
    "trainX_imp = pd.DataFrame(imp.fit_transform(trainX), columns = trainX.columns)"
   ]
  },
  {
   "cell_type": "markdown",
   "metadata": {},
   "source": [
    "Analizziamo i risultati a seguito della data imputation"
   ]
  },
  {
   "cell_type": "code",
   "execution_count": null,
   "metadata": {},
   "outputs": [],
   "source": [
    "run_classifications(trainX_imp,trainY,testX,testY, fill = False)\n",
    "scores = pd.DataFrame(scores_dict).T\n",
    "scores"
   ]
  },
  {
   "cell_type": "markdown",
   "metadata": {},
   "source": [
    "Osserviamo che tutti gli score peggiorano. Questo perché si introduce comunque rumore nel dataset, e bisogna considerare che un valore assente potrebbe avere comunque un significato, e potrebbe esse in alcuni casi errato andarlo a rimpiazzare. Utilizzando invece `fillna(-1)` si mantengono i `NaN` semplicemente mappandoli a `-1`, valore esclusivo non usato per altre variabili nel dizionario. \n",
    "\n",
    "Possiamo quindi in definitiva mappare a -1 tutti i valori `NaN` nel training set e testing set. Si noti che la modifica nel testing set non rappresenta una manipolazione dei dati, ma soltanto come questi vengono codificati in fase di lettura."
   ]
  },
  {
   "cell_type": "code",
   "execution_count": null,
   "metadata": {},
   "outputs": [],
   "source": [
    "trainX = trainX.fillna(-1)\n",
    "testX = testX.fillna(-1)"
   ]
  },
  {
   "cell_type": "markdown",
   "metadata": {
    "tags": []
   },
   "source": [
    "### PCA: Principal Component Analysis"
   ]
  },
  {
   "cell_type": "markdown",
   "metadata": {},
   "source": [
    "Cerchiamo di ridurre ulteriormente la dimensionalità del dataset applicando la Principal Component Analysis."
   ]
  },
  {
   "cell_type": "code",
   "execution_count": null,
   "metadata": {},
   "outputs": [],
   "source": [
    "print(trainX.shape)\n",
    "pca = PCA(n_components=int(trainX.shape[1]*0.7))\n",
    "trainX_pca = pd.DataFrame(pca.fit_transform(trainX))\n",
    "testX_pca = pd.DataFrame(pca.transform(testX))\n",
    "print(trainX_pca.shape)"
   ]
  },
  {
   "cell_type": "markdown",
   "metadata": {},
   "source": [
    "Analizziamo i risultati a seguito di PCA"
   ]
  },
  {
   "cell_type": "code",
   "execution_count": null,
   "metadata": {},
   "outputs": [],
   "source": [
    "scores"
   ]
  },
  {
   "cell_type": "code",
   "execution_count": null,
   "metadata": {},
   "outputs": [],
   "source": [
    "run_classifications(trainX_pca,trainY,testX_pca,testY, experiment=\"PCA after FE\")\n",
    "scores_pca = pd.DataFrame(scores_dict).T\n",
    "scores_pca"
   ]
  },
  {
   "cell_type": "markdown",
   "metadata": {},
   "source": [
    "I risultati risultano inferiori a seguito dell'applicazione di PCA sull'ultimo insieme di features individuate. Proviamo anche ad applicare PCA sull'insieme originale di features, per verificare se questo operi meglio rispetto al processo di selezione applicato. Anche in questo caso vengono generate 32 features sintetiche. Possiamo però osservare come i risultati siano addirittura peggiori rispetto al caso precedente"
   ]
  },
  {
   "cell_type": "code",
   "execution_count": null,
   "metadata": {},
   "outputs": [],
   "source": [
    "print(trainX_og.shape)\n",
    "pca = PCA(n_components=int(trainX.shape[1]*0.7))\n",
    "trainX_pca = pd.DataFrame(pca.fit_transform(trainX_og.fillna(-1)))\n",
    "testX_pca = pd.DataFrame(pca.transform(testX_og.fillna(-1)))\n",
    "print(trainX_pca.shape)\n",
    "\n",
    "run_classifications(trainX_pca,trainY,testX_pca,testY,experiment=\"PCA without FE\")\n",
    "scores_pca = pd.DataFrame(scores_dict).T\n",
    "scores_pca"
   ]
  },
  {
   "cell_type": "markdown",
   "metadata": {},
   "source": [
    "In definitiva non viene applicata PCA in quanto si hanno risultati migliori applicando soltanto l'ingegneria delle features descritta in precedenza."
   ]
  },
  {
   "cell_type": "markdown",
   "metadata": {
    "jp-MarkdownHeadingCollapsed": true,
    "tags": []
   },
   "source": [
    "### Sampling"
   ]
  },
  {
   "cell_type": "markdown",
   "metadata": {},
   "source": [
    "Come visto nella Data Exploration il dataset risulta fortemente sbilanciato. Anche a seguito dello splitting in training e testing set resta tale sbilanciamento."
   ]
  },
  {
   "cell_type": "code",
   "execution_count": null,
   "metadata": {},
   "outputs": [],
   "source": [
    "classes = [{\"Survived\": (trainY== 0).sum(), \"Dead\": (trainY== 1).sum()}]\n",
    "total  = pd.DataFrame(classes)\n",
    "total_e = float(total[\"Survived\"])\n",
    "total_p = float(total[\"Dead\"])\n",
    "mushrooms = [total_e, total_p]\n",
    "mushrooms_labels = 'Survived','Dead'\n",
    "fig, ax = plt.subplots(figsize = (8,6))\n",
    "plt.pie(mushrooms,labels=mushrooms,autopct='%1.1f%%',colors = ['#88d14f', '#f23d3a'])\n",
    "plt.title('Dataset Balancing', loc = \"center\", fontsize=\"20\")\n",
    "plt.axis('equal')\n",
    "plt.legend(mushrooms_labels,bbox_to_anchor=(0.6, -0.05, 0, 0))\n",
    "fig.set_facecolor('white')\n",
    "plt.show()"
   ]
  },
  {
   "cell_type": "markdown",
   "metadata": {},
   "source": [
    "Questo, come già visto nell'analisi preliminare porta il modello a classificare più frequentemente le classi come `survived`, in quanto ha molti più dati in percentuale su cui effettuare il training. Per questo si possono applicare diverse strategie per cercare di ripristinare il bilanciamento del dataset:\n",
    "\n",
    "- Undersampling\n",
    "- Oversampling\n",
    "- SMOTE"
   ]
  },
  {
   "cell_type": "markdown",
   "metadata": {
    "tags": []
   },
   "source": [
    "#### Undersampling"
   ]
  },
  {
   "cell_type": "code",
   "execution_count": null,
   "metadata": {
    "tags": []
   },
   "outputs": [],
   "source": [
    "num_survd = (trainY== 0).sum()\n",
    "num_death = (trainY== 1).sum()\n",
    "\n",
    "num_under = num_survd - num_death\n",
    "print (\"Removing\",num_under,\"istances\")\n",
    "\n",
    "rus = RandomUnderSampler(random_state=0)\n",
    "trainX_und,trainY_und = rus.fit_resample(trainX_og.fillna(-1),trainY.fillna(-1))"
   ]
  },
  {
   "cell_type": "markdown",
   "metadata": {},
   "source": [
    "Vediamo dai risultati che peggiorano tutte le metriche applicando il balancing."
   ]
  },
  {
   "cell_type": "code",
   "execution_count": null,
   "metadata": {},
   "outputs": [],
   "source": [
    "scores"
   ]
  },
  {
   "cell_type": "code",
   "execution_count": null,
   "metadata": {},
   "outputs": [],
   "source": [
    "run_classifications(trainX_und,trainY_und,testX_og,testY,experiment=\"undersampling\")\n",
    "scores_und = pd.DataFrame(scores_dict).T\n",
    "scores_und"
   ]
  },
  {
   "cell_type": "markdown",
   "metadata": {},
   "source": [
    "Come atteso migliorano effettivamente le classificazioni di classi `death` rispetto a `survived`. Tuttavia rimuovendo $60882$ istanze dal training set si ha una significativa perdita di informazioni, che porta l'**accuracy** del modello a decrescere significativamente. Inoltre possiamo vedere all'aumento della recall corrisponda un abbassamento della precision, indice del fatto che il classificatore tende semplicemente a classificare più istanze come positive (aumentano i falsi negativi)."
   ]
  },
  {
   "cell_type": "markdown",
   "metadata": {},
   "source": [
    "#### Oversampling"
   ]
  },
  {
   "cell_type": "code",
   "execution_count": null,
   "metadata": {},
   "outputs": [],
   "source": [
    "num_survd = (trainY== 0).sum()\n",
    "num_death = (trainY== 1).sum()\n",
    "\n",
    "num_under = num_survd - num_death\n",
    "print (\"Creating\",num_under,\"istances\")\n",
    "\n",
    "ros = RandomOverSampler(random_state=0)\n",
    "trainX_ov,trainY_ov = ros.fit_resample(trainX_og.fillna(-1),trainY.fillna(-1))"
   ]
  },
  {
   "cell_type": "code",
   "execution_count": null,
   "metadata": {},
   "outputs": [],
   "source": [
    "run_classifications(trainX_ov,trainY_ov,testX_og,testY,experiment=\"oversampling\")"
   ]
  },
  {
   "cell_type": "code",
   "execution_count": null,
   "metadata": {},
   "outputs": [],
   "source": [
    "scores"
   ]
  },
  {
   "cell_type": "code",
   "execution_count": null,
   "metadata": {},
   "outputs": [],
   "source": [
    "scores_ov = pd.DataFrame(scores_dict).T\n",
    "scores_ov"
   ]
  },
  {
   "cell_type": "markdown",
   "metadata": {},
   "source": [
    "#### SMOTE"
   ]
  },
  {
   "cell_type": "code",
   "execution_count": null,
   "metadata": {},
   "outputs": [],
   "source": [
    "smote = SMOTE(random_state=0)\n",
    "trainX_smote, trainY_smote = smote.fit_resample(trainX.fillna(-1), trainY)\n",
    "\n",
    "run_classifications(trainX_smote,trainY_smote,testX,testY,fill=True,experiment=\"SMOTE\")"
   ]
  },
  {
   "cell_type": "code",
   "execution_count": null,
   "metadata": {},
   "outputs": [],
   "source": [
    "scores"
   ]
  },
  {
   "cell_type": "code",
   "execution_count": null,
   "metadata": {},
   "outputs": [],
   "source": [
    "scores_smote = pd.DataFrame(scores_dict).T\n",
    "scores_smote"
   ]
  },
  {
   "cell_type": "markdown",
   "metadata": {},
   "source": [
    "Tra tutti i metodi di sampling **SMOTE** è quello che fornisce risultati migliori, andando a creare istanze artificiali comunque simili a quelle già presenti. Come possiamo osservare, applicando il sampling si nota effettivamente un miglioramento nella classificazione delle classi `death`.\n",
    "\n",
    "Tuttavia è necessario considerare vengono inserite $\\frac{6}{7}$ di istanze artificiali. Lo sbilanciamento del dataset in questo caso risulta troppo elevato per poter applicare un metodo di sampling."
   ]
  },
  {
   "cell_type": "markdown",
   "metadata": {},
   "source": [
    "# Model Selection"
   ]
  },
  {
   "cell_type": "markdown",
   "metadata": {},
   "source": [
    "Andiamo ad effettuare la fase di **model selection**, per stabilire i migliori iperparametri su ognuno dei modelli considerati ai fini della classificazione. \n",
    "\n",
    "Questa viene effettuata in generale sfruttando la ricerca esaustiva tramite `GridSearchCV`. Il miglior estimatore viene individuato considerando la metrica di ```recall``` su un'esecuzione **5Fold-Cross-Validation**."
   ]
  },
  {
   "cell_type": "markdown",
   "metadata": {},
   "source": [
    "## Logistic Regression"
   ]
  },
  {
   "cell_type": "markdown",
   "metadata": {},
   "source": [
    "Si considera l'ottimizzazione dei seguenti iperparametri:\n",
    "- `penalty` = `{l1,l2}`, regolarizzazione *lasso* o *ridge*\n",
    "- `C`, *regularization strenght*, ovvero il coefficiente di regolarizzazione"
   ]
  },
  {
   "cell_type": "code",
   "execution_count": null,
   "metadata": {},
   "outputs": [],
   "source": [
    "params = {'penalty':['l1','l2'], 'C':[0.1, 1, 10]}\n",
    "lrc = LogisticRegression(solver=\"liblinear\")\n",
    "gscv_lr = GridSearchCV(lrc, param_grid=params, scoring='recall', cv=5, refit=True, n_jobs=-1)\n",
    "gscv_lr.fit(trainX.fillna(-1), trainY)"
   ]
  },
  {
   "cell_type": "markdown",
   "metadata": {},
   "source": [
    "Vengono selezionati i seguenti iperparametri:\n",
    "- `penalty = l1`\n",
    "- `C = 1`"
   ]
  },
  {
   "cell_type": "code",
   "execution_count": null,
   "metadata": {},
   "outputs": [],
   "source": [
    "print(\"Best Estimator: \",gscv_lr.best_estimator_)"
   ]
  },
  {
   "cell_type": "markdown",
   "metadata": {},
   "source": [
    "Questo ci dice che non viene di fatto applicata la regolarizzazione, che peggiora i risultati rispetto al considerare l'intero dominio del training set. Questo vuol dire che il modello considerato non soffre in realtà di problemi di Overfitting, e quindi andandone a limitare il dominio si rimuovono informazioni utili al classificatore."
   ]
  },
  {
   "cell_type": "markdown",
   "metadata": {},
   "source": [
    "## Decision Tree Classifier"
   ]
  },
  {
   "cell_type": "markdown",
   "metadata": {},
   "source": [
    "I risultati ottenuti dalla model selection vedono ottenere una recall maggiore utilizzando come funzione di misurazione della qualità di ogni splitting la funzione entropy. Come atteso infatti, il Gini Index viene utilizzato più frequentemente in campo economico per misurare la disuguaglianza economica in una società, mentre in questi approcci si utilizza spesso l'entropia, che misura la goodness tramite il guadagno informativo.  "
   ]
  },
  {
   "cell_type": "code",
   "execution_count": null,
   "metadata": {},
   "outputs": [],
   "source": [
    "params = {'criterion':['gini', 'entropy'], 'splitter':['best', 'random'], 'min_samples_split':[2, 3, 5], 'max_depth':[None, 10]}\n",
    "dtc = DecisionTreeClassifier()\n",
    "gscv_dtc = GridSearchCV(dtc, param_grid=params, scoring='recall', cv=5, refit=True, n_jobs=-1)\n",
    "\n",
    "gscv_dtc.fit(trainX.fillna(-1), trainY)"
   ]
  },
  {
   "cell_type": "markdown",
   "metadata": {},
   "source": [
    "Vediamo che vengono trovati i segunenti parametri"
   ]
  },
  {
   "cell_type": "code",
   "execution_count": null,
   "metadata": {},
   "outputs": [],
   "source": [
    "print(\"Best Estimator: \",gscv_dtc.best_estimator_)\n",
    "print(\"Best Params: \", gscv_dtc.best_params_)"
   ]
  },
  {
   "cell_type": "markdown",
   "metadata": {},
   "source": [
    "## Naive Bayes Classifier"
   ]
  },
  {
   "cell_type": "markdown",
   "metadata": {},
   "source": [
    "Un classificatore bayesiano richiede la *conoscenza delle probabilità a priori*.  Un iperparametro tra i classificatori naive bayes è la distribuzione a priori da considerare, e come abbiamo visto dall'analisi delle features, la maggior parte di esse presentano una distribuzione simile ad una Gaussiana.\n",
    "\n",
    "Verifichiamo quindi i risultati ottenuti assumendo una distribuzione a priori Gaussiana, e confrontiamoli con il caso di un prior Bernoulliano."
   ]
  },
  {
   "cell_type": "code",
   "execution_count": null,
   "metadata": {},
   "outputs": [],
   "source": [
    "scores_dict = {}\n",
    "gnb = GaussianNB()\n",
    "run_classifications(trainX,trainY,testX,testY, fill = True, model=gnb, model_name=\"Naive Bayes Classifier (1)\", experiment = \"Gaussian Prior\")\n",
    "\n",
    "bbn = BernoulliNB()\n",
    "run_classifications(trainX,trainY,testX,testY, fill = True, model=bbn, model_name=\"Naive Bayes Classifier (2)\", experiment = \"Bernoullian Prior\")\n",
    "\n",
    "scores_nb = pd.DataFrame(scores_dict).T\n",
    "scores_nb"
   ]
  },
  {
   "cell_type": "markdown",
   "metadata": {},
   "source": [
    "Dai risultati possiamo osservare come la recall sia nettamente superiore nel caso della distribuzione gaussiana ($0.55$ vs $0.14$), a fronte di un TNR che decresce solo del $9$.\n",
    "\n",
    "I parametri della distribuzione a priori utilizzata su ogni classe vengono automaticamente dedotti dal modello *sklearn*, scegliendo i valori di *media* e *varianza* più adatti."
   ]
  },
  {
   "cell_type": "markdown",
   "metadata": {},
   "source": [
    "## Random Forest Classifier"
   ]
  },
  {
   "cell_type": "markdown",
   "metadata": {},
   "source": [
    "Il **Random Forest** è un metodo bagging tra i più utilizzati in machine learning, che utilizza come weak-learner degli alberi di decisione.\n",
    "- Tali alberi di decisione sono diversi tra loro perché allenati su training set differenti, ottenuti tramite Boostrap.\n",
    "- Sono detti Random perché l’insieme delle feature rispetto a cui decidere se tagliare lo spazio è in realtà un sottoinsieme casuale delle feature.\n",
    "- Tale randomizzazione contribuisce a rendere diversi tra loro i vari classificatori.\n",
    "\n",
    "Dopo aver costruito $𝑇_𝐵$ alberi di decisione, la predizione finale viene effettuata per maggioranza (in caso di classificazione) o tramite la media dei risultati (in caso di regressione) su tutte le predizioni effettuate da ogni albero.\n",
    "\n",
    "Avendo già individuato i migliori iperparametri per il singolo weak learner, si fissano i valori:\n",
    "- `criterion = entropy`\n",
    "- `min_samples_split = 2`\n",
    "- `max_depth = None`\n",
    "\n",
    "Pertanto l'unico parametro da valutare è  `n_estimators`, ovvero il numero di Decision Trees da considerare nella foresta."
   ]
  },
  {
   "cell_type": "code",
   "execution_count": null,
   "metadata": {},
   "outputs": [],
   "source": [
    "params = {'n_estimators':[10,100,1000]}\n",
    "rfc = RandomForestClassifier(criterion='entropy',min_samples_split=2,max_depth=None)\n",
    "gscv_dtc = GridSearchCV(rfc, param_grid=params, scoring='recall', cv=5, refit=True, n_jobs=-1)\n",
    "gscv_dtc.fit(trainX.fillna(-1), trainY)"
   ]
  },
  {
   "cell_type": "markdown",
   "metadata": {},
   "source": [
    "I migliori iperaparametri ricavati sono"
   ]
  },
  {
   "cell_type": "code",
   "execution_count": null,
   "metadata": {},
   "outputs": [],
   "source": [
    "print(\"Best Estimator: \",gscv_dtc.best_estimator_)\n",
    "print(\"Best Params: \", gscv_dtc.best_params_)"
   ]
  },
  {
   "cell_type": "markdown",
   "metadata": {},
   "source": [
    "Proviamo quindi con 1000 weak learners"
   ]
  },
  {
   "cell_type": "code",
   "execution_count": null,
   "metadata": {},
   "outputs": [],
   "source": [
    "rfc = RandomForestClassifier(criterion='entropy',min_samples_split=2,max_depth=None, n_estimators=1000)\n",
    "run_classifications(trainX,trainY,testX,testY,model=rfc,model_name=\"Random Forest w/ 1000 estimators\",fill=True)"
   ]
  },
  {
   "cell_type": "code",
   "execution_count": null,
   "metadata": {},
   "outputs": [],
   "source": [
    "scores"
   ]
  },
  {
   "cell_type": "code",
   "execution_count": null,
   "metadata": {},
   "outputs": [],
   "source": [
    "scores_dict={}\n",
    "scores_rf = pd.DataFrame(scores_dict).T\n",
    "scores_rf"
   ]
  },
  {
   "cell_type": "markdown",
   "metadata": {},
   "source": [
    "I risultati risultano sensibilmente migliori in termine di precision e di recall. Tuttavia occorre considerare che la complessità computazionale aumenta di dieci volte *(6 min vs 21 sec)*, motivo per cui si mantiene il parametro standard di `n_estimators` pari a `100`."
   ]
  },
  {
   "cell_type": "markdown",
   "metadata": {},
   "source": [
    "## Support Vector Machine"
   ]
  },
  {
   "cell_type": "markdown",
   "metadata": {},
   "source": [
    "Un iperparametro (non so se è iperparametro) delle SVM è la funzione Kernel che andrà ad utilizzare nell'individuazione dell'iperpiano di separazione. La principali funzioni kernel messe a disposizione dal framework sklearn sono:\n",
    "- `lineare`\n",
    "- `polimoniale`\n",
    "- `rbf`\n",
    "- `sigmoide`\n",
    "\n",
    "Nel nostro caso, utilizzando un kernel `lineare` non viene raggiunta una convergenza e di conseguenza la SVM classificherà tutti gli elementi come `survived`.  \n",
    "Utilizzando il kernel `rbf` otteniamo un elevato score di accuracy, 0.92. Tuttavia, osservando i risultati ottenuti sulla classe 1, si ottiene un basso valore di recall pari a 0.20 ad indicare il fatto che vengono ancora classificati molti pazienti survived come death.   \n",
    "Stessa valutazione è possibile fare nel caso in cui venga utilizzato un kernel `polimoniale` che riesce ad ottenere solamente una recall del 0.23.  \n",
    "\n",
    "Anche se le classificazioni riportano valori alti di precision, siamo più interessati ad ottenere buoni valori di recall poichè la nostra preoccupazione principale è evitare di sovrastimare il numero di paziente predetti come survived.  \n",
    "Sotto questo punto di vista i risultati migliori li ottiene il kernel `sigmoid` il quale, anche se ottiene un valore non altissimo di recall sulla classe 1, 0.27, il numero dei falsi negativi risulta minore. "
   ]
  },
  {
   "cell_type": "code",
   "execution_count": null,
   "metadata": {},
   "outputs": [],
   "source": [
    "scaler = StandardScaler()\n",
    "\n",
    "trainX_scaled = pd.DataFrame(scaler.fit_transform(trainX.fillna(-1)),columns = trainX.columns)\n",
    "testX_scaled = pd.DataFrame(scaler.transform(testX.fillna(-1)),columns = testX.columns)"
   ]
  },
  {
   "cell_type": "code",
   "execution_count": null,
   "metadata": {},
   "outputs": [],
   "source": [
    "svc_classifier = SVC(kernel='poly')\n",
    "run_classifications(trainX_scaled, trainY, testX_scaled, testY, model=svc_classifier, model_name='SVC_POLY')"
   ]
  },
  {
   "cell_type": "code",
   "execution_count": null,
   "metadata": {},
   "outputs": [],
   "source": [
    "scores_poly = pd.DataFrame(scores_dict).T\n",
    "scores_poly"
   ]
  },
  {
   "cell_type": "code",
   "execution_count": null,
   "metadata": {},
   "outputs": [],
   "source": [
    "svc_classifier = SVC(kernel='rbf')\n",
    "run_classifications(trainX_scaled, trainY, testX_scaled, testY, model=svc_classifier, model_name='SVC_RBF')"
   ]
  },
  {
   "cell_type": "code",
   "execution_count": null,
   "metadata": {},
   "outputs": [],
   "source": [
    "scores_rbf = pd.DataFrame(scores_dict).T\n",
    "scores_rbf"
   ]
  },
  {
   "cell_type": "code",
   "execution_count": null,
   "metadata": {},
   "outputs": [],
   "source": [
    "svc_classifier = SVC(kernel='sigmoid')\n",
    "run_classifications(trainX_scaled, trainY, testX_scaled, testY, model=svc_classifier, model_name='SVC_SIGMOID')"
   ]
  },
  {
   "cell_type": "code",
   "execution_count": null,
   "metadata": {},
   "outputs": [],
   "source": [
    "scores_sigmoid = pd.DataFrame(scores_dict).T\n",
    "scores_sigmoid"
   ]
  },
  {
   "cell_type": "markdown",
   "metadata": {},
   "source": [
    "## AdaBoost Classifier"
   ]
  },
  {
   "cell_type": "markdown",
   "metadata": {},
   "source": [
    "**Adaboost** è un algoritmo di *ensemble learning* che utilizza il metodo *Boosting*, ovvero i classificatori vengono addestrati in sequenza, ognuno dei quali costruito sulla base del comportamento del precedente.  \n",
    "Come classificatore base, sul quale viene applicato il metodo di boosting, è stato scelto di utilizzare il `base estimator` offerto di default, ovvero un *DecisionTree Classifier* di `max_depth=1`.  Ulteriori iper parametri da stimare sono:\n",
    "- Numero massimo di `estimators` che il boosting dovrà raggiungere\n",
    "- `learning_rate`, un peso applicato ad ogniclassificatore. Più tale valore è alto più aumenta il contributo apportato da ogni singolo classificatore. "
   ]
  },
  {
   "cell_type": "code",
   "execution_count": null,
   "metadata": {},
   "outputs": [],
   "source": [
    "params = {'n_estimators': [50, 100], 'learning_rate':[0.01,0.1,1,2]}\n",
    "\n",
    "adb = AdaBoostClassifier()\n",
    "gscv_adb = GridSearchCV(adb, param_grid=params, scoring='recall', cv=5, refit=True, n_jobs=-1)\n",
    "\n",
    "gscv_adb.fit(trainX.fillna(-1), trainY)"
   ]
  },
  {
   "cell_type": "markdown",
   "metadata": {},
   "source": [
    "Come mostrato di seguito, il risultato migliore si raggiunge utilizzando:\n",
    "- `n_estimators = 50`\n",
    "- `learning_rate = 2`\n",
    "\n",
    "Testando valori maggiori di `learning _rate` otteniamo una altissima recall ma una precision quasi nulla, in quanto il classifiacatore costruito tenderà a classificare qualsiasi elemento come `death`."
   ]
  },
  {
   "cell_type": "code",
   "execution_count": null,
   "metadata": {},
   "outputs": [],
   "source": [
    "print(\"Best Estimator: \",gscv_adb.best_estimator_)\n",
    "print(\"Best Params: \", gscv_adb.best_params_)"
   ]
  },
  {
   "cell_type": "code",
   "execution_count": null,
   "metadata": {},
   "outputs": [],
   "source": [
    "abc = AdaBoostClassifier(learning_rate=2)\n",
    "run_classifications(trainX,trainY,testX,testY, fill = True, \n",
    "        model=abc, model_name=\"AdaBoost Classifier\", experiment=\"default depth\")\n",
    "\n",
    "scores_ada = pd.DataFrame(scores_dict).T\n",
    "scores_ada"
   ]
  },
  {
   "cell_type": "markdown",
   "metadata": {},
   "source": [
    "Notiamo che si ha uno score bassissimo di `TNR` e un'altissima `FPR`, per cui il classificatore tende a predirre tutte le istanze come `dead`. Questo è probabilmente dovuto alla profondità minima dell'albero di decisione utilizzato come *base estimators*. \n",
    "\n",
    "Infatti, utilizzando sempre un `DecisionTreeClassifier` ma con l'iperparametro `max_depth = None` come visto nella relativa fase di Model Selection, otteniamo dei risultati migliori in termini di `precision` e `accuracy`, accettando però una maggiore presenza di `FN`."
   ]
  },
  {
   "cell_type": "code",
   "execution_count": null,
   "metadata": {},
   "outputs": [],
   "source": [
    "decTree = DecisionTreeClassifier(max_depth=None)\n",
    "abc = AdaBoostClassifier(base_estimator = decTree, learning_rate=2)\n",
    "run_classifications(trainX,trainY,testX,testY, fill = True,  model=abc, model_name=\"AdaBoost Classifier\", experiment = \"unlimited depth\")\n",
    "\n",
    "scores_ada2 = pd.DataFrame(scores_dict).T\n",
    "scores_ada2"
   ]
  },
  {
   "cell_type": "markdown",
   "metadata": {},
   "source": [
    "## Linear Discriminant Analysis (LDA)"
   ]
  },
  {
   "cell_type": "markdown",
   "metadata": {},
   "source": [
    "Il `Linear Discriminant Analysis` di `scikit-learn` effettua una classificazione tramite decision boundaries lineari, dopo aver effettuato una riduzione della dimensionalità.  \n",
    "La ricerca dei miglior parametri si basa solamente sul tipo di `solver` da utilizzare:\n",
    "- `solver`:`[svd, lsqr, eigen]`"
   ]
  },
  {
   "cell_type": "code",
   "execution_count": null,
   "metadata": {},
   "outputs": [],
   "source": [
    "params = {'solver': ['svd', 'lsqr', 'eigen']}\n",
    "lda = LinearDiscriminantAnalysis()\n",
    "gscv_lda = GridSearchCV(lda, param_grid=params, scoring='recall', cv=5, refit=True, n_jobs=-1)\n",
    "\n",
    "gscv_lda.fit(trainX.fillna(-1), trainY)"
   ]
  },
  {
   "cell_type": "markdown",
   "metadata": {},
   "source": [
    "La ricerca individua in `svd` il miglior solver, che riesce ad ottenere una `accuracy` pari a `0.91` ma con un valore basso di `recall` pari a `0.32`, classificando infatti `1133 FN` su un totale di `1671` elementi positivi del testing set. "
   ]
  },
  {
   "cell_type": "code",
   "execution_count": null,
   "metadata": {},
   "outputs": [],
   "source": [
    "print(\"Best Estimator: \",gscv_lda.best_estimator_)\n",
    "print(\"Best Params: \", gscv_lda.best_params_)"
   ]
  },
  {
   "cell_type": "markdown",
   "metadata": {},
   "source": [
    "## kNeighbors Classifier"
   ]
  },
  {
   "cell_type": "markdown",
   "metadata": {},
   "source": [
    "Il classificatore `k-Nearest-Neighbors` classifica un elemento in base ad un indice di somiglianza che è solitamente rappresentato da una metrica di distanza. Per determinare la classifincazione finale utilizza un voto di maggioranza tra  gli elementi più vicinial nuovo elemento da classificare. Ad esempio, se vicino all'elemento da classificare sono presenti 3 punti *blu* ed 1 punto *rosso*, l'elemento sarà classificato come blu.  \n",
    "I principali iper-parametri da determinare durante la fase di model selection sono:\n",
    "- `n_neighbors` : `[3, 5, 7]` \n",
    "- Indice di somgilianza degli elementi, `weights`: `[uniform, distance]`  \n",
    "\n",
    "La scelta dell'algoritmo utilizzato dal classificatore per l'individuazione dei `k` vicini è stata lasciata al classificatore stesso, dichiarando  `algorithm = auto`. Questo perchè, non conoscendo dettagliatamente l'implementazione degli algoritmi proposti da `scikit-learn`, il classificatore deciderà l'algoritmo più appropriato da utilizzare basandosi sui dati con cui è stato addestrato."
   ]
  },
  {
   "cell_type": "code",
   "execution_count": null,
   "metadata": {},
   "outputs": [],
   "source": [
    "params = {'weights': ['uniform', 'distance'], 'n_neighbors': [3, 5, 7]}\n",
    "\n",
    "knc = KNeighborsClassifier()\n",
    "gscv_knn = GridSearchCV(knc, param_grid=params, scoring='recall', cv=5, refit=True, n_jobs=-1)\n",
    "\n",
    "gscv_knn.fit(trainX.fillna(-1), trainY)"
   ]
  },
  {
   "cell_type": "markdown",
   "metadata": {},
   "source": [
    "Gli iper parametri che ottengono un miglior valore di `recall` sono:\n",
    "- `n_neighbors = 3`\n",
    "- `weights = distance`"
   ]
  },
  {
   "cell_type": "code",
   "execution_count": null,
   "metadata": {},
   "outputs": [],
   "source": [
    "print(\"Best Estimator: \",gscv_knn.best_estimator_)\n",
    "print(\"Best Params: \", gscv_knn.best_params_)"
   ]
  },
  {
   "cell_type": "markdown",
   "metadata": {},
   "source": [
    "## Multilayer Perceptron (MLP)"
   ]
  },
  {
   "cell_type": "markdown",
   "metadata": {},
   "source": [
    "La rete neurale implementata è una *Multilayer Perceptron* i quali iperparametri più importanti risultano essere:\n",
    "- `hidden_layer_size`: lista di interi in cui l'i-esimo elemento rappresenta il numero di neuroni che compongono l'i-esimo hidden layer\n",
    "- La *funzione di attivazione* degli hidden layer\n",
    "- `learning_rate_init` : il tasso iniziale di apprendimento che controlla quanto modificare il modello in risposta all'erorore stimato, ogni volta che i pesi degli \"archi\" della rete vengono aggiornati.  \n",
    "  \n",
    "Per quanto riguarda la funzione di attivazione utilizzata dagli *hidden layers* è stata scelta la funzione `tanh` poichè, come visto in [letteratura](https://medium.com/codex/single-layer-perceptron-and-activation-function-b6b74b4aae66) risultati migliori in ambito di classificazione binaria.  "
   ]
  },
  {
   "cell_type": "code",
   "execution_count": null,
   "metadata": {},
   "outputs": [],
   "source": [
    "params = {'hidden_layer_sizes':[500, 100], 'alpha': [0.05, 0.1], 'learning_rate_init':[0.001, 0.05, 0.1]}\n",
    "\n",
    "mlp = MLPClassifier(activation='tanh', solver='sgd')\n",
    "gscv_mlp = GridSearchCV(mlp, param_grid=params, scoring='recall', cv=5, refit=True, n_jobs=-1)\n",
    "\n",
    "gscv_mlp.fit(trainX.fillna(-1), trainY)"
   ]
  },
  {
   "cell_type": "markdown",
   "metadata": {},
   "source": [
    "Dalla fase di *Model Selection* risulta che una rete di dimensioni maggiori di quella proposta di default, $100$ neuroni nell'hidden layer, offra prestazioni maggiori in termini di `recall`. Infine, viene restituito come tasso iniziale di apprendimento migliore il valore $0.1$. "
   ]
  },
  {
   "cell_type": "code",
   "execution_count": null,
   "metadata": {},
   "outputs": [],
   "source": [
    "print(\"Best Estimator: \",gscv_mlp.best_estimator_)\n",
    "print(\"Best Params: \", gscv_mlp.best_params_)"
   ]
  },
  {
   "cell_type": "code",
   "execution_count": null,
   "metadata": {},
   "outputs": [],
   "source": [
    "warnings.filterwarnings('ignore')\n",
    "mlp = MLPClassifier(hidden_layer_sizes=500, alpha=0.05, max_iter=1000, solver='sgd', learning_rate_init=0.1)\n",
    "run_classifications(trainX,trainY,testX,testY, fill = True, model=mlp, model_name=\"MLP Classifier (1)\", experiment = \"init=0.1\")\n",
    "scores_mlp = pd.DataFrame(scores_dict).T\n",
    "scores_mlp\n",
    "warnings.filterwarnings('always')"
   ]
  },
  {
   "cell_type": "markdown",
   "metadata": {},
   "source": [
    "Come possiamo osservare, i parametri ricavati dalla model selection portano + il modello a classificare tutti gli elementi come appartenenti alla classe `survived`, e di conseguenza la recall per tale classe sarà massima, pari a $1.0$.\n",
    "\n",
    "La model selection è stata quindi effettuata con un approccio sperimentale testando diversi valori del `learning_rate`. In particolare si è effettuato l'addestramento della rete neurale con un valore molto basso di `learning_rate_init`$=0.0001$."
   ]
  },
  {
   "cell_type": "code",
   "execution_count": null,
   "metadata": {},
   "outputs": [],
   "source": [
    "warnings.filterwarnings('ignore')\n",
    "mlp = MLPClassifier(hidden_layer_sizes=500, alpha=0.05, max_iter=1000, solver='sgd', learning_rate_init=0.0001)\n",
    "run_classifications(trainX,trainY,testX,testY, fill = True, model=mlp, model_name=\"MLP Classifier (2)\", experiment = \"init=0.0001\")\n",
    "warnings.filterwarnings('always')\n",
    "\n",
    "scores_mlp2 = pd.DataFrame(scores_dict).T\n",
    "scores_mlp2"
   ]
  },
  {
   "cell_type": "markdown",
   "metadata": {
    "jp-MarkdownHeadingCollapsed": true,
    "tags": []
   },
   "source": [
    "# Classificazione"
   ]
  },
  {
   "cell_type": "markdown",
   "metadata": {},
   "source": [
    "Nel dettaglio, sono stati analizzati i risultati ottenuti dai seguenti modelli:\n",
    "- Logistic Regression Classifier\n",
    "- Decision Tree Classifier\n",
    "- Gaussian Naive Bayes Classifier\n",
    "- Random Forest Classifier\n",
    "- AdaBoost Classifier\n",
    "- Linear Discriminant Analysis\n",
    "\n",
    "Di seguito i risultati di diversi classificatori applicati sul training set dopo il processo di feature tweaking, senza considerare l'imputazione dei dati, la PCA e il sampling, tecniche che peggiorano gli score causando perdita di informazioni significative."
   ]
  },
  {
   "cell_type": "markdown",
   "metadata": {},
   "source": [
    "## Logistic Regression Classifier"
   ]
  },
  {
   "cell_type": "code",
   "execution_count": null,
   "metadata": {},
   "outputs": [],
   "source": [
    "lrc = LogisticRegression(solver=\"liblinear\")\n",
    "run_classifications(trainX,trainY,testX,testY, fill = True, \n",
    "        model=lrc, model_name=\"Logistic Regression Classifier\")"
   ]
  },
  {
   "cell_type": "code",
   "execution_count": null,
   "metadata": {},
   "outputs": [],
   "source": [
    "importance = lrc.coef_[0]\n",
    "\n",
    "fig = plt.figure(figsize=(30,30))\n",
    "plt.bar(trainX.columns, importance)\n",
    "plt.xticks(rotation = 45)\n",
    "plt.show()"
   ]
  },
  {
   "cell_type": "markdown",
   "metadata": {},
   "source": [
    "## Decision Tree Classifier"
   ]
  },
  {
   "cell_type": "code",
   "execution_count": null,
   "metadata": {},
   "outputs": [],
   "source": [
    "dtc = DecisionTreeClassifier()\n",
    "run_classifications(trainX,trainY,testX,testY, fill = True, \n",
    "        model=dtc, model_name=\"Decision Tree Classifier\")"
   ]
  },
  {
   "cell_type": "code",
   "execution_count": null,
   "metadata": {},
   "outputs": [],
   "source": [
    "importance = dtc.feature_importances_\n",
    "\n",
    "fig = plt.figure(figsize=(30,30))\n",
    "plt.bar(trainX.columns, importance)\n",
    "plt.xticks(rotation = 45)\n",
    "plt.show()"
   ]
  },
  {
   "cell_type": "markdown",
   "metadata": {},
   "source": [
    "## Gaussian Naive Bayes Classifier "
   ]
  },
  {
   "cell_type": "code",
   "execution_count": null,
   "metadata": {},
   "outputs": [],
   "source": [
    "gnb = GaussianNB()\n",
    "run_classifications(trainX,trainY,testX,testY, fill = True, \n",
    "        model=dtc, model_name=\"Gaussian Naive Bayes Classifier\")"
   ]
  },
  {
   "cell_type": "markdown",
   "metadata": {},
   "source": [
    "Il GaussianNB non offre un metodo intrinseco per valutare l'importanza delle caratteristiche. I metodi Naive Bayes funzionano determinando le probabilità condizionali e prior associate alle features, e predicono la classe utilizzando la probabilità più alta. Pertanto, non ci sono coefficienti calcolati o associati alle features utilizzate per addestrare il modello.\n",
    "\n",
    "Detto questo, ci sono metodi che puoi applicare post-hoc per analizzare il modello dopo che è stato addestrato. Uno di questi metodi è l'importanza della permutazione e, convenientemente, è stato implementato anche in scikit-learn."
   ]
  },
  {
   "cell_type": "code",
   "execution_count": null,
   "metadata": {},
   "outputs": [],
   "source": [
    "from sklearn.inspection import permutation_importance\n",
    "\n",
    "importance = permutation_importance(gnb, testX, testY).importances_mean\n",
    "print(importance)\n",
    "\n",
    "fig = plt.figure(figsize=(30,30))\n",
    "plt.bar(trainX.columns, importance)\n",
    "plt.xticks(rotation = 45)\n",
    "plt.show()"
   ]
  },
  {
   "cell_type": "markdown",
   "metadata": {},
   "source": [
    "## Random Forest Classifier"
   ]
  },
  {
   "cell_type": "code",
   "execution_count": null,
   "metadata": {},
   "outputs": [],
   "source": [
    "rfc = RandomForestClassifier()\n",
    "run_classifications(trainX,trainY,testX,testY, fill = True, \n",
    "        model=rfc, model_name=\"Random Forest Classifier\")"
   ]
  },
  {
   "cell_type": "code",
   "execution_count": null,
   "metadata": {},
   "outputs": [],
   "source": [
    "importance = rfc.feature_importances_\n",
    "\n",
    "fig = plt.figure(figsize=(30,30))\n",
    "plt.bar(trainX.columns, importance)\n",
    "plt.xticks(rotation = 45)\n",
    "plt.show()"
   ]
  },
  {
   "cell_type": "markdown",
   "metadata": {},
   "source": [
    "## AdaBoost Classifier"
   ]
  },
  {
   "cell_type": "code",
   "execution_count": null,
   "metadata": {},
   "outputs": [],
   "source": [
    "abc = AdaBoostClassifier()\n",
    "run_classifications(trainX,trainY,testX,testY, fill = True, \n",
    "        model=abc, model_name=\"AdaBoost Classifier\")"
   ]
  },
  {
   "cell_type": "code",
   "execution_count": null,
   "metadata": {},
   "outputs": [],
   "source": [
    "importance = abc.feature_importances_\n",
    "\n",
    "fig = plt.figure(figsize=(30,30))\n",
    "plt.bar(trainX.columns, importance)\n",
    "plt.xticks(rotation = 45)\n",
    "plt.show()"
   ]
  },
  {
   "cell_type": "markdown",
   "metadata": {},
   "source": [
    "## Linear Discriminant Analysis"
   ]
  },
  {
   "cell_type": "code",
   "execution_count": null,
   "metadata": {},
   "outputs": [],
   "source": [
    "lda = LinearDiscriminantAnalysis()\n",
    "run_classifications(trainX,trainY,testX,testY, fill = True, \n",
    "        model=rfc, model_name=\"Linear Discriminant Analysis\")"
   ]
  },
  {
   "cell_type": "markdown",
   "metadata": {},
   "source": [
    "## Support Vector Machine "
   ]
  },
  {
   "cell_type": "code",
   "execution_count": null,
   "metadata": {},
   "outputs": [],
   "source": [
    "scaler = StandardScaler()\n",
    "\n",
    "trainX_scaled = pd.DataFrame(scaler.fit_transform(trainX.fillna(-1)),columns = trainX.columns)\n",
    "testX_scaled = pd.DataFrame(scaler.transform(testX.fillna(-1)),columns = testX.columns)"
   ]
  },
  {
   "cell_type": "code",
   "execution_count": null,
   "metadata": {},
   "outputs": [],
   "source": [
    "svc = SVC(kernel='sigmoid')\n",
    "run_classifications(trainX_scaled, trainY, testX_scaled, testY, model=svc_classifier, model_name='SVC_SIGMOID')"
   ]
  },
  {
   "cell_type": "code",
   "execution_count": null,
   "metadata": {},
   "outputs": [],
   "source": [
    "importance = svc.feature_importances_\n",
    "\n",
    "fig = plt.figure(figsize=(30,30))\n",
    "plt.bar(trainX.columns, importance)\n",
    "plt.xticks(rotation = 45)\n",
    "plt.show()"
   ]
  },
  {
   "cell_type": "markdown",
   "metadata": {},
   "source": [
    "## KNeighbors Classifier"
   ]
  },
  {
   "cell_type": "code",
   "execution_count": null,
   "metadata": {},
   "outputs": [],
   "source": [
    "knc = KNeighborsClassifier(n_neighbors=5)\n",
    "run_classifications(trainX,trainY,testX,testY, fill = True, \n",
    "        model=knc, model_name=\"KNeighbors Classifier\")"
   ]
  },
  {
   "cell_type": "code",
   "execution_count": null,
   "metadata": {},
   "outputs": [],
   "source": [
    "importance = knc.feature_importances_\n",
    "\n",
    "fig = plt.figure(figsize=(30,30))\n",
    "plt.bar(trainX.columns, importance)\n",
    "plt.xticks(rotation = 45)\n",
    "plt.show()"
   ]
  },
  {
   "cell_type": "markdown",
   "metadata": {},
   "source": [
    "## MLP Classifier"
   ]
  },
  {
   "cell_type": "code",
   "execution_count": null,
   "metadata": {},
   "outputs": [],
   "source": [
    "mlp = MLPClassifier(alpha=1, max_iter=1000)\n",
    "run_classifications(trainX,trainY,testX,testY, fill = True, \n",
    "        model=mlp, model_name=\"MLP Classifier\")"
   ]
  },
  {
   "cell_type": "code",
   "execution_count": null,
   "metadata": {},
   "outputs": [],
   "source": [
    "importance = mlp.feature_importances_\n",
    "\n",
    "fig = plt.figure(figsize=(30,30))\n",
    "plt.bar(trainX.columns, importance)\n",
    "plt.xticks(rotation = 45)\n",
    "plt.show()"
   ]
  },
  {
   "cell_type": "markdown",
   "metadata": {},
   "source": [
    "Come atteso, le reti neruali offrono ottimi risultati se utilizzate su grandi quantità di dati e sopratutto se addestrate continuamente nel tempo. Nel nostro caso, non avendo a disposizione una capacità computazionale elevata, abbiam dovuto limitare il numero di volte cui ogni data point viene utilizzato, `max_iter`, non giungendo dunque ad una convergenza assoluta sulla classificazione.  \n",
    "\n",
    "Inoltre, il numero di hidden layer e la loro dimensione dipende anche dalle caratteristiche della macchina che effettua l'addestramento. Ciò non ci ha permesso di aumentare eccessivamente la dimensione della rete, poichè avrebbe richiesto un tempo di addestramento troppo elevato. "
   ]
  },
  {
   "cell_type": "markdown",
   "metadata": {},
   "source": [
    "# Confronto e Conclusioni"
   ]
  }
 ],
 "metadata": {
  "kernelspec": {
   "display_name": "Python 3 (ipykernel)",
   "language": "python",
   "name": "python3"
  },
  "language_info": {
   "codemirror_mode": {
    "name": "ipython",
    "version": 3
   },
   "file_extension": ".py",
   "mimetype": "text/x-python",
   "name": "python",
   "nbconvert_exporter": "python",
   "pygments_lexer": "ipython3",
   "version": "3.10.5"
  },
  "vscode": {
   "interpreter": {
    "hash": "cd33f47137b00f9a3c223ad7cd7ea8009173bfffa8c9627ff61bae578e5b56e2"
   }
  }
 },
 "nbformat": 4,
 "nbformat_minor": 4
}
