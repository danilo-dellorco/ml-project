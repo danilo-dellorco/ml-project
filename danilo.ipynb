{
 "cells": [
  {
   "cell_type": "markdown",
   "metadata": {
    "jp-MarkdownHeadingCollapsed": true,
    "tags": []
   },
   "source": [
    "# Introduzione"
   ]
  },
  {
   "cell_type": "markdown",
   "metadata": {},
   "source": [
    "L'obiettivo è quello di analizzare il dataset sui funghi, e testare diversi classificatori per trovare il migliore nel classificare nuovi funghi come commestibili o velenosi. Il documento è composto come segue:\n",
    "\n",
    "- Data Exploration\n",
    "    - Analisi classi dataset\n",
    "    - Feature Selection\n",
    "    - Rimozione righe malformate\n",
    "- Test Classificatori\n",
    "    - Naive Bayes\n",
    "    - Random Forest\n",
    "    - ...\n",
    "    - ..."
   ]
  },
  {
   "cell_type": "markdown",
   "metadata": {},
   "source": [
    "Import delle librerie necessarie"
   ]
  },
  {
   "cell_type": "code",
   "execution_count": 2,
   "metadata": {},
   "outputs": [],
   "source": [
    "import pandas as pd\n",
    "import numpy as np\n",
    "import matplotlib.pyplot as plt\n",
    "import seaborn as sns\n",
    "from sklearn.preprocessing import LabelEncoder\n",
    "from sklearn.base import BaseEstimator\n",
    "from sklearn.base import TransformerMixin\n",
    "from sklearn.impute import KNNImputer\n",
    "from sklearn.feature_selection import VarianceThreshold\n",
    "from sklearn.model_selection import train_test_split\n",
    "#altri import futuri"
   ]
  },
  {
   "cell_type": "markdown",
   "metadata": {},
   "source": [
    "Caricamento del dataset"
   ]
  },
  {
   "cell_type": "code",
   "execution_count": 3,
   "metadata": {},
   "outputs": [
    {
     "data": {
      "text/html": [
       "<div>\n",
       "<style scoped>\n",
       "    .dataframe tbody tr th:only-of-type {\n",
       "        vertical-align: middle;\n",
       "    }\n",
       "\n",
       "    .dataframe tbody tr th {\n",
       "        vertical-align: top;\n",
       "    }\n",
       "\n",
       "    .dataframe thead th {\n",
       "        text-align: right;\n",
       "    }\n",
       "</style>\n",
       "<table border=\"1\" class=\"dataframe\">\n",
       "  <thead>\n",
       "    <tr style=\"text-align: right;\">\n",
       "      <th></th>\n",
       "      <th>encounter_id</th>\n",
       "      <th>patient_id</th>\n",
       "      <th>hospital_id</th>\n",
       "      <th>age</th>\n",
       "      <th>bmi</th>\n",
       "      <th>elective_surgery</th>\n",
       "      <th>ethnicity</th>\n",
       "      <th>gender</th>\n",
       "      <th>height</th>\n",
       "      <th>icu_admit_source</th>\n",
       "      <th>...</th>\n",
       "      <th>diabetes_mellitus</th>\n",
       "      <th>hepatic_failure</th>\n",
       "      <th>immunosuppression</th>\n",
       "      <th>leukemia</th>\n",
       "      <th>lymphoma</th>\n",
       "      <th>solid_tumor_with_metastasis</th>\n",
       "      <th>apache_3j_bodysystem</th>\n",
       "      <th>apache_2_bodysystem</th>\n",
       "      <th>Unnamed: 83</th>\n",
       "      <th>hospital_death</th>\n",
       "    </tr>\n",
       "  </thead>\n",
       "  <tbody>\n",
       "    <tr>\n",
       "      <th>0</th>\n",
       "      <td>66154</td>\n",
       "      <td>25312</td>\n",
       "      <td>118</td>\n",
       "      <td>68.0</td>\n",
       "      <td>22.73</td>\n",
       "      <td>0</td>\n",
       "      <td>Caucasian</td>\n",
       "      <td>M</td>\n",
       "      <td>180.3</td>\n",
       "      <td>Floor</td>\n",
       "      <td>...</td>\n",
       "      <td>1.0</td>\n",
       "      <td>0.0</td>\n",
       "      <td>0.0</td>\n",
       "      <td>0.0</td>\n",
       "      <td>0.0</td>\n",
       "      <td>0.0</td>\n",
       "      <td>Sepsis</td>\n",
       "      <td>Cardiovascular</td>\n",
       "      <td>NaN</td>\n",
       "      <td>0</td>\n",
       "    </tr>\n",
       "    <tr>\n",
       "      <th>1</th>\n",
       "      <td>114252</td>\n",
       "      <td>59342</td>\n",
       "      <td>81</td>\n",
       "      <td>77.0</td>\n",
       "      <td>27.42</td>\n",
       "      <td>0</td>\n",
       "      <td>Caucasian</td>\n",
       "      <td>F</td>\n",
       "      <td>160.0</td>\n",
       "      <td>Floor</td>\n",
       "      <td>...</td>\n",
       "      <td>1.0</td>\n",
       "      <td>0.0</td>\n",
       "      <td>0.0</td>\n",
       "      <td>0.0</td>\n",
       "      <td>0.0</td>\n",
       "      <td>0.0</td>\n",
       "      <td>Respiratory</td>\n",
       "      <td>Respiratory</td>\n",
       "      <td>NaN</td>\n",
       "      <td>0</td>\n",
       "    </tr>\n",
       "    <tr>\n",
       "      <th>2</th>\n",
       "      <td>119783</td>\n",
       "      <td>50777</td>\n",
       "      <td>118</td>\n",
       "      <td>25.0</td>\n",
       "      <td>31.95</td>\n",
       "      <td>0</td>\n",
       "      <td>Caucasian</td>\n",
       "      <td>F</td>\n",
       "      <td>172.7</td>\n",
       "      <td>Accident &amp; Emergency</td>\n",
       "      <td>...</td>\n",
       "      <td>0.0</td>\n",
       "      <td>0.0</td>\n",
       "      <td>0.0</td>\n",
       "      <td>0.0</td>\n",
       "      <td>0.0</td>\n",
       "      <td>0.0</td>\n",
       "      <td>Metabolic</td>\n",
       "      <td>Metabolic</td>\n",
       "      <td>NaN</td>\n",
       "      <td>0</td>\n",
       "    </tr>\n",
       "    <tr>\n",
       "      <th>3</th>\n",
       "      <td>79267</td>\n",
       "      <td>46918</td>\n",
       "      <td>118</td>\n",
       "      <td>81.0</td>\n",
       "      <td>22.64</td>\n",
       "      <td>1</td>\n",
       "      <td>Caucasian</td>\n",
       "      <td>F</td>\n",
       "      <td>165.1</td>\n",
       "      <td>Operating Room / Recovery</td>\n",
       "      <td>...</td>\n",
       "      <td>0.0</td>\n",
       "      <td>0.0</td>\n",
       "      <td>0.0</td>\n",
       "      <td>0.0</td>\n",
       "      <td>0.0</td>\n",
       "      <td>0.0</td>\n",
       "      <td>Cardiovascular</td>\n",
       "      <td>Cardiovascular</td>\n",
       "      <td>NaN</td>\n",
       "      <td>0</td>\n",
       "    </tr>\n",
       "    <tr>\n",
       "      <th>4</th>\n",
       "      <td>92056</td>\n",
       "      <td>34377</td>\n",
       "      <td>33</td>\n",
       "      <td>19.0</td>\n",
       "      <td>NaN</td>\n",
       "      <td>0</td>\n",
       "      <td>Caucasian</td>\n",
       "      <td>M</td>\n",
       "      <td>188.0</td>\n",
       "      <td>Accident &amp; Emergency</td>\n",
       "      <td>...</td>\n",
       "      <td>0.0</td>\n",
       "      <td>0.0</td>\n",
       "      <td>0.0</td>\n",
       "      <td>0.0</td>\n",
       "      <td>0.0</td>\n",
       "      <td>0.0</td>\n",
       "      <td>Trauma</td>\n",
       "      <td>Trauma</td>\n",
       "      <td>NaN</td>\n",
       "      <td>0</td>\n",
       "    </tr>\n",
       "  </tbody>\n",
       "</table>\n",
       "<p>5 rows × 85 columns</p>\n",
       "</div>"
      ],
      "text/plain": [
       "   encounter_id  patient_id  hospital_id   age    bmi  elective_surgery  \\\n",
       "0         66154       25312          118  68.0  22.73                 0   \n",
       "1        114252       59342           81  77.0  27.42                 0   \n",
       "2        119783       50777          118  25.0  31.95                 0   \n",
       "3         79267       46918          118  81.0  22.64                 1   \n",
       "4         92056       34377           33  19.0    NaN                 0   \n",
       "\n",
       "   ethnicity gender  height           icu_admit_source  ...  \\\n",
       "0  Caucasian      M   180.3                      Floor  ...   \n",
       "1  Caucasian      F   160.0                      Floor  ...   \n",
       "2  Caucasian      F   172.7       Accident & Emergency  ...   \n",
       "3  Caucasian      F   165.1  Operating Room / Recovery  ...   \n",
       "4  Caucasian      M   188.0       Accident & Emergency  ...   \n",
       "\n",
       "   diabetes_mellitus hepatic_failure immunosuppression  leukemia  lymphoma  \\\n",
       "0                1.0             0.0               0.0       0.0       0.0   \n",
       "1                1.0             0.0               0.0       0.0       0.0   \n",
       "2                0.0             0.0               0.0       0.0       0.0   \n",
       "3                0.0             0.0               0.0       0.0       0.0   \n",
       "4                0.0             0.0               0.0       0.0       0.0   \n",
       "\n",
       "   solid_tumor_with_metastasis  apache_3j_bodysystem  apache_2_bodysystem  \\\n",
       "0                          0.0                Sepsis       Cardiovascular   \n",
       "1                          0.0           Respiratory          Respiratory   \n",
       "2                          0.0             Metabolic            Metabolic   \n",
       "3                          0.0        Cardiovascular       Cardiovascular   \n",
       "4                          0.0                Trauma               Trauma   \n",
       "\n",
       "   Unnamed: 83  hospital_death  \n",
       "0          NaN               0  \n",
       "1          NaN               0  \n",
       "2          NaN               0  \n",
       "3          NaN               0  \n",
       "4          NaN               0  \n",
       "\n",
       "[5 rows x 85 columns]"
      ]
     },
     "execution_count": 3,
     "metadata": {},
     "output_type": "execute_result"
    }
   ],
   "source": [
    "dataset = pd.read_csv(\"dataset/dataset.csv\", sep=\",\")\n",
    "dataset_bak = dataset\n",
    "dataset.head()"
   ]
  },
  {
   "cell_type": "markdown",
   "metadata": {
    "jp-MarkdownHeadingCollapsed": true,
    "tags": []
   },
   "source": [
    "# Data Exploration"
   ]
  },
  {
   "cell_type": "markdown",
   "metadata": {
    "tags": []
   },
   "source": [
    "## Class Balancing"
   ]
  },
  {
   "cell_type": "markdown",
   "metadata": {},
   "source": [
    "Siamo interessati a classificare i pazienti ricoverati come 'in pericolo di vita' oppure 'in salute'. Per questo motivo identifichiamo le due classi di interesse a partire dalla colonna ```hospital_death``` del dataset. Vogliamo vedere quanto sono bilanciate le classi del dataset."
   ]
  },
  {
   "cell_type": "code",
   "execution_count": 4,
   "metadata": {},
   "outputs": [
    {
     "data": {
      "image/png": "[encoded data removed]",
      "text/plain": [
       "<Figure size 576x432 with 1 Axes>"
      ]
     },
     "metadata": {},
     "output_type": "display_data"
    }
   ],
   "source": [
    "classes = [{\"Survived\": (dataset[\"hospital_death\"] == 0).sum(), \"Dead\": (dataset[\"hospital_death\"] == 1).sum()}]\n",
    "total  = pd.DataFrame(classes)\n",
    "total_e = float(total[\"Survived\"])\n",
    "total_p = float(total[\"Dead\"])\n",
    "mushrooms = [total_e, total_p]\n",
    "mushrooms_labels = 'Survived','Dead'\n",
    "fig, ax = plt.subplots(figsize = (8,6))\n",
    "plt.pie(mushrooms,labels=mushrooms,autopct='%1.1f%%',colors = ['#88d14f', '#f23d3a'])\n",
    "plt.title('Dataset Balancing', loc = \"center\", fontsize=\"20\")\n",
    "plt.axis('equal')\n",
    "plt.legend(mushrooms_labels,bbox_to_anchor=(0.6, -0.05, 0, 0))\n",
    "fig.set_facecolor('white')\n",
    "plt.show()"
   ]
  },
  {
   "cell_type": "markdown",
   "metadata": {},
   "source": [
    "Come possiamo vedere il dataset è altamente sbilanciato. Infatti abbiamo il 91.4% di righe che riportano dati per un paziente sopravvissuto, mentre solo l'8.6% di dati per un paziente deceduto. Ciò implica dire che qualsiasi modello allenato su un training set ricavato da tale dataset tenderà maggiormente a classificare un'istanza come 'survived', aspettandoci quindi molti falsi negativi. (Positivo = death, Negativo = survived)"
   ]
  },
  {
   "cell_type": "markdown",
   "metadata": {
    "jp-MarkdownHeadingCollapsed": true,
    "tags": []
   },
   "source": [
    "## Visualizzazione features"
   ]
  },
  {
   "cell_type": "markdown",
   "metadata": {},
   "source": [
    "Andiamo a visualizzare la distribuzione delle features all'interno del dataset, riportando in un barplot le variabili categoriche e in un histplot le variabili numeriche."
   ]
  },
  {
   "cell_type": "code",
   "execution_count": 8,
   "metadata": {},
   "outputs": [
    {
     "name": "stdout",
     "output_type": "stream",
     "text": [
      "categ ['ethnicity', 'gender', 'icu_admit_source', 'icu_stay_type', 'icu_type', 'apache_3j_bodysystem', 'apache_2_bodysystem']\n",
      "ordin ['encounter_id', 'patient_id', 'hospital_id', 'age', 'bmi', 'elective_surgery', 'height', 'icu_id', 'pre_icu_los_days', 'weight', 'apache_2_diagnosis', 'apache_3j_diagnosis', 'apache_post_operative', 'arf_apache', 'gcs_eyes_apache', 'gcs_motor_apache', 'gcs_unable_apache', 'gcs_verbal_apache', 'heart_rate_apache', 'intubated_apache', 'map_apache', 'resprate_apache', 'temp_apache', 'ventilated_apache', 'd1_diasbp_max', 'd1_diasbp_min', 'd1_diasbp_noninvasive_max', 'd1_diasbp_noninvasive_min', 'd1_heartrate_max', 'd1_heartrate_min', 'd1_mbp_max', 'd1_mbp_min', 'd1_mbp_noninvasive_max', 'd1_mbp_noninvasive_min', 'd1_resprate_max', 'd1_resprate_min', 'd1_spo2_max', 'd1_spo2_min', 'd1_sysbp_max', 'd1_sysbp_min', 'd1_sysbp_noninvasive_max', 'd1_sysbp_noninvasive_min', 'd1_temp_max', 'd1_temp_min', 'h1_diasbp_max', 'h1_diasbp_min', 'h1_diasbp_noninvasive_max', 'h1_diasbp_noninvasive_min', 'h1_heartrate_max', 'h1_heartrate_min', 'h1_mbp_max', 'h1_mbp_min', 'h1_mbp_noninvasive_max', 'h1_mbp_noninvasive_min', 'h1_resprate_max', 'h1_resprate_min', 'h1_spo2_max', 'h1_spo2_min', 'h1_sysbp_max', 'h1_sysbp_min', 'h1_sysbp_noninvasive_max', 'h1_sysbp_noninvasive_min', 'd1_glucose_max', 'd1_glucose_min', 'd1_potassium_max', 'd1_potassium_min', 'apache_4a_hospital_death_prob', 'apache_4a_icu_death_prob', 'aids', 'cirrhosis', 'diabetes_mellitus', 'hepatic_failure', 'immunosuppression', 'leukemia', 'lymphoma', 'solid_tumor_with_metastasis', 'Unnamed: 83', 'hospital_death']\n",
      "encounter_id\n",
      "patient_id\n",
      "hospital_id\n",
      "age\n",
      "bmi\n",
      "elective_surgery\n",
      "ethnicity\n",
      "gender\n",
      "height\n",
      "icu_admit_source\n",
      "icu_id\n",
      "icu_stay_type\n",
      "icu_type\n",
      "pre_icu_los_days\n",
      "weight\n",
      "apache_2_diagnosis\n",
      "apache_3j_diagnosis\n",
      "apache_post_operative\n",
      "arf_apache\n",
      "gcs_eyes_apache\n",
      "gcs_motor_apache\n",
      "gcs_unable_apache\n",
      "gcs_verbal_apache\n",
      "heart_rate_apache\n",
      "intubated_apache\n",
      "map_apache\n",
      "resprate_apache\n",
      "temp_apache\n",
      "ventilated_apache\n",
      "d1_diasbp_max\n",
      "d1_diasbp_min\n",
      "d1_diasbp_noninvasive_max\n",
      "d1_diasbp_noninvasive_min\n",
      "d1_heartrate_max\n",
      "d1_heartrate_min\n",
      "d1_mbp_max\n",
      "d1_mbp_min\n",
      "d1_mbp_noninvasive_max\n",
      "d1_mbp_noninvasive_min\n",
      "d1_resprate_max\n",
      "d1_resprate_min\n",
      "d1_spo2_max\n",
      "d1_spo2_min\n",
      "d1_sysbp_max\n",
      "d1_sysbp_min\n",
      "d1_sysbp_noninvasive_max\n",
      "d1_sysbp_noninvasive_min\n",
      "d1_temp_max\n",
      "d1_temp_min\n",
      "h1_diasbp_max\n",
      "h1_diasbp_min\n",
      "h1_diasbp_noninvasive_max\n",
      "h1_diasbp_noninvasive_min\n",
      "h1_heartrate_max\n",
      "h1_heartrate_min\n",
      "h1_mbp_max\n",
      "h1_mbp_min\n",
      "h1_mbp_noninvasive_max\n",
      "h1_mbp_noninvasive_min\n",
      "h1_resprate_max\n",
      "h1_resprate_min\n",
      "h1_spo2_max\n",
      "h1_spo2_min\n",
      "h1_sysbp_max\n",
      "h1_sysbp_min\n",
      "h1_sysbp_noninvasive_max\n",
      "h1_sysbp_noninvasive_min\n",
      "d1_glucose_max\n",
      "d1_glucose_min\n",
      "d1_potassium_max\n",
      "d1_potassium_min\n",
      "apache_4a_hospital_death_prob\n",
      "apache_4a_icu_death_prob\n",
      "aids\n",
      "cirrhosis\n",
      "diabetes_mellitus\n",
      "hepatic_failure\n",
      "immunosuppression\n",
      "leukemia\n",
      "lymphoma\n",
      "solid_tumor_with_metastasis\n",
      "apache_3j_bodysystem\n",
      "apache_2_bodysystem\n",
      "Unnamed: 83\n",
      "hospital_death\n"
     ]
    }
   ],
   "source": [
    "colors = ['xkcd:pale orange', 'xkcd:sea blue', 'xkcd:pale red', 'xkcd:sage green', 'xkcd:terra cotta', 'xkcd:dull purple', 'xkcd:teal', 'xkcd:goldenrod', 'xkcd:cadet blue', \n",
    "          'xkcd:scarlet']\n",
    "categ = []\n",
    "categ_int = []\n",
    "ordin = []\n",
    "\n",
    "for col in dataset: \n",
    "    dt = dataset[col].dtype\n",
    "    if dt == \"object\":\n",
    "        categ.append(col)\n",
    "    elif dt == \"float64\" or dt == \"int64\":\n",
    "        ordin.append(col)\n",
    "\n",
    "fig = plt.figure(figsize=(120,120),dpi=200)\n",
    "j=1\n",
    "c=0\n",
    "o=0\n",
    "for i in range(0, len(dataset.columns)):\n",
    "\n",
    "    print(dataset.columns[i])\n",
    "    if dataset.columns[i] in categ:\n",
    "        fig.add_subplot(10,10,j)\n",
    "        ax = sns.countplot(x=categ[c], data=dataset, alpha=.7)\n",
    "        ax.set_xticklabels(ax.get_xticklabels(),rotation = 45)\n",
    "        j += 1\n",
    "        c += 1\n",
    "\n",
    "    elif dataset.columns[i] in ordin:\n",
    "        fig.add_subplot(10,10,j)\n",
    "        sns.histplot(dataset[ordin[o]].dropna(), kde_kws={\"lw\": 2, \"color\":colors[8]})\n",
    "        j += 1\n",
    "        o += 1\n"
   ]
  },
  {
   "cell_type": "markdown",
   "metadata": {
    "jp-MarkdownHeadingCollapsed": true,
    "tags": []
   },
   "source": [
    "## Visualizzazione campi non nulli"
   ]
  },
  {
   "cell_type": "markdown",
   "metadata": {},
   "source": [
    "Visualizzazione campi non nulli per ogni colonna/feature del dataset. Questo ci serve per vedere eventuali colonne che possono poi essere rimosse"
   ]
  },
  {
   "cell_type": "code",
   "execution_count": null,
   "metadata": {},
   "outputs": [],
   "source": [
    "def plot_nas(training_X: pd.DataFrame, threshold, use_treshold):\n",
    "    to_delete = []\n",
    "    if training_X.isnull().sum().sum() != 0:\n",
    "        na_training_X = (training_X.isnull().sum() / len(training_X)) * 100\n",
    "        na_training_X = na_training_X.drop(na_training_X[na_training_X == 0].index).sort_values(ascending=False)\n",
    "        to_delete = na_training_X[na_training_X > threshold]\n",
    "\n",
    "        missing_data = pd.DataFrame({'Null Ratio %' :na_training_X})\n",
    "        missing_data.plot(kind = \"barh\")\n",
    "        plt.rcParams['figure.figsize'] = (20,20)\n",
    "\n",
    "        if use_treshold:\n",
    "            plt.axvline(x=50, color='red')\n",
    "            plt.text(45,-1,'thr = 50', color = 'red')\n",
    "        plt.show()\n",
    "        \n",
    "    else:\n",
    "        print('No NAs found')\n",
    "    return to_delete.index.tolist()\n",
    "        \n",
    "\n",
    "plot_nas(dataset,50,False)"
   ]
  },
  {
   "cell_type": "markdown",
   "metadata": {},
   "source": [
    "Analizzando la distribuzione delle varie features possiamo vedere come il dataset sia di buona qualità, avendo pochi campi non nulli. Tuttavia la feature ```unnamed83``` presenta soltanto campi nulli, e quindi verrà eliminata in una successiva fase di pulizia del dataset.\n",
    "\n",
    "Le restanti features presentano valori NaN per una percentuale sempre inferiore al 20%, motivo per cui possiamo procedere con una imputazione di tali dati, senza introdurre un rumore eccessivo nel dataset. "
   ]
  },
  {
   "cell_type": "markdown",
   "metadata": {
    "tags": []
   },
   "source": [
    "## Conversione Features e Mapping"
   ]
  },
  {
   "cell_type": "markdown",
   "metadata": {},
   "source": [
    "Conversione delle features categoriche in nominali, si modifica prima il tipo di dato dei valori delle features da ```object``` in ```category``` per poi procedere con l'effettiva trasformazione dei valori categorici."
   ]
  },
  {
   "cell_type": "markdown",
   "metadata": {},
   "source": [
    "Si trasformano i valori categorici in numerici (int64) e si salva il dizionario che mantiene il mapping per un eventuale utilizzo futuro."
   ]
  },
  {
   "cell_type": "code",
   "execution_count": null,
   "metadata": {},
   "outputs": [],
   "source": [
    "mapped_dataset = dataset.copy()\n",
    "encoder = LabelEncoder()\n",
    "mapping = []\n",
    "\n",
    "for i in range(len(mapped_dataset.columns)):\n",
    "    \n",
    "    if (mapped_dataset[mapped_dataset.columns[i]].dtype == \"object\"):\n",
    "            mapped_dataset[mapped_dataset.columns[i]] = encoder.fit_transform(mapped_dataset[mapped_dataset.columns[i]])\n",
    "            mapping_dict = {index : label for index , label in enumerate(encoder.classes_)}\n",
    "            mapping.append(mapping_dict)\n",
    "\n",
    "mapped_dataset = mapped_dataset.where(~dataset.isna(), dataset)\n",
    "mapped_dataset.info()\n"
   ]
  },
  {
   "cell_type": "markdown",
   "metadata": {},
   "source": [
    "Visualizziamo il mapping effettuato delle variabili categoriche.\n",
    "\n",
    "- _NOTA_: I valori NaN risultano mappati nel dizionario, ma tramite la clausola ```where(~dataset.isna(), dataset)``` ristabiliamo i valori NaN originali per la successiva fase di imputazione dei dati."
   ]
  },
  {
   "cell_type": "code",
   "execution_count": null,
   "metadata": {},
   "outputs": [],
   "source": [
    "print(mapping)"
   ]
  },
  {
   "cell_type": "markdown",
   "metadata": {},
   "source": [
    "Completiamo trasformando il tipo di dato associato alle features categoriche da ```object``` in ```float64```, oggetto che accetta valori interi nulli."
   ]
  },
  {
   "cell_type": "code",
   "execution_count": null,
   "metadata": {},
   "outputs": [],
   "source": [
    "for el in mapped_dataset.columns:\n",
    "    if (mapped_dataset[el].dtype == \"object\"):\n",
    "        mapped_dataset[el] = np.floor(pd.to_numeric(mapped_dataset[el], errors='coerce')).astype('float64')"
   ]
  },
  {
   "cell_type": "markdown",
   "metadata": {},
   "source": [
    "Vediamo che abbiamo mappato le nostre variabili categoriche in variabili ordinali. I valori nulli sono stati mantenuti <NaN> per una successiva fase di imputazione. "
   ]
  },
  {
   "cell_type": "code",
   "execution_count": null,
   "metadata": {},
   "outputs": [],
   "source": [
    "mapped_dataset.info()"
   ]
  },
  {
   "cell_type": "markdown",
   "metadata": {
    "tags": []
   },
   "source": [
    "## Feature Correlation"
   ]
  },
  {
   "cell_type": "markdown",
   "metadata": {},
   "source": [
    "Vediamo il grado di correlazione reciproco tra le varie feature, compresa la correlazione di ogni feature con il target. In generale vogliamo che una feature sia altamente correlata con il target (quindi che il suo valore sia importante per discriminare se il paziente sopravvive o muore). Una correlazione alta è sia positiva (aumento del valore di uno aumenta il valore dell'altro) che negativa (aumento del valore di uno diminuisce il valore dell'altro). Una correlazione vicina allo zero implica che le variabili sono indipendenti tra loro."
   ]
  },
  {
   "cell_type": "code",
   "execution_count": null,
   "metadata": {},
   "outputs": [],
   "source": [
    "# Rimozione di unnamed83 dalla heatmap, avendo solo valori NaN\n",
    "mapped_dataset = mapped_dataset.drop(columns = 'Unnamed: 83')\n",
    "\n",
    "plt.figure(figsize=(32,24), dpi=300)\n",
    "correlation_matrix = mapped_dataset.corr()\n",
    "sns.heatmap(correlation_matrix, linewidths=0.05, cmap=\"PiYG\")\n",
    "plt.yticks(rotation=0)\n",
    "plt.show()"
   ]
  },
  {
   "cell_type": "markdown",
   "metadata": {
    "jp-MarkdownHeadingCollapsed": true,
    "tags": []
   },
   "source": [
    "# Training & Test Set Splitting"
   ]
  },
  {
   "cell_type": "markdown",
   "metadata": {},
   "source": [
    "Andiamo a splittare il dataset in training e stesting set. Utilizziamo come percentuali 80/20"
   ]
  },
  {
   "cell_type": "code",
   "execution_count": null,
   "metadata": {},
   "outputs": [],
   "source": [
    "targets = mapped_dataset['hospital_death']\n",
    "trainX, testX, trainY, testY = train_test_split(mapped_dataset.drop(columns = 'hospital_death'), targets, test_size = 0.2, random_state=0)\n",
    "print(\"TrainingSet: {}\".format(trainX.shape))\n",
    "print(\"TestingSet: {}\".format(testX.shape))"
   ]
  },
  {
   "cell_type": "markdown",
   "metadata": {
    "jp-MarkdownHeadingCollapsed": true,
    "tags": []
   },
   "source": [
    "# Results on Original Dataset"
   ]
  },
  {
   "cell_type": "markdown",
   "metadata": {},
   "source": [
    "Andiamo a misurare le prestazioni di vari classificatori sul dataset originale, quindi senza ingegneria delle features e imputazione dei valori mancanti. \n",
    "- I classificatori considerati non gestiscono in modo automatico i valori ```NaN```\n",
    "- Per eseguire la classificazione è comunque necessario mappare i valori ```NaN``` su un qualche valore numerico\n",
    "- Si utilizza per questa fase di benchmark l'operatore ```fillna(-1)``` sostituendo quindi ```NaN``` con ```-1```"
   ]
  },
  {
   "cell_type": "code",
   "execution_count": null,
   "metadata": {},
   "outputs": [],
   "source": [
    "from sklearn.linear_model import LogisticRegression\n",
    "from sklearn.tree import DecisionTreeClassifier\n",
    "from sklearn.naive_bayes import GaussianNB\n",
    "from sklearn.metrics import classification_report, confusion_matrix\n",
    "\n",
    "# TODO questi poi vanno imputati, sono utili solo per sti score di base\n",
    "trainX = trainX.fillna(-1)\n",
    "trainY = trainY.fillna(-1)\n",
    "testX = testX.fillna(-1)\n",
    "lr = LogisticRegression(solver=\"liblinear\")           # liblinear dalla documentazione dice che è ottimo per \n",
    "rdt = DecisionTreeClassifier()\n",
    "gnb = GaussianNB()\n",
    "\n",
    "rdt.fit(trainX, trainY)\n",
    "lr.fit(trainX, trainY)\n",
    "gnb.fit(trainX, trainY)\n",
    "\n",
    "# TODO altri classificatori in una lista e cose varie\n",
    "lr_targets_predicted = lr.predict(testX)\n",
    "rdt_targets_predicted = rdt.predict(testX)\n",
    "gnb_targets_predicted = gnb.predict(testX)\n",
    "\n",
    "print(\"Logistic Regression Classifier report: \\n\\n\", classification_report(testY, lr_targets_predicted))\n",
    "print(\"Decision Tree Classifier report: \\n\\n\", classification_report(testY, rdt_targets_predicted))\n",
    "print(\"Gaussian Naive Bayes Classifier report: \\n\\n\", classification_report(testY, gnb_targets_predicted))\n",
    "\n",
    "\n",
    "#cm = confusion_matrix(testY, lr_targets_predicted)\n",
    "#x_axis_labels = [\"Edible\", \"Poisonous\"]\n",
    "#y_axis_labels = [\"Edible\", \"Poisonous\"]\n",
    "#f, ax = plt.subplots(figsize =(7,7))\n",
    "#sns.heatmap(cm, annot = True, linewidths=0.2, linecolor=\"black\", fmt = \".0f\", ax=ax, cmap=\"Reds\", xticklabels=x_axis_labels, yticklabels=y_axis_labels)\n",
    "#plt.xlabel(\"PREDICTED LABEL\")\n",
    "#plt.ylabel(\"TRUE LABEL\")\n",
    "#plt.title('Confusion Matrix for Logistic Regression Classifier')\n",
    "#plt.show()"
   ]
  },
  {
   "cell_type": "markdown",
   "metadata": {
    "tags": []
   },
   "source": [
    "# Training Set Cleaning"
   ]
  },
  {
   "cell_type": "markdown",
   "metadata": {},
   "source": [
    "Andiamo ad eseguire diverse operazioni per rimuovere rumore dal dataset\n",
    "- Rimozione feature nulle e con bassa varianza\n",
    "- Feature Selection\n",
    "- PCA\n",
    "- Data Imputation"
   ]
  },
  {
   "cell_type": "markdown",
   "metadata": {
    "jp-MarkdownHeadingCollapsed": true,
    "tags": []
   },
   "source": [
    "## Feature Selection"
   ]
  },
  {
   "cell_type": "markdown",
   "metadata": {},
   "source": [
    "Prova con feature selection"
   ]
  },
  {
   "cell_type": "code",
   "execution_count": null,
   "metadata": {},
   "outputs": [],
   "source": [
    "import statsmodels.api as sm\n",
    "\n",
    "Selected_Features = []\n",
    "\n",
    "\n",
    "def backward_regression(X, y, initial_list=[], threshold_in=0.01, threshold_out=0.05, verbose=True):\n",
    "    \n",
    "    included = list(X.columns)\n",
    "    while True:\n",
    "        changed = False\n",
    "        model = sm.OLS(y, sm.add_constant(pd.DataFrame(X[included]))).fit()\n",
    "        # use all coefs except intercept\n",
    "        pvalues = model.pvalues.iloc[1:]\n",
    "        worst_pval = pvalues.max()  # null if pvalues is empty\n",
    "        if worst_pval > threshold_out:\n",
    "            changed = True\n",
    "            worst_feature = pvalues.idxmax()\n",
    "            included.remove(worst_feature)\n",
    "            if verbose:\n",
    "                print(f\"worst_feature : {worst_feature}, {worst_pval} \")\n",
    "        if not changed:\n",
    "            break\n",
    "    Selected_Features.append(included)\n",
    "    print(f\"\\nSelected Features:\\n{Selected_Features[0]}\")\n",
    "    \n",
    "    \n",
    "backward_regression(trainX.fillna(-1), trainY)"
   ]
  },
  {
   "cell_type": "markdown",
   "metadata": {},
   "source": [
    "Prova con la feature selection a casaccio"
   ]
  },
  {
   "cell_type": "code",
   "execution_count": null,
   "metadata": {},
   "outputs": [],
   "source": [
    "trainX_f = trainX_f.fillna(-1)\n",
    "trainY = trainY.fillna(-1)\n",
    "testX_f = testX_f.fillna(-1)\n",
    "lr = LogisticRegression(solver=\"liblinear\")           # liblinear dalla documentazione dice che è ottimo per \n",
    "rdt = DecisionTreeClassifier()\n",
    "gnb = GaussianNB()\n",
    "\n",
    "rdt.fit(trainX_f, trainY)\n",
    "lr.fit(trainX_f, trainY)\n",
    "gnb.fit(trainX_f, trainY)\n",
    "\n",
    "# TODO altri classificatori in una lista e cose varie\n",
    "lr_targets_predicted = lr.predict(testX_f)\n",
    "rdt_targets_predicted = rdt.predict(testX_f)\n",
    "gnb_targets_predicted = gnb.predict(testX_f)\n",
    "\n",
    "print(\"Logistic Regression Classifier report: \\n\\n\", classification_report(testY, lr_targets_predicted))\n",
    "print(\"Decision Tree Classifier report: \\n\\n\", classification_report(testY, rdt_targets_predicted))\n",
    "print(\"Gaussian Naive Bayes Classifier report: \\n\\n\", classification_report(testY, gnb_targets_predicted))"
   ]
  },
  {
   "cell_type": "markdown",
   "metadata": {
    "tags": []
   },
   "source": [
    "# Classificazione\n",
    "Sono stati analizzati i risultati ottenuti dai seguenti modelli:\n",
    "* Naive Bayes\n",
    "* "
   ]
  },
  {
   "cell_type": "markdown",
   "metadata": {},
   "source": [
    "Visualizziamo il balancing del training set"
   ]
  },
  {
   "cell_type": "code",
   "execution_count": null,
   "metadata": {},
   "outputs": [],
   "source": [
    "classes = [{\"Survived\": (trainY== 0).sum(), \"Dead\": (trainY== 1).sum()}]\n",
    "total  = pd.DataFrame(classes)\n",
    "total_e = float(total[\"Survived\"])\n",
    "total_p = float(total[\"Dead\"])\n",
    "mushrooms = [total_e, total_p]\n",
    "mushrooms_labels = 'Survived','Dead'\n",
    "fig, ax = plt.subplots(figsize = (8,6))\n",
    "plt.pie(mushrooms,labels=mushrooms,autopct='%1.1f%%',colors = ['#88d14f', '#f23d3a'])\n",
    "plt.title('Dataset Balancing', loc = \"center\", fontsize=\"20\")\n",
    "plt.axis('equal')\n",
    "plt.legend(mushrooms_labels,bbox_to_anchor=(0.6, -0.05, 0, 0))\n",
    "fig.set_facecolor('white')\n",
    "plt.show()"
   ]
  },
  {
   "cell_type": "markdown",
   "metadata": {},
   "source": [
    "Proviamo a bilanciare"
   ]
  },
  {
   "cell_type": "code",
   "execution_count": null,
   "metadata": {},
   "outputs": [],
   "source": [
    "from imblearn.under_sampling import RandomUnderSampler\n",
    "from imblearn.over_sampling import RandomOverSampler\n",
    "\n",
    "num_survd = (trainY== 0).sum()\n",
    "num_death = (trainY== 1).sum()\n",
    "\n",
    "num_under = num_survd - num_death\n",
    "print (num_under)\n",
    "\n",
    "rus = RandomOverSampler(random_state=0)\n",
    "#trainX,trainY = rus.fit_resample(trainX.fillna(-1),trainY.fillna(-1))"
   ]
  },
  {
   "cell_type": "markdown",
   "metadata": {},
   "source": [
    "Vediamo dai risultati che peggiorano tutte le metriche applicando il balancing."
   ]
  },
  {
   "cell_type": "code",
   "execution_count": null,
   "metadata": {},
   "outputs": [],
   "source": [
    "# TODO"
   ]
  },
  {
   "cell_type": "markdown",
   "metadata": {},
   "source": [
    "Tiene solo le features selezionate"
   ]
  },
  {
   "cell_type": "code",
   "execution_count": null,
   "metadata": {},
   "outputs": [],
   "source": [
    "trainX_f = trainX.loc[:, Selected_Features[0]]\n",
    "testX_f = testX.loc[:, Selected_Features[0]]\n",
    "\n",
    "trainX_f.shape"
   ]
  },
  {
   "cell_type": "markdown",
   "metadata": {},
   "source": [
    "Vediamo i risultati base ottenuti dai classificatori considerati nel training set originale. Utilizzeremo questi per vedere se e come l'ingegneria delle features ed il cleaning del dataset permettono di migliorare la qualità del dataset e quindi del modello."
   ]
  }
 ],
 "metadata": {
  "kernelspec": {
   "display_name": "Python 3 (ipykernel)",
   "language": "python",
   "name": "python3"
  },
  "language_info": {
   "codemirror_mode": {
    "name": "ipython",
    "version": 3
   },
   "file_extension": ".py",
   "mimetype": "text/x-python",
   "name": "python",
   "nbconvert_exporter": "python",
   "pygments_lexer": "ipython3",
   "version": "3.10.2"
  },
  "vscode": {
   "interpreter": {
    "hash": "cd33f47137b00f9a3c223ad7cd7ea8009173bfffa8c9627ff61bae578e5b56e2"
   }
  }
 },
 "nbformat": 4,
 "nbformat_minor": 4
}
